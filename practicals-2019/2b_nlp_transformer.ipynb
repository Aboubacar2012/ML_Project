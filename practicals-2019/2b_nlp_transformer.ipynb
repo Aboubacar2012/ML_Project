{
  "nbformat": 4,
  "nbformat_minor": 0,
  "metadata": {
    "accelerator": "GPU",
    "colab": {
      "name": "Khipu Practical 2B -- The Transformer Architecture for NLP",
      "provenance": [],
      "collapsed_sections": [
        "yQxSdi6ooSRk"
      ]
    },
    "kernelspec": {
      "display_name": "Python 3",
      "language": "python",
      "name": "python3"
    },
    "language_info": {
      "codemirror_mode": {
        "name": "ipython",
        "version": 3
      },
      "file_extension": ".py",
      "mimetype": "text/x-python",
      "name": "python",
      "nbconvert_exporter": "python",
      "pygments_lexer": "ipython3",
      "version": "3.7.4"
    }
  },
  "cells": [
    {
      "cell_type": "code",
      "metadata": {
        "colab_type": "code",
        "id": "d3c6Fhb-UDEn",
        "cellView": "form",
        "colab": {}
      },
      "source": [
        "#@title Requirements\n",
        "#@markdown Run this cell before start reading, because it will take some time :)\n",
        "\n",
        "!pip install torchtext spacy==2.0.10\n",
        "!python -m spacy download en\n",
        "!python -m spacy download de"
      ],
      "execution_count": 0,
      "outputs": []
    },
    {
      "cell_type": "markdown",
      "metadata": {
        "colab_type": "text",
        "id": "FEvZ2DaQ-ooj"
      },
      "source": [
        "# Introduction \n",
        "The Transformer from [\"Attention is All You Need\"](https://arxiv.org/abs/1706.03762) is a groundbreaking neural network architecture that quickly became a new standard for NLP. Besides producing major improvements in translation quality, it paved the way for a new family of related architectures used for many other NLP tasks. For example, for language modeling, architectures based on the Transformer were used to generate [impressively realistic random pieces of text](https://openai.com/blog/better-language-models/). In this practical we will review an \"annotated\" version of the paper in the form of a line-by-line implementation. Sections from the original paper were quoted directly and comments were added throughout. \n",
        "\n",
        "Once we introduce the architecture and understand the self-attention mechanism, we will use them for a machine translation application using the original Transformer architecture. If you want to explore further, we have prepared an [extra notebook](https://github.com/khipu-ai/practicals-2019/blob/master/2b_nlp_transformer_extra.ipynb) adapting the code viewed here for a Language Modeling task using a model similar to \n",
        "OpenAI's famous [GPT-2](https://openai.com/blog/better-language-models/), which actually requires only minor modifications to the Transformer.\n",
        "\n",
        "This notebook is a bit long so we recommend using the table of contents on the left for a better browsing experience.\n"
      ]
    },
    {
      "cell_type": "markdown",
      "metadata": {
        "colab_type": "text",
        "id": "BLZe4-bYhbxC"
      },
      "source": [
        "## Disclaimer\n",
        "\n",
        "This notebook was adapted with permission from [The Annotated Transformer](http://nlp.seas.harvard.edu/2018/04/03/attention.html) by Alexander Rush. \n",
        "The original post presents a line-by-line implementation of the paper, with some additional comments. We have adapted and expanded some of Rush's comments, but for others we are quoting them directly with a \"**Rush**\" tag in front.\n",
        "\n",
        "The code is based heavily on [OpenNMT](http://opennmt.net) packages.\n",
        "For other full-sevice implementations of the model check-out [Tensor2Tensor](https://github.com/tensorflow/tensor2tensor) (tensorflow), [Sockeye](https://github.com/awslabs/sockeye) (mxnet) and the [Hugging Face library](https://github.com/huggingface/transformers) (torch and tensorflow).\n",
        "\n",
        "Even thought this follows the order of the paper, we recommend you do a quick read before you start to get a general sense of what is going to happen.\n",
        "\n",
        "Adaptated for [Khipu](https://khipu.ai) by Diego de Las Casas, Roberto de Moura, José Lezama and Igor Quintanilha."
      ]
    },
    {
      "cell_type": "markdown",
      "metadata": {
        "id": "0el8GgvrptKe",
        "colab_type": "text"
      },
      "source": [
        "**IMPORTANT: Please fill out the exit ticket form before you leave the practical: https://forms.gle/vr21ZgYtTGcsAdnz7**"
      ]
    },
    {
      "cell_type": "markdown",
      "metadata": {
        "colab_type": "text",
        "id": "Z2eQl24XQnno"
      },
      "source": [
        "# Background"
      ]
    },
    {
      "cell_type": "markdown",
      "metadata": {
        "colab_type": "text",
        "id": "E-O8fniV3mNI"
      },
      "source": [
        "## Sequence-to-Sequence Modeling\n",
        "\n",
        "The Transformer is a neural architecture used for Sequence-to-Sequence modeling. These architectures model functions that transform an input sequence into an output sequence, both of arbitrary length. (Another architecture of this family you may be familiar with are recurrent neural networks.) In the Transformer, a feature vector representation is obtained for each element of the sequences (e.g. each word in NLP), via parameterized transformations. Central to the Transformer is a transformation based on the **self-attention** concept, which we will explore later in this notebook. Finally, these representations are used to compute the probability of the next element in the output sequence. Namely, if $x^i$ and $x^o$ are the input and output sequences of $n_i$ and $n_o$ elements respectively, the Transformer models the probability of the next output element considering the entire input sequence and all the output elements predicted so far:\n",
        "$$P(x^o_j | x^i_1\\ldots x^i_{n_i}, x^o_1\\ldots x^o_{j-1}) ~~~~~~\\text{for } j=1\\ldots n_o$$  \n",
        "\n",
        "As we shall see, one important advantage of the Transformer is that it is able to compute these probabilities for all output elements in parallel *during training*, achieving improved computational efficiency compared to recurrent neural networks.\n"
      ]
    },
    {
      "cell_type": "markdown",
      "metadata": {
        "colab_type": "text",
        "id": "g-K2t034Qnnz"
      },
      "source": [
        "## Overview\n",
        "A Transformer architecture is divided into an Encoder and a Decoder part. As we mentioned, the Transformer uses parameterized transformations to obtain vector representations of each word. The Encoder part computes the representation of the input sequence, and the generates the output sequence. One of the parameterized transformations used in the Transformer is based on the **attention** mechanism, which expresses the dependency of one word with the other words in the sequence. We will explain this in detail later, but for now you can see the effect of attention in the animation below (from [Google's blog](https://ai.googleblog.com/2017/08/transformer-novel-neural-network.html)). Observe how the representation of each word in a sequence depends on the other words. We call *encoding* the process of finding the representations of the input words or tokens, and *decoding* those of the output words. Notice that for the output words, they can only \"attend to\" previous words that have already been determined.\n",
        "\n",
        "\n",
        "![modalnet](https://3.bp.blogspot.com/-aZ3zvPiCoXM/WaiKQO7KRnI/AAAAAAAAB_8/7a1CYjp40nUg4lKpW7covGZJQAySxlg8QCLcBGAs/s640/transform20fps.gif)\n",
        "\n",
        "The self-attention mechanism uses matrix-vector products and a softmax non-linearity. The other parameterized operations in the Transformer are simple fully-connected layers that are applied to each token, and word embeddings applied at the input and output (a word embedding transforms a one-hot word representation into a lower-dimensional feature vector or viceversa). Inside the Encoder or Decoder, the same transformations are applied to each word. This allows treatment of sequence of varying length! These matrix-vector operations contain all the learnable parameters in the Transformer. Transformers also use other familiar deep learning operations such as residual connections, Dropout and normalization.\n",
        "\n",
        "The following figure from [The Illustrated Transformer](http://jalammar.github.io/illustrated-transformer/), a great blog post explaining the architecture, gives another overview. Note that the Encoder and Decoder are made up of multiple similar layers.\n",
        "\n",
        "<center>\n",
        "<img src=\"http://jalammar.github.io/images/t/transformer_resideual_layer_norm_3.png\" width=680px>\n",
        "</center>\n",
        "\n",
        "\n",
        "We are now ready to delve deeper into the Transformer by following the original article. Don't worry if these ideas are not yet clear in your head we will go thorugh each step in detail.\n",
        "\n",
        "\n"
      ]
    },
    {
      "cell_type": "markdown",
      "metadata": {
        "colab_type": "text",
        "id": "6UtBbvYmSBIQ"
      },
      "source": [
        "# Setup"
      ]
    },
    {
      "cell_type": "code",
      "metadata": {
        "cellView": "form",
        "colab_type": "code",
        "id": "r2rkeIDKQnnk",
        "colab": {}
      },
      "source": [
        "#@title Prelims: Load Libraries (they're all pre-installed in colab)\n",
        "import numpy as np\n",
        "import torch\n",
        "import torch.nn as nn\n",
        "import torch.nn.functional as F\n",
        "import math, copy, time\n",
        "import matplotlib.pyplot as plt\n",
        "import seaborn\n",
        "seaborn.set_context(context=\"talk\")\n",
        "%matplotlib inline"
      ],
      "execution_count": 0,
      "outputs": []
    },
    {
      "cell_type": "markdown",
      "metadata": {
        "colab_type": "text",
        "id": "8zgQpIZqQnnp"
      },
      "source": [
        "# Model Architecture"
      ]
    },
    {
      "cell_type": "markdown",
      "metadata": {
        "colab_type": "text",
        "id": "w82-HGs3Qnnr"
      },
      "source": [
        "> Most competitive neural sequence transduction models have an [encoder-decoder structure](https://arxiv.org/abs/1409.0473). Here, the encoder maps an input sequence of symbol representations $(x_1, ..., x_n)$ to a sequence of continuous representations $\\mathbf{z} = (z_1, ..., z_n)$. Given $\\mathbf{z}$, the decoder then generates an output sequence $(y_1,...,y_m)$ of symbols one element at a time. At each step the model is [auto-regressive](https://arxiv.org/abs/1308.0850), consuming the previously generated symbols as additional input when generating the next.\n",
        "\n",
        "\n",
        "An autoregressive encoder-decoder architecture will look something like this, given a `sequence` input:\n",
        "```python\n",
        "# sequence = sequence[:t]  <- optional slicing for predicting from time t\n",
        "code = encoder(sequence)\n",
        "output = []\n",
        "for i in range(prediction_length):\n",
        "  output[i] = decoder(code, output[:i])\n",
        "```\n"
      ]
    },
    {
      "cell_type": "markdown",
      "metadata": {
        "colab_type": "text",
        "id": "ZosqmbBA7Wyd"
      },
      "source": [
        "Here is how an `EncoderDecoder` architecture can be implemented.\n",
        "The implementation has a couple of extra tweaks:\n",
        "- We'll need to pass in some additional information to implement masking (for example, to prevent the decoder from looking into next words). More on that later.\n",
        "- We separate the `decoder` step into `decoder` and `generator` functions. The `decoder` function will generate the feature representation and the `generator` will compute the probabilities of the corresponding token. This is not needed, but in general good practice because it allows you to access intermediate representations of the network."
      ]
    },
    {
      "cell_type": "code",
      "metadata": {
        "colab_type": "code",
        "id": "frdtlUIfQnns",
        "colab": {}
      },
      "source": [
        "class EncoderDecoder(nn.Module):\n",
        "    \"\"\"\n",
        "    A standard Encoder-Decoder architecture. Base for this and many \n",
        "    other models.\n",
        "    \"\"\"\n",
        "    def __init__(self, encoder, decoder, src_embed, tgt_embed, generator):\n",
        "        super().__init__()\n",
        "        self.encoder = encoder\n",
        "        self.decoder = decoder\n",
        "        self.src_embed = src_embed\n",
        "        self.tgt_embed = tgt_embed\n",
        "        self.generator = generator\n",
        "        \n",
        "    def forward(self, src, tgt, src_mask, tgt_mask):\n",
        "        \"Take in and process masked src and target sequences.\"\n",
        "        return self.decode(self.encode(src, src_mask), src_mask,\n",
        "                            tgt, tgt_mask)\n",
        "    \n",
        "    def encode(self, src, src_mask):\n",
        "        return self.encoder(self.src_embed(src), src_mask)\n",
        "    \n",
        "    def decode(self, memory, src_mask, tgt, tgt_mask):\n",
        "        return self.decoder(self.tgt_embed(tgt), memory, src_mask, tgt_mask)"
      ],
      "execution_count": 0,
      "outputs": []
    },
    {
      "cell_type": "markdown",
      "metadata": {
        "colab_type": "text",
        "id": "bKaPzCvzfgkj"
      },
      "source": [
        "The `Generator` projects the feature representation into the space of possible words and computes the softmax to model their probabilities. "
      ]
    },
    {
      "cell_type": "code",
      "metadata": {
        "colab_type": "code",
        "id": "W65EwU5GQnnv",
        "colab": {}
      },
      "source": [
        "class Generator(nn.Module):\n",
        "    \"Define standard linear + softmax generation step.\"\n",
        "    def __init__(self, d_model, vocab):\n",
        "        super().__init__()\n",
        "        self.proj = nn.Linear(d_model, vocab)\n",
        "\n",
        "    def forward(self, x):\n",
        "        return F.log_softmax(self.proj(x), dim=-1)"
      ],
      "execution_count": 0,
      "outputs": []
    },
    {
      "cell_type": "markdown",
      "metadata": {
        "colab_type": "text",
        "id": "ij1BM0PH-Hrq"
      },
      "source": [
        "> The Transformer follows this overall architecture using stacked self-attention and point-wise, fully connected layers for both the encoder and decoder, shown in the left and right halves of Figure 1, respectively. \n",
        "\n",
        "\n",
        "Here is Figure 1 from the original paper.\n",
        "\n",
        "<center> \n",
        "  <img src=\"https://nlp.seas.harvard.edu/images/the-annotated-transformer_14_0.png\">\n",
        "</center>\n"
      ]
    },
    {
      "cell_type": "markdown",
      "metadata": {
        "colab_type": "text",
        "id": "SEQSxbDRQnn6"
      },
      "source": [
        "## Encoder and Decoder Stacks   \n",
        "\n",
        "Let's unpack what is within the encoder and decoders.\n",
        "\n",
        "### Encoder\n",
        "\n",
        "> The encoder is composed of a stack of $N=6$ identical layers. "
      ]
    },
    {
      "cell_type": "code",
      "metadata": {
        "colab_type": "code",
        "id": "yhqN7F5gQnn-",
        "colab": {}
      },
      "source": [
        "def clones(module, N):\n",
        "    \"Produce N identical layers.\"\n",
        "    return nn.ModuleList([copy.deepcopy(module) for _ in range(N)])"
      ],
      "execution_count": 0,
      "outputs": []
    },
    {
      "cell_type": "code",
      "metadata": {
        "colab_type": "code",
        "id": "pXxx2TtfgBKi",
        "colab": {}
      },
      "source": [
        "class Encoder(nn.Module):\n",
        "    \"Core encoder is a stack of N layers\"\n",
        "    def __init__(self, layer, N):\n",
        "        super().__init__()\n",
        "        self.layers = clones(layer, N)\n",
        "        self.norm = LayerNorm(layer.size)\n",
        "        \n",
        "    def forward(self, x, mask):\n",
        "        \"Pass the input (and mask) through each layer in turn.\"\n",
        "        for layer in self.layers:\n",
        "            x = layer(x, mask)\n",
        "        return self.norm(x)"
      ],
      "execution_count": 0,
      "outputs": []
    },
    {
      "cell_type": "markdown",
      "metadata": {
        "colab_type": "text",
        "id": "XycDf10jQnoB"
      },
      "source": [
        "> We employ a [residual connection](https://arxiv.org/abs/1512.03385) around each of the two sub-layers, followed by [layer normalization](https://arxiv.org/abs/1607.06450).  "
      ]
    },
    {
      "cell_type": "code",
      "metadata": {
        "colab_type": "code",
        "id": "HJccrIzqQnoC",
        "colab": {}
      },
      "source": [
        "class LayerNorm(nn.Module):\n",
        "    \"Construct a layernorm module (See link for details).\"\n",
        "    def __init__(self, features, eps=1e-6):\n",
        "        super().__init__()\n",
        "        self.a_2 = nn.Parameter(torch.ones(features))\n",
        "        self.b_2 = nn.Parameter(torch.zeros(features))\n",
        "        self.eps = eps\n",
        "\n",
        "    def forward(self, x):\n",
        "        mean = x.mean(-1, keepdim=True)\n",
        "        std = x.std(-1, keepdim=True)\n",
        "        return self.a_2 * (x - mean) / (std + self.eps) + self.b_2"
      ],
      "execution_count": 0,
      "outputs": []
    },
    {
      "cell_type": "markdown",
      "metadata": {
        "colab_type": "text",
        "id": "WdwTvprBQnoF"
      },
      "source": [
        "> That is, the output of each sub-layer is $\\mathrm{LayerNorm}(x + \\mathrm{Sublayer}(x))$, where $\\mathrm{Sublayer}(x)$ is the function implemented by the sub-layer itself.  We apply [dropout](http://jmlr.org/papers/v15/srivastava14a.html) to the output of each sub-layer, before it is added to the sub-layer input and normalized.  \n",
        "> \n",
        "> To facilitate these residual connections, all sub-layers in the model, as well as the embedding layers, produce outputs of dimension $d_{\\text{model}}=512$.  "
      ]
    },
    {
      "cell_type": "code",
      "metadata": {
        "colab_type": "code",
        "id": "zZFdQVnhQnoG",
        "colab": {}
      },
      "source": [
        "class SublayerConnection(nn.Module):\n",
        "    \"\"\"\n",
        "    A residual connection followed by a layer norm.\n",
        "    Note for code simplicity the norm is first as opposed to last.\n",
        "    \"\"\"\n",
        "    def __init__(self, size, dropout):\n",
        "        super().__init__()\n",
        "        self.norm = LayerNorm(size)\n",
        "        self.dropout = nn.Dropout(dropout)\n",
        "\n",
        "    def forward(self, x, sublayer):   \n",
        "        \"Apply residual connection to any sublayer with the same size.\"\n",
        "        return x + self.dropout(sublayer(self.norm(x)))"
      ],
      "execution_count": 0,
      "outputs": []
    },
    {
      "cell_type": "markdown",
      "metadata": {
        "colab_type": "text",
        "id": "rSyWK7s2QnoJ"
      },
      "source": [
        "> Each layer has two sub-layers. The first is a multi-head self-attention mechanism, and the second is a simple, position-wise fully connected feed-forward network."
      ]
    },
    {
      "cell_type": "code",
      "metadata": {
        "colab_type": "code",
        "id": "7SSoonRNQnoK",
        "colab": {}
      },
      "source": [
        "class EncoderLayer(nn.Module):\n",
        "    \"Encoder is made up of self-attn and feed forward (defined below)\"\n",
        "    def __init__(self, size, self_attn, feed_forward, dropout):\n",
        "        super().__init__()\n",
        "        self.self_attn = self_attn\n",
        "        self.feed_forward = feed_forward\n",
        "        self.sublayer = clones(SublayerConnection(size, dropout), 2)\n",
        "        self.size = size\n",
        "\n",
        "    def forward(self, x, mask):\n",
        "        \"Follow Figure 1 (left) for connections.\"\n",
        "        x = self.sublayer[0](x, lambda x: self.self_attn(x, x, x, mask))\n",
        "        return self.sublayer[1](x, self.feed_forward)"
      ],
      "execution_count": 0,
      "outputs": []
    },
    {
      "cell_type": "markdown",
      "metadata": {
        "colab_type": "text",
        "id": "easgziPHQnoO"
      },
      "source": [
        "### Decoder\n",
        "\n",
        "> The decoder is also composed of a stack of $N=6$ identical layers.  \n"
      ]
    },
    {
      "cell_type": "code",
      "metadata": {
        "colab_type": "code",
        "id": "ahP9_LlnQnoQ",
        "colab": {}
      },
      "source": [
        "class Decoder(nn.Module):\n",
        "    \"Generic N layer sequential decoder with masking.\"\n",
        "    def __init__(self, layer, N):\n",
        "        super().__init__()\n",
        "        self.layers = clones(layer, N)\n",
        "        self.norm = LayerNorm(layer.size)\n",
        "        \n",
        "    def forward(self, x, memory, src_mask, tgt_mask):\n",
        "        for layer in self.layers:\n",
        "            x = layer(x, memory, src_mask, tgt_mask)\n",
        "        return self.norm(x)"
      ],
      "execution_count": 0,
      "outputs": []
    },
    {
      "cell_type": "markdown",
      "metadata": {
        "colab_type": "text",
        "id": "UxR00yzFQnoT"
      },
      "source": [
        "> In addition to the two sub-layers in each encoder layer, the decoder inserts a third sub-layer, which performs multi-head attention over the output of the encoder stack.  Similar to the encoder, we employ residual connections around each of the sub-layers, followed by layer normalization.  "
      ]
    },
    {
      "cell_type": "code",
      "metadata": {
        "colab_type": "code",
        "id": "04X13nkYQnoU",
        "colab": {}
      },
      "source": [
        "class DecoderLayer(nn.Module):\n",
        "    \"Decoder is made of self-attn, src-attn, and feed forward (defined below)\"\n",
        "    def __init__(self, size, self_attn, src_attn, feed_forward, dropout):\n",
        "        super().__init__()\n",
        "        self.size = size\n",
        "        self.self_attn = self_attn\n",
        "        self.src_attn = src_attn\n",
        "        self.feed_forward = feed_forward\n",
        "        self.sublayer = clones(SublayerConnection(size, dropout), 3)\n",
        " \n",
        "    def forward(self, x, memory, src_mask, tgt_mask):\n",
        "        \"Follow Figure 1 (right) for connections.\"\n",
        "        m = memory\n",
        "        x = self.sublayer[0](x, lambda x: self.self_attn(x, x, x, tgt_mask))\n",
        "        x = self.sublayer[1](x, lambda x: self.src_attn(x, m, m, src_mask))\n",
        "        return self.sublayer[2](x, self.feed_forward)"
      ],
      "execution_count": 0,
      "outputs": []
    },
    {
      "cell_type": "markdown",
      "metadata": {
        "colab_type": "text",
        "collapsed": true,
        "id": "CGHJ_r6cQnoX"
      },
      "source": [
        "> We also modify the self-attention sub-layer in the decoder stack to prevent positions from attending to subsequent positions.  This masking, combined with fact that the output embeddings are offset by one position, ensures that the predictions for position $i$ can depend only on the known outputs at positions less than $i$."
      ]
    },
    {
      "cell_type": "code",
      "metadata": {
        "colab_type": "code",
        "id": "Y1kYch7AQnoY",
        "colab": {}
      },
      "source": [
        "def subsequent_mask(size):\n",
        "    \"Mask out subsequent positions.\"\n",
        "    attn_shape = (1, size, size)\n",
        "    return torch.tril(torch.ones(1, size, size, dtype=torch.bool))"
      ],
      "execution_count": 0,
      "outputs": []
    },
    {
      "cell_type": "markdown",
      "metadata": {
        "colab_type": "text",
        "id": "i7VxTBbdQnoe"
      },
      "source": [
        "This is how a mask will look like: For time  $t$, the network will pick the mask of the $t$th row. All values above $t$ will have been masked out."
      ]
    },
    {
      "cell_type": "code",
      "metadata": {
        "colab_type": "code",
        "id": "qzCCctFWQnoe",
        "colab": {}
      },
      "source": [
        "plt.figure(figsize=(5,5))\n",
        "_ = plt.imshow(subsequent_mask(20)[0])"
      ],
      "execution_count": 0,
      "outputs": []
    },
    {
      "cell_type": "markdown",
      "metadata": {
        "colab_type": "text",
        "id": "TTpMxcWoQnoi"
      },
      "source": [
        "### Attention                                                                                                                                                                                                                                                                          \n",
        "> An attention function can be described as mapping a query and a set of key-value pairs to an output, where the query, keys, values, and output are all vectors.  The output is computed as a weighted sum of the values, where the weight assigned to each value is computed by a compatibility function of the query with the corresponding key.                 \n",
        ">\n",
        "> We call our particular attention \"Scaled Dot-Product Attention\".   The input consists of queries and keys of dimension $d_k$, and values of dimension $d_v$.  We compute the dot products of the query with all keys, divide each by $\\sqrt{d_k}$, and apply a softmax function to obtain the weights on the values.                                                                                                                                                                                                                                  \n",
        "                                                                                                                                                                     "
      ]
    },
    {
      "cell_type": "markdown",
      "metadata": {
        "colab_type": "text",
        "id": "-GkPoG5MnAKn"
      },
      "source": [
        "<center> \n",
        "  <img src=\"http://nlp.seas.harvard.edu/images/the-annotated-transformer_33_0.png\">\n",
        "</center>"
      ]
    },
    {
      "cell_type": "markdown",
      "metadata": {
        "colab_type": "text",
        "id": "5c-jUwDsQnop"
      },
      "source": [
        "> In practice, we compute the attention function on a set of queries simultaneously, packed together into a matrix $Q$.   The keys and values are also packed together into matrices $K$ and $V$.  We compute the matrix of outputs as:                                                                      \n",
        "$$                                                                         \n",
        "   \\mathrm{Attention}(Q, K, V) = \\mathrm{softmax}(\\frac{QK^T}{\\sqrt{d_k}})V               \n",
        "$$   "
      ]
    },
    {
      "cell_type": "markdown",
      "metadata": {
        "colab_type": "text",
        "id": "Gb27-w9foLUL"
      },
      "source": [
        "#### Task: Can you implement the attention function with this definition?\n",
        "\n",
        "**Hint**: The dropout (an optional callable) is applied after the soft-max function"
      ]
    },
    {
      "cell_type": "code",
      "metadata": {
        "colab_type": "code",
        "id": "MDx9TZrEoU8E",
        "colab": {}
      },
      "source": [
        "def attention(query, key, value, mask=None, dropout=None):\n",
        "  \"Compute 'Scaled Dot Product Attention'\"\n",
        "  pass"
      ],
      "execution_count": 0,
      "outputs": []
    },
    {
      "cell_type": "markdown",
      "metadata": {
        "colab_type": "text",
        "id": "yQxSdi6ooSRk"
      },
      "source": [
        "#### Answer"
      ]
    },
    {
      "cell_type": "code",
      "metadata": {
        "colab_type": "code",
        "id": "1wQmeawEQnoq",
        "colab": {}
      },
      "source": [
        "def attention(query, key, value, mask=None, dropout=None):\n",
        "    \"Compute 'Scaled Dot Product Attention'\"\n",
        "    d_k = query.shape[-1]\n",
        "    scores = torch.matmul(\n",
        "        query, key.transpose(-2, -1)) / math.sqrt(d_k)\n",
        "    if mask is not None:\n",
        "        scores = scores.masked_fill(~mask, float('-inf'))\n",
        "    p_attn = F.softmax(scores, dim=-1)\n",
        "    if dropout is not None:\n",
        "        p_attn = dropout(p_attn)\n",
        "    return torch.matmul(p_attn, value), p_attn"
      ],
      "execution_count": 0,
      "outputs": []
    },
    {
      "cell_type": "markdown",
      "metadata": {
        "colab_type": "text",
        "id": "D0mAzkbGQzOc"
      },
      "source": [
        "#### Optional reading: dot-product vs. additive attention"
      ]
    },
    {
      "cell_type": "markdown",
      "metadata": {
        "colab_type": "text",
        "id": "q4GbTvmvQnot"
      },
      "source": [
        "\n",
        "> The two most commonly used attention functions are [additive attention](https://arxiv.org/abs/1409.0473), and dot-product (multiplicative) attention.  Dot-product attention is identical to our algorithm, except for the scaling factor of $\\frac{1}{\\sqrt{d_k}}$. Additive attention computes the compatibility function using a feed-forward network with a single hidden layer.  While the two are similar in theoretical complexity, dot-product attention is much faster and more space-efficient in practice, since it can be implemented using highly optimized matrix multiplication code.\n",
        ">                                                                         \n",
        "> While for small values of $d_k$ the two mechanisms perform similarly, [additive attention outperforms dot product attention without scaling for larger values of $d_k$](https://arxiv.org/abs/1703.03906). We suspect that for large values of $d_k$, the dot products grow large in magnitude, pushing the softmax function into regions where it has extremely small gradients  (To illustrate why the dot products get large, assume that the components of $q$ and $k$ are independent random variables with mean $0$ and variance $1$.  Then their dot product, $q \\cdot k = \\sum_{i=1}^{d_k} q_ik_i$, has mean $0$ and variance $d_k$.). To counteract this effect, we scale the dot products by $\\frac{1}{\\sqrt{d_k}}$.          "
      ]
    },
    {
      "cell_type": "markdown",
      "metadata": {
        "colab_type": "text",
        "id": "7jutLM_Anwah"
      },
      "source": [
        "### Multi-head Attention"
      ]
    },
    {
      "cell_type": "markdown",
      "metadata": {
        "colab_type": "text",
        "id": "Kmmh8Lm-ol4C"
      },
      "source": [
        "<center> \n",
        "  <img src=\"http://nlp.seas.harvard.edu/images/the-annotated-transformer_38_0.png\" width=20%>\n",
        "</center>"
      ]
    },
    {
      "cell_type": "markdown",
      "metadata": {
        "colab_type": "text",
        "id": "bHBoBkx-Qnoy"
      },
      "source": [
        "> Multi-head attention allows the model to jointly attend to information from different representation subspaces at different positions. With a single attention head, averaging inhibits this.                                            \n",
        "$$    \n",
        "\\mathrm{MultiHead}(Q, K, V) = \\mathrm{Concat}(\\mathrm{head_1}, ..., \\mathrm{head_h})W^O    \\\\                                           \n",
        "    \\text{where}~\\mathrm{head_i} = \\mathrm{Attention}(QW^Q_i, KW^K_i, VW^V_i)                                \n",
        "$$                                                                                                                 \n",
        ">\n",
        "> Where the projections are parameter matrices $W^Q_i \\in \\mathbb{R}^{d_{\\text{model}} \\times d_k}$, $W^K_i \\in \\mathbb{R}^{d_{\\text{model}} \\times d_k}$, $W^V_i \\in \\mathbb{R}^{d_{\\text{model}} \\times d_v}$ and $W^O \\in \\mathbb{R}^{hd_v \\times d_{\\text{model}}}$.                                                                                                                                                                                             In this work we employ $h=8$ parallel attention layers, or heads. For each of these we use $d_k=d_v=d_{\\text{model}}/h=64$. Due to the reduced dimension of each head, the total computational cost is similar to that of single-head attention with full dimensionality. "
      ]
    },
    {
      "cell_type": "markdown",
      "metadata": {
        "colab_type": "text",
        "id": "oiyk5WPwrE2m"
      },
      "source": [
        "#### Now try implementing the multi-head attention module using the `attention` function and the formulas above.\n"
      ]
    },
    {
      "cell_type": "code",
      "metadata": {
        "colab_type": "code",
        "id": "261jDMAsrEaQ",
        "colab": {}
      },
      "source": [
        "class MultiHeadedAttention(nn.Module):\n",
        "    def __init__(self, h, d_model, dropout=0.1):\n",
        "        \"Take in model size and number of heads.\"\n",
        "        super().__init__()\n",
        "        assert d_model % h == 0\n",
        "        # We assume d_v always equals d_k\n",
        "        self.d_k = d_model // h\n",
        "        self.h = h\n",
        "        self.linears = clones(nn.Linear(d_model, d_model), 4)\n",
        "        self.attn = None\n",
        "        self.dropout = nn.Dropout(p=dropout)\n",
        "        \n",
        "    def forward(self, query, key, value, mask=None):\n",
        "        \"Implements Figure 2\"\n",
        "        # 1) Do all the linear projections  from d_model => h x d_k \n",
        "\n",
        "        # 2) Apply attention on all the projected vectors \n",
        "        \n",
        "        # 3) \"Concat\" and apply a final linear. \n",
        "        \n",
        "        \n",
        "        pass"
      ],
      "execution_count": 0,
      "outputs": []
    },
    {
      "cell_type": "markdown",
      "metadata": {
        "colab_type": "text",
        "id": "hlpyPFVTrAq-"
      },
      "source": [
        "#### Answer"
      ]
    },
    {
      "cell_type": "code",
      "metadata": {
        "colab_type": "code",
        "id": "Rc8ctAp8Qnoz",
        "colab": {}
      },
      "source": [
        "class MultiHeadedAttention(nn.Module):\n",
        "    def __init__(self, h, d_model, dropout=0.1):\n",
        "        \"Take in model size and number of heads.\"\n",
        "        super().__init__()\n",
        "        assert d_model % h == 0\n",
        "        # We assume d_v always equals d_k\n",
        "        self.d_k = d_model // h\n",
        "        self.h = h\n",
        "        self.linears = clones(nn.Linear(d_model, d_model), 4)\n",
        "        self.attn = None\n",
        "        self.dropout = nn.Dropout(p=dropout)\n",
        "        \n",
        "    def forward(self, query, key, value, mask=None):\n",
        "        \"Implements Figure 2\"\n",
        "        if mask is not None:\n",
        "            # Same mask applied to all h heads.\n",
        "            mask = mask.unsqueeze(1)\n",
        "        nbatches = query.shape[0]\n",
        "        \n",
        "        # 1) Do all the linear projections in batch from d_model => h x d_k \n",
        "        query, key, value = \\\n",
        "            [l(x).view(nbatches, -1, self.h, self.d_k).transpose(1, 2)\n",
        "             for l, x in zip(self.linears, (query, key, value))]\n",
        "        \n",
        "        # 2) Apply attention on all the projected vectors in batch. \n",
        "        x, self.attn = attention(query, key, value, mask=mask, \n",
        "                                 dropout=self.dropout)\n",
        "        \n",
        "        # 3) \"Concat\" using a view and apply a final linear. \n",
        "        x = x.transpose(1, 2).contiguous() \\\n",
        "             .view(nbatches, -1, self.h * self.d_k)\n",
        "        return self.linears[-1](x)"
      ],
      "execution_count": 0,
      "outputs": []
    },
    {
      "cell_type": "markdown",
      "metadata": {
        "colab_type": "text",
        "id": "yxWKW9RURb2t"
      },
      "source": [
        "### Putting it all together\n",
        "This figure from [Lilian Weng's blog](https://lilianweng.github.io/lil-log/2018/06/24/attention-attention.html)  shows how the attention heads are finally combined in the model. \n",
        "\n",
        "<center>\n",
        "<img src=\"https://camo.githubusercontent.com/4b80977ac0757d1d18eb7be4d0238e92673bfaba/68747470733a2f2f6c696c69616e77656e672e6769746875622e696f2f6c696c2d6c6f672f6173736574732f696d616765732f7472616e73666f726d65722e706e67\" width=680px>\n",
        "</center>"
      ]
    },
    {
      "cell_type": "markdown",
      "metadata": {
        "colab_type": "text",
        "id": "tmd78YaKQno0"
      },
      "source": [
        "### Applications of Attention in our Model                                                                                                                                                      \n",
        "> The Transformer uses multi-head attention in three different ways:                                                   \n",
        ">\n",
        "> 1) In \"encoder-decoder attention\" layers, the queries come from the previous decoder layer, and the memory keys and values come from the output of the encoder.   This allows every position in the decoder to attend over all positions in the input sequence.  This mimics the typical encoder-decoder attention mechanisms in sequence-to-sequence models such as [Google's Neural Machine Translation System](https://arxiv.org/abs/1609.08144).    \n",
        ">\n",
        "> 2) The encoder contains self-attention layers.  In a self-attention layer all of the keys, values and queries come from the same place, in this case, the output of the previous layer in the encoder.   Each position in the encoder can attend to all positions in the previous layer of the encoder.                                                   \n",
        ">\n",
        "> 3) Similarly, self-attention layers in the decoder allow each position in the decoder to attend to all positions in the decoder up to and including that position.  We need to prevent leftward information flow in the decoder to preserve the auto-regressive property.  We implement this inside of scaled dot-product attention by masking out (setting to $-\\infty$) all values in the input of the softmax which correspond to illegal connections.                                                                                                                  "
      ]
    },
    {
      "cell_type": "markdown",
      "metadata": {
        "colab_type": "text",
        "id": "l8zA6HIdQno1"
      },
      "source": [
        "## Position-wise Feed-Forward Networks                                                                                                                                                                                          \n",
        "> In addition to attention sub-layers, each of the layers in our encoder and decoder contains a fully connected feed-forward network, which is applied to each position separately and identically.  This consists of two linear transformations with a ReLU activation in between.\n",
        ">\n",
        "> $$\\mathrm{FFN}(x)=\\max(0, xW_1 + b_1) W_2 + b_2$$\n",
        ">\n",
        "> While the linear transformations are the same across different positions, they use different parameters from layer to layer. Another way of describing this is as two convolutions with kernel size 1.  The dimensionality of input and output is $d_{\\text{model}}=512$, and the inner-layer has dimensionality $d_{ff}=2048$. A dropout is applied after the ReLU activation."
      ]
    },
    {
      "cell_type": "code",
      "metadata": {
        "colab_type": "code",
        "id": "jGORCjSBQno2",
        "colab": {}
      },
      "source": [
        "class PositionwiseFeedForward(nn.Module):\n",
        "    \"Implements FFN equation.\"\n",
        "    def __init__(self, d_model, d_ff, dropout=0.1):\n",
        "        super().__init__()\n",
        "        self.w_1 = nn.Linear(d_model, d_ff)\n",
        "        self.w_2 = nn.Linear(d_ff, d_model)\n",
        "        self.dropout = nn.Dropout(dropout)\n",
        "\n",
        "    def forward(self, x):\n",
        "        return self.w_2(self.dropout(F.relu(self.w_1(x))))"
      ],
      "execution_count": 0,
      "outputs": []
    },
    {
      "cell_type": "markdown",
      "metadata": {
        "colab_type": "text",
        "id": "fM6rkpnhQno3"
      },
      "source": [
        "## Embeddings and Softmax                                                                                                                                                                 \n",
        "> Similarly to other sequence transduction models, we use learned embeddings to convert the input tokens and output tokens to vectors of dimension $d_{\\text{model}}$.  We also use the usual learned linear transformation and softmax function to convert the decoder output to predicted next-token probabilities.  In our model, we share the same weight matrix between the two embedding layers and the pre-softmax linear transformation, similar to [(cite)](https://arxiv.org/abs/1608.05859). In the embedding layers, we multiply those weights by $\\sqrt{d_{\\text{model}}}$.                                                                                                                                 "
      ]
    },
    {
      "cell_type": "code",
      "metadata": {
        "colab_type": "code",
        "id": "eNspP7COQno4",
        "colab": {}
      },
      "source": [
        "class Embeddings(nn.Module):\n",
        "    def __init__(self, d_model, vocab):\n",
        "        super().__init__()\n",
        "        self.lut = nn.Embedding(vocab, d_model)\n",
        "        self.d_model = d_model\n",
        "\n",
        "    def forward(self, x):\n",
        "        return self.lut(x) * math.sqrt(self.d_model)"
      ],
      "execution_count": 0,
      "outputs": []
    },
    {
      "cell_type": "markdown",
      "metadata": {
        "colab_type": "text",
        "id": "cQMuH0DIQno6"
      },
      "source": [
        "## Positional Encoding                                                                                                                             \n",
        "> Since our model contains no recurrence and no convolution, in order for the model to make use of the order of the sequence, we must inject some information about the relative or absolute position of the tokens in the sequence.  To this end, we add \"positional encodings\" to the input embeddings at the bottoms of the encoder and decoder stacks.  The positional encodings have the same dimension $d_{\\text{model}}$ as the embeddings, so that the two can be summed.   There are [many choices](https://arxiv.org/pdf/1705.03122.pdf) of positional encodings, learned and fixed. \n",
        "> \n",
        "> In this work, we use sine and cosine functions of different frequencies:                                             \n",
        ">\n",
        ">$$PE_{(pos,2i)} = sin(pos / 10000^{2i/d_{\\text{model}}})$$\n",
        ">\n",
        ">$$PE_{(pos,2i+1)} = cos(pos / 10000^{2i/d_{\\text{model}}})$$  \n",
        "> \n",
        "> where $pos$ is the position and $i$ is the dimension.  That is, each dimension of the positional encoding corresponds to a sinusoid.  The wavelengths form a geometric progression from $2\\pi$ to $10000 \\cdot 2\\pi$.  We chose this function because we hypothesized it would allow the model to easily learn to attend by relative positions, since for any fixed offset $k$, $PE_{pos+k}$ can be represented as a linear function of $PE_{pos}$. \n",
        ">\n",
        ">In addition, we apply dropout to the sums of the embeddings and the positional encodings in both the encoder and decoder stacks.  For the base model, we use a rate of $P_{drop}=0.1$. \n",
        "                                                                                                                                                                                                                                                    \n"
      ]
    },
    {
      "cell_type": "code",
      "metadata": {
        "colab_type": "code",
        "id": "CkFckh7mQno7",
        "colab": {}
      },
      "source": [
        "class PositionalEncoding(nn.Module):\n",
        "    \"Implement the PE function.\"\n",
        "    def __init__(self, d_model, dropout, max_len=5000):\n",
        "        super().__init__()\n",
        "        self.dropout = nn.Dropout(p=dropout)\n",
        "        \n",
        "        # Compute the positional encodings once in log space.\n",
        "        pe = torch.zeros(max_len, d_model)\n",
        "        position = torch.arange(0., max_len).unsqueeze(1)\n",
        "        div_term = torch.exp(torch.arange(0., d_model, 2) *\n",
        "                             -(math.log(10000.0) / d_model))\n",
        "        pe[:, 0::2] = torch.sin(position * div_term)\n",
        "        pe[:, 1::2] = torch.cos(position * div_term)\n",
        "        pe = pe.unsqueeze(0)\n",
        "        self.register_buffer('pe', pe)\n",
        "        \n",
        "    def forward(self, x):\n",
        "        x = x + self.pe[:, :x.shape[1]]\n",
        "        return self.dropout(x)"
      ],
      "execution_count": 0,
      "outputs": []
    },
    {
      "cell_type": "markdown",
      "metadata": {
        "colab_type": "text",
        "id": "sVz3cwoJQno9"
      },
      "source": [
        "You can see below how positional encoding will change with time (x axis), along\n",
        "different dimensions (colors).The frequency and offset of the waves will be different per dimension.\n"
      ]
    },
    {
      "cell_type": "code",
      "metadata": {
        "colab_type": "code",
        "id": "5LYkz672Qno9",
        "colab": {}
      },
      "source": [
        "plt.figure(figsize=(15, 5))\n",
        "pe = PositionalEncoding(20, 0)\n",
        "y = pe(torch.zeros(1, 100, 20))\n",
        "plt.plot(np.arange(100), y[0, :, 4:8].numpy())\n",
        "_ = plt.legend([\"dim %d\"%p for p in [4,5,6,7]])"
      ],
      "execution_count": 0,
      "outputs": []
    },
    {
      "cell_type": "markdown",
      "metadata": {
        "colab_type": "text",
        "id": "XoF1MhyOQnpB"
      },
      "source": [
        "> We also experimented with using [learned positional embeddings](https://arxiv.org/pdf/1705.03122.pdf) instead, and found that the two versions produced nearly identical results.  We chose the sinusoidal version because it may allow the model to extrapolate to sequence lengths longer than the ones encountered during training.    "
      ]
    },
    {
      "cell_type": "markdown",
      "metadata": {
        "colab_type": "text",
        "id": "qyEBBsmkQnpB"
      },
      "source": [
        "## Full Model\n",
        "\n",
        "> Here we define a function from hyperparameters to a full model. "
      ]
    },
    {
      "cell_type": "code",
      "metadata": {
        "colab_type": "code",
        "id": "tchgFN6-QnpD",
        "colab": {}
      },
      "source": [
        "def make_model(src_vocab, tgt_vocab, N=6, \n",
        "               d_model=512, d_ff=2048, h=8, dropout=0.1):\n",
        "    \"Helper: Construct a model from hyperparameters.\"\n",
        "    c = copy.deepcopy\n",
        "    attn = MultiHeadedAttention(h, d_model)\n",
        "    ff = PositionwiseFeedForward(d_model, d_ff, dropout)\n",
        "    position = PositionalEncoding(d_model, dropout)\n",
        "    model = EncoderDecoder(\n",
        "        Encoder(EncoderLayer(d_model, c(attn), c(ff), dropout), N),\n",
        "        Decoder(DecoderLayer(\n",
        "            d_model, c(attn), c(attn), c(ff), dropout), N),\n",
        "        src_embed=nn.Sequential(Embeddings(d_model, src_vocab), c(position)),\n",
        "        tgt_embed=nn.Sequential(Embeddings(d_model, tgt_vocab), c(position)), \n",
        "        generator=Generator(d_model, tgt_vocab))\n",
        "    \n",
        "    # This was important from their code. \n",
        "    # Initialize parameters with Glorot / fan_avg.\n",
        "    for p in model.parameters():\n",
        "        if p.dim() > 1:\n",
        "            nn.init.xavier_uniform_(p)\n",
        "    return model"
      ],
      "execution_count": 0,
      "outputs": []
    },
    {
      "cell_type": "code",
      "metadata": {
        "colab_type": "code",
        "id": "Y0xx4GolQnpH",
        "colab": {}
      },
      "source": [
        "# Small example model.\n",
        "tmp_model = make_model(10, 10, 2)"
      ],
      "execution_count": 0,
      "outputs": []
    },
    {
      "cell_type": "markdown",
      "metadata": {
        "colab_type": "text",
        "id": "JenJ-uJAQnpJ"
      },
      "source": [
        "# Training\n",
        "\n",
        "> This section describes the training regime for our models."
      ]
    },
    {
      "cell_type": "markdown",
      "metadata": {
        "colab_type": "text",
        "id": "UPfKGlTWQnpK"
      },
      "source": [
        "We stop for a quick interlude to introduce some of the tools \n",
        "needed to train a standard Encoder-Decoder model. First we define a batch object that holds the src and target sentences for training, as well as constructing the masks. "
      ]
    },
    {
      "cell_type": "markdown",
      "metadata": {
        "colab_type": "text",
        "id": "3XF7yaK_QnpN"
      },
      "source": [
        "First we create a generic training and scoring loop. The loss is a simple callback that gets the predictions, targets and some regularization data. It *may* get a reference to the optimizer, which can do the parameter updates. For the moment we will use a handler for the loss function, that will be defined below."
      ]
    },
    {
      "cell_type": "code",
      "metadata": {
        "colab_type": "code",
        "id": "pZv4t14UQnpO",
        "colab": {}
      },
      "source": [
        "def run_epoch(data_iter, model, loss_compute):\n",
        "    \"Standard Training and Logging Function\"\n",
        "    start = time.time()\n",
        "    total_tokens = 0\n",
        "    total_loss = 0\n",
        "    tokens = 0\n",
        "    for i, batch in enumerate(data_iter):\n",
        "        out = model(batch.src, batch.trg, \n",
        "                            batch.src_mask, batch.trg_mask)\n",
        "        loss = loss_compute(out, batch.trg_y, batch.ntokens.float())\n",
        "        total_loss += loss\n",
        "        total_tokens += batch.ntokens\n",
        "        tokens += batch.ntokens\n",
        "        if i % 50 == 1:\n",
        "            elapsed = time.time() - start\n",
        "            print(\"Epoch Step: %d Loss: %f Tokens per Sec: %f\" %\n",
        "                    (i, loss / batch.ntokens, tokens / elapsed))\n",
        "            start = time.time()\n",
        "            tokens = 0\n",
        "    return total_loss / total_tokens"
      ],
      "execution_count": 0,
      "outputs": []
    },
    {
      "cell_type": "code",
      "metadata": {
        "colab_type": "code",
        "id": "K2zETShepDut",
        "colab": {}
      },
      "source": [
        "class SimpleLossCompute:\n",
        "    \"A simple loss compute and train function.\"\n",
        "    def __init__(self, generator, criterion, opt=None):\n",
        "        self.generator = generator\n",
        "        self.criterion = criterion\n",
        "        self.opt = opt\n",
        "        \n",
        "    def __call__(self, x, y, norm):\n",
        "        x = self.generator(x)\n",
        "        loss = self.criterion(\n",
        "            x.contiguous().view(-1, x.size(-1)), \n",
        "            y.contiguous().view(-1)) \n",
        "        loss /= norm\n",
        "        loss.backward()\n",
        "        if self.opt is not None:\n",
        "            self.opt.step()\n",
        "            self.opt.optimizer.zero_grad()\n",
        "        return loss.item() * norm"
      ],
      "execution_count": 0,
      "outputs": []
    },
    {
      "cell_type": "markdown",
      "metadata": {
        "colab_type": "text",
        "id": "CNsNwjINQnpL"
      },
      "source": [
        "## Batches and Masking"
      ]
    },
    {
      "cell_type": "code",
      "metadata": {
        "colab_type": "code",
        "id": "e9LpXVUBQnpL",
        "colab": {}
      },
      "source": [
        "def make_std_mask(tgt, pad):\n",
        "    \"Create a mask to hide padding and future words.\"\n",
        "    tgt_mask = (tgt != pad).unsqueeze(-2)\n",
        "    tgt_mask = tgt_mask & subsequent_mask(tgt.shape[-1]).type_as(tgt_mask)\n",
        "    return tgt_mask\n",
        "\n",
        "class Batch:\n",
        "    \"Object for holding a batch of data with mask during training.\"\n",
        "    def __init__(self, src, trg=None, pad=0):\n",
        "        self.src = src\n",
        "        self.src_mask = (src != pad).unsqueeze(-2)\n",
        "        if trg is not None:\n",
        "            self.trg = trg[:, :-1]\n",
        "            self.trg_y = trg[:, 1:]\n",
        "            self.trg_mask = make_std_mask(self.trg, pad)\n",
        "            self.ntokens = (self.trg_y != pad).sum()"
      ],
      "execution_count": 0,
      "outputs": []
    },
    {
      "cell_type": "markdown",
      "metadata": {
        "colab_type": "text",
        "id": "Yjx6Bb27QnpQ"
      },
      "source": [
        "## Training Data and Batching\n",
        "\n",
        "> **Paper:** We trained on the standard WMT 2014 English-German dataset consisting of about 4.5 million sentence pairs.  Sentences were encoded using byte-pair encoding, which has a shared source-target vocabulary of about 37000 tokens. For English-French, we used the significantly larger WMT 2014 English-French dataset consisting of 36M sentences and split tokens into a 32000 word-piece vocabulary.\n",
        ">\n",
        "> Sentence pairs were batched together by approximate sequence length.  Each training batch contained a set of sentence pairs containing approximately 25000 source tokens and 25000 target tokens.     "
      ]
    },
    {
      "cell_type": "markdown",
      "metadata": {
        "colab_type": "text",
        "id": "s427BVY0QnpQ"
      },
      "source": [
        "> **Rush**: We will use torch text for batching. This is discussed in more detail below. Here we create batches in a torchtext function that ensures our batch size padded to the maximum batchsize does not surpass a threshold (25000 if we have 8 gpus)."
      ]
    },
    {
      "cell_type": "code",
      "metadata": {
        "colab_type": "code",
        "id": "E4CCIC7QQnpS",
        "colab": {}
      },
      "source": [
        "global max_src_in_batch, max_tgt_in_batch\n",
        "def batch_size_fn(new, count, sofar):\n",
        "    \"Keep augmenting batch and calculate total number of tokens + padding.\"\n",
        "    global max_src_in_batch, max_tgt_in_batch\n",
        "    if count == 1:\n",
        "        max_src_in_batch = 0\n",
        "        max_tgt_in_batch = 0\n",
        "    max_src_in_batch = max(max_src_in_batch,  len(new.src))\n",
        "    max_tgt_in_batch = max(max_tgt_in_batch,  len(new.trg) + 2)\n",
        "    src_elements = count * max_src_in_batch\n",
        "    tgt_elements = count * max_tgt_in_batch\n",
        "    return max(src_elements, tgt_elements)"
      ],
      "execution_count": 0,
      "outputs": []
    },
    {
      "cell_type": "markdown",
      "metadata": {
        "colab_type": "text",
        "id": "OsEk8OhPQnpU"
      },
      "source": [
        "## Hardware and Schedule                                                                                                                                                                                                   \n",
        "> We trained our models on one machine with 8 NVIDIA P100 GPUs.  For our base models using the hyperparameters described throughout the paper, each training step took about 0.4 seconds.  We trained the base models for a total of 100,000 steps or 12 hours. For our big models, step time was 1.0 seconds.  The big models were trained for 300,000 steps (3.5 days)."
      ]
    },
    {
      "cell_type": "markdown",
      "metadata": {
        "colab_type": "text",
        "id": "1y_4sWOJQnpU"
      },
      "source": [
        "## Optimizer\n",
        "\n",
        "> We used the [Adam optimizer](https://arxiv.org/abs/1412.6980) with $\\beta_1=0.9$, $\\beta_2=0.98$ and $\\epsilon=10^{-9}$.  We varied the learning rate over the course of training, according to the formula:                                                                                            \n",
        "$$                                                                                                                                                                         \n",
        "lrate = d_{\\text{model}}^{-0.5} \\cdot                                                                       \\min({step\\_num}^{-0.5},                                                                                   {step\\_num} \\cdot {warmup\\_steps}^{-1.5})                                                             $$                                                                                                                                                                                             \n",
        "This corresponds to increasing the learning rate linearly for the first $warmup\\_steps$ training steps, and decreasing it thereafter proportionally to the inverse square root of the step number.  We used $warmup\\_steps=4000$.                            "
      ]
    },
    {
      "cell_type": "markdown",
      "metadata": {
        "colab_type": "text",
        "id": "mZEzc_MSUwaJ"
      },
      "source": [
        "This part is very important, and vital for successfully training the network. It is different than standard learning rate annealing, which only decreases the rate as training progresses. Here, the learning rate starts low, then *increases*, then linearly decreases.\n",
        "This is sometimes called *warmup*, and was employed, e.g., in the [the original ResNet paper](https://arxiv.org/pdf/1512.03385.pdf). See also [these](https://arxiv.org/pdf/1706.02677.pdf) [two](https://arxiv.org/pdf/1904.00962.pdf) papers showing the effect of warmup in large minibatches.\n"
      ]
    },
    {
      "cell_type": "code",
      "metadata": {
        "colab_type": "code",
        "id": "IWsOogoDQnpZ",
        "colab": {}
      },
      "source": [
        "class VaryingRateOpt:\n",
        "    \"Optim wrapper that implements rate.\"\n",
        "    def __init__(self, model_size, factor, warmup, optimizer):\n",
        "        self.optimizer = optimizer\n",
        "        self._step = 0\n",
        "        self.warmup = warmup\n",
        "        self.factor = factor\n",
        "        self.model_size = model_size\n",
        "        self._rate = 0\n",
        "        \n",
        "    def step(self):\n",
        "        \"Update parameters and rate\"\n",
        "        self._step += 1\n",
        "        rate = self.rate()\n",
        "        for p in self.optimizer.param_groups:\n",
        "            p['lr'] = rate\n",
        "        self._rate = rate\n",
        "        self.optimizer.step()\n",
        "        \n",
        "    def rate(self, step = None):\n",
        "        \"Implement `lrate` above\"\n",
        "        if step is None:\n",
        "            step = self._step\n",
        "        return self.factor * \\\n",
        "            (self.model_size ** (-0.5) *\n",
        "            min(step ** (-0.5), step * self.warmup ** (-1.5)))"
      ],
      "execution_count": 0,
      "outputs": []
    },
    {
      "cell_type": "markdown",
      "metadata": {
        "colab_type": "text",
        "id": "xEEPDxY7Qnpc"
      },
      "source": [
        "We can see how the learning rate changes with training. "
      ]
    },
    {
      "cell_type": "code",
      "metadata": {
        "id": "gDxDRZv0sluV",
        "colab_type": "code",
        "colab": {}
      },
      "source": [
        "# Three settings of the lrate hyperparameters.\n",
        "opts = [VaryingRateOpt(512, 1, 4000, None), \n",
        "        VaryingRateOpt(512, 1, 8000, None),\n",
        "        VaryingRateOpt(256, 1, 4000, None)]\n",
        "plt.plot(np.arange(1, 20000), [[opt.rate(i) for opt in opts] for i in range(1, 20000)])\n",
        "_ = plt.legend([\"512:4000\", \"512:8000\", \"256:4000\"])"
      ],
      "execution_count": 0,
      "outputs": []
    },
    {
      "cell_type": "markdown",
      "metadata": {
        "id": "ZFg5Pz-esazn",
        "colab_type": "text"
      },
      "source": [
        "## Regularization and Loss Function\n",
        "Here is where we define the loss function for training the Transformer. In this case, we would like to compare the probability distribution of the next word, as predicted by the model, with the true distribution. When we have a ground truth label for the next word the probability distribution would be obtained by assigning all the probability mass to that word. To smooth this distribution, we will apply label smoothing, which consists in distributing a little of that probability mass to all the other words in the vocabulary.\n",
        "Finally, the model's predicted distribution ($p_\\theta$) and the smoothed ground truth distribution ($p_{smoothing}$)will be compared using the Kullback-Leibler divergence.\n",
        "\n",
        "$loss = KL\\left(p_\\theta(\\text{next word}) \\mid\\mid p_{\\text{smoothing}}(\\text{next word})\\right) $\n",
        "\n",
        "### Label Smoothing\n",
        "\n",
        "> During training, we employed [label smoothing of value $\\epsilon_{ls}=0.1$](https://arxiv.org/abs/1512.00567).  This hurts perplexity, as the model learns to be more unsure, but improves accuracy and BLEU score.  "
      ]
    },
    {
      "cell_type": "markdown",
      "metadata": {
        "id": "eTKKswFqsV4c",
        "colab_type": "text"
      },
      "source": [
        ""
      ]
    },
    {
      "cell_type": "code",
      "metadata": {
        "colab_type": "code",
        "id": "93v3reefQnpi",
        "colab": {}
      },
      "source": [
        "class LabelSmoothing(nn.Module):\n",
        "    \"Implement label smoothing.\"\n",
        "    def __init__(self, size, padding_idx, smoothing=0.0):\n",
        "        super().__init__()\n",
        "        self.criterion = nn.KLDivLoss(reduction='sum')\n",
        "        self.padding_idx = padding_idx\n",
        "        self.confidence = 1.0 - smoothing # probability mass assigned to the true word\n",
        "        self.smoothing = smoothing\n",
        "        self.size = size\n",
        "        self.true_dist = None\n",
        "        \n",
        "    def forward(self, x, target):\n",
        "        assert x.shape[1] == self.size\n",
        "        true_dist = x.detach().clone()\n",
        "        true_dist.fill_(self.smoothing / (self.size - 2))\n",
        "        true_dist.scatter_(1, target.unsqueeze(1), self.confidence)\n",
        "        true_dist[:, self.padding_idx] = 0\n",
        "        mask = torch.nonzero(target == self.padding_idx)\n",
        "        if mask.dim() > 0:\n",
        "            true_dist.index_fill_(0, mask.squeeze(), 0.0)\n",
        "        self.true_dist = true_dist\n",
        "        return self.criterion(x, true_dist)"
      ],
      "execution_count": 0,
      "outputs": []
    },
    {
      "cell_type": "markdown",
      "metadata": {
        "colab_type": "text",
        "id": "w4UAylLIQnpk"
      },
      "source": [
        "> **Rush**: Here we can see an example of how the mass is distributed to the words based on confidence. "
      ]
    },
    {
      "cell_type": "code",
      "metadata": {
        "colab_type": "code",
        "id": "xbe33MpSQnpl",
        "colab": {}
      },
      "source": [
        "#Example of label smoothing.\n",
        "target = [2, 1, 0]\n",
        "prediction = [0, 0.2, 0.7, 0.1, 0]\n",
        "crit = LabelSmoothing(5, 0, 0.4)\n",
        "predict = torch.tensor([prediction]*3)\n",
        "v = crit(predict.log(), \n",
        "         torch.tensor(target))\n",
        "\n",
        "# This will show the smoothed value given a prediction and a target:\n",
        "plt.imshow(crit.true_dist, cmap='YlGn')\n",
        "plt.xlabel('Prediction'); plt.xticks(np.arange(len(prediction)), prediction)\n",
        "plt.ylabel('Target'); plt.yticks(np.arange(len(target)), target)\n",
        "for j in range(5):\n",
        "    for i in range(3):\n",
        "        plt.text(j,i, '{:.2f}'.format(crit.true_dist[i, j]),\n",
        "            ha=\"center\", va=\"center\",\n",
        "            color=\"black\" if crit.true_dist[i, j] < .5 else \"white\")\n",
        "plt.ylim((-0.5, 2.5))\n",
        "plt.show()"
      ],
      "execution_count": 0,
      "outputs": []
    },
    {
      "cell_type": "markdown",
      "metadata": {
        "colab_type": "text",
        "id": "XwKyp6_BQnpp"
      },
      "source": [
        "> **Rush**: Label smoothing actually starts to penalize the model if it gets very confident about a given choice. "
      ]
    },
    {
      "cell_type": "code",
      "metadata": {
        "colab_type": "code",
        "id": "DcPfv6rMQnpp",
        "colab": {}
      },
      "source": [
        "crit = LabelSmoothing(5, 0, 0.1)\n",
        "def loss(x):\n",
        "    d = float(x + 3 * 1)\n",
        "    predict = torch.tensor([[0, x / d, 1 / d, 1 / d, 1 / d]])\n",
        "    return crit(predict.log(),\n",
        "                torch.tensor([1])).item()\n",
        "plt.plot(np.arange(1, 100), [loss(x) for x in range(1, 100)])\n",
        "plt.show()"
      ],
      "execution_count": 0,
      "outputs": []
    },
    {
      "cell_type": "markdown",
      "metadata": {
        "colab_type": "text",
        "id": "46b8o6oF-cEB"
      },
      "source": [
        "# Application 1: Sequence-to-Sequence Translation\n",
        "\n",
        "In this section we will train a Transformer to do Machine Translation. If you are interested in realistic random text generation, please make sure to check our [extra notebook on Language Modeling](https://github.com/khipu-ai/practicals-2019/blob/master/2b_nlp_transformer_extra.ipynb)."
      ]
    },
    {
      "cell_type": "markdown",
      "metadata": {
        "colab_type": "text",
        "id": "BQO55bb4Qnpr"
      },
      "source": [
        "## A first example with synthetic Data \n",
        "\n",
        "> **Rush**: We can begin by trying out a simple copy-task. Given a random set of input symbols from a small vocabulary, the goal is to generate back those same symbols. "
      ]
    },
    {
      "cell_type": "code",
      "metadata": {
        "colab_type": "code",
        "id": "nQVQalcxQnpt",
        "colab": {}
      },
      "source": [
        "def data_gen(vocab_size, batch, nbatches):\n",
        "    \"Generate random data for a src-tgt copy task.\"\n",
        "    for i in range(nbatches):\n",
        "        data = torch.randint(1, vocab_size, size=(batch, 10), device='cuda')\n",
        "        data[:, 0] = 1\n",
        "        src = data.clone()\n",
        "        tgt = data.clone()\n",
        "        yield Batch(src, tgt, 0)"
      ],
      "execution_count": 0,
      "outputs": []
    },
    {
      "cell_type": "code",
      "metadata": {
        "colab_type": "code",
        "id": "HxmdE5qH2971",
        "colab": {}
      },
      "source": [
        "batch = next(iter(data_gen(5, 1, 1)))\n",
        "print('src:', batch.src)\n",
        "print('trg:', batch.trg)"
      ],
      "execution_count": 0,
      "outputs": []
    },
    {
      "cell_type": "markdown",
      "metadata": {
        "colab_type": "text",
        "id": "uJmjAGh_Qnp0"
      },
      "source": [
        "### Greedy Decoding \n"
      ]
    },
    {
      "cell_type": "code",
      "metadata": {
        "colab_type": "code",
        "id": "GgCAXjaaQnp4",
        "colab": {}
      },
      "source": [
        "# Train the simple copy task.\n",
        "V = 11\n",
        "criterion = LabelSmoothing(size=V, padding_idx=0, smoothing=0.0)\n",
        "model = make_model(V, V, N=2).cuda()\n",
        "model_opt = VaryingRateOpt(\n",
        "    model_size=model.src_embed[0].d_model, factor=1, warmup=400, \n",
        "    optimizer=torch.optim.Adam(\n",
        "        model.parameters(), lr=0, betas=(0.9, 0.98), eps=1e-9))\n",
        "\n",
        "train_op = SimpleLossCompute(model.generator, criterion, model_opt)\n",
        "eval_loss = SimpleLossCompute(model.generator, criterion, None)\n",
        "for epoch in range(10):\n",
        "    model.train()\n",
        "    run_epoch(data_gen(V, 30, 20), model, train_op)\n",
        "    print(train_op.opt.rate())\n",
        "    model.eval()\n",
        "    print(run_epoch(data_gen(V, 30, 5), model, eval_loss))"
      ],
      "execution_count": 0,
      "outputs": []
    },
    {
      "cell_type": "markdown",
      "metadata": {
        "colab_type": "text",
        "id": "ZFUDjzRaQnp6"
      },
      "source": [
        "For simplicity, we will use **greedy decoding**. This means we will always pick the word with highest probability as the next word to geneate a sentence."
      ]
    },
    {
      "cell_type": "code",
      "metadata": {
        "colab_type": "code",
        "id": "UF9USQ6jXPSM",
        "colab": {}
      },
      "source": [
        "def greedy_decode(model, src, src_mask, max_len, start_symbol):\n",
        "    code = model.encode(src, src_mask)\n",
        "    ys = torch.ones(1, 1).fill_(start_symbol).type_as(src)\n",
        "    mask = subsequent_mask(ys.shape[1]).to(src.device)\n",
        "    for i in range(max_len-1):\n",
        "        out = model.decode(\n",
        "            memory=code, src_mask=src_mask, tgt=ys, tgt_mask=mask)\n",
        "        prob = model.generator(out[:, -1])\n",
        "        # Just pick the word with the highest probability\n",
        "        _, next_word = torch.max(prob, dim = 1)\n",
        "        next_word = next_word[0]\n",
        "        ys = torch.cat(\n",
        "            [ys, torch.ones(1, 1).type_as(src).fill_(next_word)], dim=1)\n",
        "    return ys"
      ],
      "execution_count": 0,
      "outputs": []
    },
    {
      "cell_type": "code",
      "metadata": {
        "colab_type": "code",
        "id": "mLsZDRNf2FS5",
        "colab": {}
      },
      "source": [
        "model.eval()\n",
        "src = torch.tensor([[1,2,3,4,5,6,7,8,9,10]]).to('cuda')\n",
        "src_mask = torch.ones(1, 1, 10, dtype=torch.bool).to('cuda')\n",
        "print(greedy_decode(model, src, src_mask, max_len=10, start_symbol=1))"
      ],
      "execution_count": 0,
      "outputs": []
    },
    {
      "cell_type": "markdown",
      "metadata": {
        "colab_type": "text",
        "id": "ySdprAs9Qnp_"
      },
      "source": [
        "## A Real World Translation Example\n",
        "\n",
        "> Now we consider a real-world example using the IWSLT German-English Translation task. This task is much smaller than the WMT task considered in the paper, but it illustrates the whole system. We also show how to use multi-gpu processing to make it really fast."
      ]
    },
    {
      "cell_type": "markdown",
      "metadata": {
        "colab_type": "text",
        "id": "yyfWi1K7QnqA"
      },
      "source": [
        "### Data Loading \n",
        "> We will load the dataset using torchtext and spacy for tokenization. "
      ]
    },
    {
      "cell_type": "code",
      "metadata": {
        "colab_type": "code",
        "id": "Ucmz0bicz-JI",
        "colab": {}
      },
      "source": [
        "# For data loading.\n",
        "from torchtext import data, datasets\n",
        "\n",
        "import spacy\n",
        "spacy_de = spacy.load('de')\n",
        "spacy_en = spacy.load('en')\n",
        "\n",
        "def tokenize_de(text):\n",
        "    return [tok.text for tok in spacy_de.tokenizer(text)]\n",
        "\n",
        "def tokenize_en(text):\n",
        "    return [tok.text for tok in spacy_en.tokenizer(text)]\n",
        "\n",
        "BOS_WORD = '<s>'\n",
        "EOS_WORD = '</s>'\n",
        "BLANK_WORD = \"<blank>\"\n",
        "SRC = data.Field(tokenize=tokenize_de, pad_token=BLANK_WORD)\n",
        "TGT = data.Field(tokenize=tokenize_en, init_token = BOS_WORD, \n",
        "                  eos_token = EOS_WORD, pad_token=BLANK_WORD)\n",
        "\n",
        "MAX_LEN = 100\n",
        "train, val, test = datasets.IWSLT.splits(\n",
        "    exts=('.de', '.en'), fields=(SRC, TGT), \n",
        "    filter_pred=lambda x: len(vars(x)['src']) <= MAX_LEN and \n",
        "        len(vars(x)['trg']) <= MAX_LEN)\n",
        "MIN_FREQ = 2\n",
        "SRC.build_vocab(train.src, min_freq=MIN_FREQ)\n",
        "TGT.build_vocab(train.trg, min_freq=MIN_FREQ)"
      ],
      "execution_count": 0,
      "outputs": []
    },
    {
      "cell_type": "markdown",
      "metadata": {
        "colab_type": "text",
        "id": "_QBxEFRnQnqD"
      },
      "source": [
        "> **Rush**: Batching matters a ton for speed. We want to have very evenly divided batches, with absolutely minimal padding. To do this we have to hack a bit around the default torchtext batching. This code patches their default batching to make sure we search over enough sentences to find tight batches. "
      ]
    },
    {
      "cell_type": "markdown",
      "metadata": {
        "colab_type": "text",
        "id": "h_cQ-3a9QnqE"
      },
      "source": [
        "### Iterators \n",
        "\n",
        "Iterators are auxiliary functions that shuffle and divide the dataset into convenient batches for training."
      ]
    },
    {
      "cell_type": "code",
      "metadata": {
        "colab_type": "code",
        "id": "c6uEAt3pQnqE",
        "colab": {}
      },
      "source": [
        "class MyIterator(data.Iterator):\n",
        "    def create_batches(self):\n",
        "        if self.train:\n",
        "            def pool(d, random_shuffler):\n",
        "                for p in data.batch(d, self.batch_size * 100):\n",
        "                    p_batch = data.batch(\n",
        "                        sorted(p, key=self.sort_key),\n",
        "                        self.batch_size, self.batch_size_fn)\n",
        "                    for b in random_shuffler(list(p_batch)):\n",
        "                        yield b\n",
        "            self.batches = pool(self.data(), self.random_shuffler)\n",
        "        else:\n",
        "            batched = data.batch(\n",
        "                    self.data(), self.batch_size, self.batch_size_fn)\n",
        "            self.batches = (sorted(b, key=self.sort_key) for b in batched)\n",
        "  \n",
        "def rebatch(pad_idx, batch):\n",
        "    \"Fix order in torchtext to match ours\"\n",
        "    src, trg = batch.src.transpose(0, 1).cuda(), batch.trg.transpose(0, 1).cuda()\n",
        "    return Batch(src, trg, pad_idx)  "
      ],
      "execution_count": 0,
      "outputs": []
    },
    {
      "cell_type": "markdown",
      "metadata": {
        "colab_type": "text",
        "id": "YL0mb1XkQnqK"
      },
      "source": [
        "> Now we create our model, criterion, optimizer, data iterators, and paralelization"
      ]
    },
    {
      "cell_type": "code",
      "metadata": {
        "colab_type": "code",
        "id": "BdMsk_vZQnqK",
        "colab": {}
      },
      "source": [
        "# GPUs to use\n",
        "rebuild = True \n",
        "if rebuild:\n",
        "    pad_idx = TGT.vocab.stoi[\"<blank>\"]\n",
        "    model = make_model(len(SRC.vocab), len(TGT.vocab), N=6)\n",
        "    model.cuda()\n",
        "    criterion = LabelSmoothing(size=len(TGT.vocab), padding_idx=pad_idx, smoothing=0.1)\n",
        "    criterion.cuda()\n",
        "    BATCH_SIZE = 3000\n",
        "    train_iter = MyIterator(train, batch_size=BATCH_SIZE, device='cuda:0',\n",
        "                            repeat=False, sort_key=lambda x: (len(x.src), len(x.trg)),\n",
        "                            batch_size_fn=batch_size_fn, train=True)\n",
        "    valid_iter = MyIterator(val, batch_size=BATCH_SIZE, device='cuda:0',\n",
        "                            repeat=False, sort_key=lambda x: (len(x.src), len(x.trg)),\n",
        "                            batch_size_fn=batch_size_fn, train=False)"
      ],
      "execution_count": 0,
      "outputs": []
    },
    {
      "cell_type": "markdown",
      "metadata": {
        "colab_type": "text",
        "id": "wejINEVXQnqM"
      },
      "source": [
        "> Now we train the model. I will play with the warmup steps a bit, but everything else uses the default parameters.  On an AWS p3.8xlarge with 4 Tesla V100s, this runs at ~27,000 tokens per second with a batch size of 12,000 "
      ]
    },
    {
      "cell_type": "markdown",
      "metadata": {
        "colab_type": "text",
        "id": "HU_DEaKpQnqO"
      },
      "source": [
        "### Training the System"
      ]
    },
    {
      "cell_type": "code",
      "metadata": {
        "colab_type": "code",
        "id": "Lg4Rt9qdQnqR",
        "colab": {}
      },
      "source": [
        "import warnings\n",
        "warnings.filterwarnings(action='once')\n",
        "\n",
        "# if you don't want to wait just set this to False to download a pre-trained model\n",
        "train_from_scratch = False\n",
        "if train_from_scratch: \n",
        "    model_opt = VaryingRateOpt(\n",
        "        model_size=model.src_embed[0].d_model, \n",
        "        factor=1, \n",
        "        warmup=2000, \n",
        "        optimizer=torch.optim.Adam(\n",
        "            model.parameters(), lr=0, betas=(0.9, 0.98), eps=1e-9))\n",
        "    for epoch in range(10):\n",
        "        model.train()\n",
        "        run_epoch(\n",
        "            (rebatch(pad_idx, b) for b in train_iter), \n",
        "            model, \n",
        "            SimpleLossCompute(model.generator, criterion, opt=model_opt))\n",
        "        model.eval()\n",
        "        loss = run_epoch(\n",
        "            (rebatch(pad_idx, b) for b in valid_iter), \n",
        "            model, \n",
        "            SimpleLossCompute(model.generator, criterion, opt=None))\n",
        "        print(loss)\n",
        "else:\n",
        "    !wget https://s3.amazonaws.com/opennmt-models/iwslt.pt\n",
        "    model = torch.load(\"iwslt.pt\")"
      ],
      "execution_count": 0,
      "outputs": []
    },
    {
      "cell_type": "code",
      "metadata": {
        "colab_type": "code",
        "id": "FwrsXEo66gLO",
        "colab": {}
      },
      "source": [
        "old_state_dict = model.state_dict()\n",
        "model = make_model(58794, 36321)\n",
        "model.load_state_dict(old_state_dict)\n",
        "model = model.to('cuda').eval()"
      ],
      "execution_count": 0,
      "outputs": []
    },
    {
      "cell_type": "markdown",
      "metadata": {
        "colab_type": "text",
        "id": "-irvbIG0QnqT"
      },
      "source": [
        "> Once trained we can decode the model to produce a set of random phrases. Note that for in this case, instead of maximizing the probability of the next word, we will randomly sample from the probabity distribution of the next word estimated by the model."
      ]
    },
    {
      "cell_type": "code",
      "metadata": {
        "colab_type": "code",
        "id": "qKekb9-VQnqU",
        "colab": {}
      },
      "source": [
        "num_translations = 3\n",
        "\n",
        "NO_SPACING = \" ,.';:?¿\"\n",
        "\n",
        "def vocab_lookup(vocab, indices, eos_symbol='</s>'):\n",
        "    \"Lookup the indices given by the model\"\n",
        "    symbols = []\n",
        "    for idx in indices:\n",
        "      sym = vocab.itos[idx]#.encode('utf8')\n",
        "      # EOS symbol.¿\n",
        "      if sym == eos_symbol: break\n",
        "      if symbols and sym not in NO_SPACING:\n",
        "        sym = ' ' + sym\n",
        "      symbols.append(sym)\n",
        "    return ''.join(symbols)\n",
        "\n",
        "for i, batch in enumerate(valid_iter):\n",
        "    if i > num_translations:\n",
        "      break\n",
        "    src = batch.src.transpose(0, 1)[:1].to('cuda')\n",
        "    src_mask = (src != SRC.vocab.stoi[\"<blank>\"]).unsqueeze(-2)\n",
        "    out = greedy_decode(model, src, src_mask, \n",
        "                        max_len=60, start_symbol=TGT.vocab.stoi[\"<s>\"])\n",
        "        \n",
        "    # Find the symbol that corresponds to the index\n",
        "    print(\"Original:\\t {}\".format(vocab_lookup(SRC.vocab, src[0])))\n",
        "    # The target and output start with a <s> symbol, so just slice it out.\n",
        "    print(\"Translation:\\t {}\".format(vocab_lookup(TGT.vocab, out[0, 1:])))\n",
        "    print(\"Target:\\t\\t {}\".format(vocab_lookup(TGT.vocab, batch.trg[1:,0])))\n",
        "    print(\"---\")"
      ],
      "execution_count": 0,
      "outputs": []
    },
    {
      "cell_type": "markdown",
      "metadata": {
        "colab_type": "text",
        "id": "6aVkLSN_Qnqe"
      },
      "source": [
        "## Results \n",
        "\n",
        "On the WMT 2014 English-to-German translation task, the big transformer model (Transformer (big)\n",
        "in Table 2) outperforms the best previously reported models (including ensembles) by more than 2.0\n",
        "BLEU, establishing a new state-of-the-art BLEU score of 28.4. The configuration of this model is\n",
        "listed in the bottom line of Table 3. Training took 3.5 days on 8 P100 GPUs. Even our base model\n",
        "surpasses all previously published models and ensembles, at a fraction of the training cost of any of\n",
        "the competitive models.\n",
        "\n",
        "On the WMT 2014 English-to-French translation task, our big model achieves a BLEU score of 41.0,\n",
        "outperforming all of the previously published single models, at less than 1/4 the training cost of the\n",
        "previous state-of-the-art model. The Transformer (big) model trained for English-to-French used\n",
        "dropout rate Pdrop = 0.1, instead of 0.3.\n",
        "\n"
      ]
    },
    {
      "cell_type": "markdown",
      "metadata": {
        "colab_type": "text",
        "id": "9PeyuYDebXRn"
      },
      "source": [
        "<center> \n",
        "  <img src=\"https://nlp.seas.harvard.edu/images/the-annotated-transformer_113_0.png\" width=50%>\n",
        "\n",
        "\n",
        "</center>"
      ]
    },
    {
      "cell_type": "markdown",
      "metadata": {
        "colab_type": "text",
        "id": "1dLKU7SsQnqh"
      },
      "source": [
        "> **Rush**: The code we have written here is a version of the base model. There are fully trained version of this system available [here](http://opennmt.net/Models-py/).\n",
        ">\n",
        "> With the additional extensions in the last section, the OpenNMT-py replication gets to 26.9 on EN-DE WMT. Here I have loaded in those parameters to our reimplemenation. "
      ]
    },
    {
      "cell_type": "code",
      "metadata": {
        "colab_type": "code",
        "id": "UVmc_P2xQnqh",
        "colab": {}
      },
      "source": [
        "!wget https://s3.amazonaws.com/opennmt-models/en-de-model.pt"
      ],
      "execution_count": 0,
      "outputs": []
    },
    {
      "cell_type": "code",
      "metadata": {
        "colab_type": "code",
        "id": "PezXkMf_6eU4",
        "colab": {}
      },
      "source": [
        "model, src_vocab, tgt_vocab = torch.load('en-de-model.pt')"
      ],
      "execution_count": 0,
      "outputs": []
    },
    {
      "cell_type": "code",
      "metadata": {
        "colab_type": "code",
        "id": "5AeB_qCv6km5",
        "colab": {}
      },
      "source": [
        "old_state_dict = model.state_dict()\n",
        "model = make_model(len(src_vocab), len(tgt_vocab))\n",
        "model.load_state_dict(old_state_dict)\n",
        "model = model.to('cuda').eval()"
      ],
      "execution_count": 0,
      "outputs": []
    },
    {
      "cell_type": "markdown",
      "metadata": {
        "colab_type": "text",
        "id": "TNSC7j5tQnqs"
      },
      "source": [
        "## Attention Visualization \n",
        "\n",
        "> **Rush**: Even with a greedy decoder the translation looks pretty good. We can further visualize it to see what is happening at each layer of the attention "
      ]
    },
    {
      "cell_type": "code",
      "metadata": {
        "colab_type": "code",
        "id": "ovzcqTlJfgDs",
        "colab": {}
      },
      "source": [
        "batch = list(iter(valid_iter))[3]\n",
        "src = batch.src.transpose(0, 1)[:1].cuda()\n",
        "src_mask = (src != SRC.vocab.stoi[\"<blank>\"]).unsqueeze(-2)\n",
        "out = greedy_decode(model, src, src_mask, \n",
        "                        max_len=12, start_symbol=TGT.vocab.stoi[\"<s>\"])\n",
        "orig = vocab_lookup(SRC.vocab, src[0])\n",
        "txt = vocab_lookup(TGT.vocab, out[0, 1:])\n",
        "\n",
        "print( \"Original:\\t %s\\n\" % orig     )   \n",
        "print( \"Translation:\\t %s\\n\" % txt  )      \n",
        "\n",
        "\n",
        "tgt_sent = txt.split()\n",
        "sent = orig.split()\n",
        "\n",
        "\n",
        "seaborn.set(font_scale=1.0)\n",
        "def draw(data, x, y, ax):\n",
        "    seaborn.heatmap(\n",
        "        data, \n",
        "        xticklabels=x, \n",
        "        yticklabels=y,\n",
        "        square=True, vmin=0.0, vmax=1.0, \n",
        "        cbar=False, ax=ax, cmap=\"YlGnBu\", linewidths=.5)"
      ],
      "execution_count": 0,
      "outputs": []
    },
    {
      "cell_type": "code",
      "metadata": {
        "cellView": "form",
        "colab_type": "code",
        "id": "dUc-TXImd95y",
        "colab": {}
      },
      "source": [
        "#@title Encoder attention { run: \"auto\" }\n",
        "encoder_layer = \"1\" #@param [1, 3, 5]\n",
        "fig, axs = plt.subplots(1,4, figsize=(20, 10))\n",
        "for h in range(4): draw(\n",
        "    model.encoder.layers[int(encoder_layer)].self_attn.attn[0, h].data.cpu(),\n",
        "    sent, sent if h ==0 else [], ax=axs[h])\n",
        "plt.show()"
      ],
      "execution_count": 0,
      "outputs": []
    },
    {
      "cell_type": "code",
      "metadata": {
        "cellView": "form",
        "colab_type": "code",
        "id": "Qh0qh6Ozf0gn",
        "colab": {}
      },
      "source": [
        "#@title Decoder Attention {run: \"auto\"}\n",
        "decoder_layer = \"1\" #@param [1, 3, 5]\n",
        "layer = int(decoder_layer)\n",
        "\n",
        "fig, axs = plt.subplots(2, 4, figsize=(20, 10))\n",
        "attn = model.decoder.layers[layer].self_attn.attn\n",
        "for h in range(4): \n",
        "    l = attn[0, h].data[:len(tgt_sent), :len(tgt_sent)].cpu()\n",
        "    draw(l, tgt_sent, tgt_sent if h ==0 else [], ax=axs[0,h])\n",
        "for h in range(4): \n",
        "    l = attn[0, h].data[:len(tgt_sent), :len(sent)].cpu()\n",
        "    draw(l, sent, tgt_sent if h ==0 else [], ax=axs[1, h])\n",
        "plt.show()\n"
      ],
      "execution_count": 0,
      "outputs": []
    }
  ]
}