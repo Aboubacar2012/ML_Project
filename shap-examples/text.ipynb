{
 "cells": [
  {
   "cell_type": "code",
   "execution_count": 9,
   "id": "f5091910",
   "metadata": {},
   "outputs": [],
   "source": [
    "from sklearn.datasets import fetch_20newsgroups\n",
    "import matplotlib as mpl\n",
    "mpl.rcParams['figure.dpi']= 300"
   ]
  },
  {
   "cell_type": "code",
   "execution_count": 13,
   "id": "4867580e",
   "metadata": {},
   "outputs": [],
   "source": [
    "data = fetch_20newsgroups(subset=\"all\")"
   ]
  },
  {
   "cell_type": "code",
   "execution_count": 51,
   "id": "f0cd81d3",
   "metadata": {},
   "outputs": [],
   "source": [
    "X, y = data.data, data.target\n",
    "X = [x[256:512+256].replace(\">\", \" \") for x in X]  # Shortening so no issues with transformers"
   ]
  },
  {
   "cell_type": "code",
   "execution_count": 52,
   "id": "00115701",
   "metadata": {},
   "outputs": [
    {
     "name": "stdout",
     "output_type": "stream",
     "text": [
      "993Apr27.004240.24401@csi.jpl.nasa.gov , by eldred@rrunner.jpl.nasa.gov (Dan Eldred):\n",
      "   In article <1rh9b0INN2r4@snoopy.cis.ufl.edu  ruck@beach.cis.ufl.edu (John Ruckstuhl) writes:\n",
      "   I know this is a long shot, but does anyone know what solvent I should \n",
      "   use to clean duct-tape adhesive from carpet?\n",
      "   Someone taped wires to the carpet, and now it is time to move out.\n",
      "   \n",
      "   I don't know for sure that this will work, but you might try MEK (methyl\n",
      "   ethyl keytone?).  It worked getting the stickum left o\n"
     ]
    }
   ],
   "source": [
    "print(X[42])"
   ]
  },
  {
   "cell_type": "code",
   "execution_count": 53,
   "id": "2355f662",
   "metadata": {},
   "outputs": [],
   "source": [
    "import transformers\n",
    "import shap"
   ]
  },
  {
   "cell_type": "code",
   "execution_count": 58,
   "id": "33cd9cea",
   "metadata": {},
   "outputs": [
    {
     "name": "stderr",
     "output_type": "stream",
     "text": [
      "Partition explainer:  76%|██████████████████████████████████████████████▎              | 38/50 [01:55<00:37,  3.08s/it]"
     ]
    },
    {
     "data": {
      "application/vnd.jupyter.widget-view+json": {
       "model_id": "",
       "version_major": 2,
       "version_minor": 0
      },
      "text/plain": [
       "  0%|          | 0/48 [00:00<?, ?it/s]"
      ]
     },
     "metadata": {},
     "output_type": "display_data"
    },
    {
     "name": "stderr",
     "output_type": "stream",
     "text": [
      "Partition explainer:  92%|████████████████████████████████████████████████████████     | 46/50 [02:25<00:13,  3.34s/it]"
     ]
    },
    {
     "data": {
      "application/vnd.jupyter.widget-view+json": {
       "model_id": "",
       "version_major": 2,
       "version_minor": 0
      },
      "text/plain": [
       "  0%|          | 0/48 [00:00<?, ?it/s]"
      ]
     },
     "metadata": {},
     "output_type": "display_data"
    },
    {
     "name": "stderr",
     "output_type": "stream",
     "text": [
      "Partition explainer: 51it [02:44,  3.51s/it]                                                                           \n"
     ]
    }
   ],
   "source": [
    "# load a transformers pipeline model\n",
    "model = transformers.pipeline('sentiment-analysis', return_all_scores=True)\n",
    "# explain the model on two sample inputs\n",
    "explainer = shap.Explainer(model)\n",
    "shap_values = explainer(X[200:250])"
   ]
  },
  {
   "cell_type": "code",
   "execution_count": 83,
   "id": "f14af135",
   "metadata": {},
   "outputs": [
    {
     "data": {
      "text/html": [
       "<svg width=\"100%\" height=\"80px\"><line x1=\"0\" y1=\"33\" x2=\"100%\" y2=\"33\" style=\"stroke:rgb(150,150,150);stroke-width:1\" /><line x1=\"33.821645%\" y1=\"33\" x2=\"33.821645%\" y2=\"37\" style=\"stroke:rgb(150,150,150);stroke-width:1\" /><text x=\"33.821645%\" y=\"27\" font-size=\"12px\" fill=\"rgb(120,120,120)\" dominant-baseline=\"bottom\" text-anchor=\"middle\">0.115715</text><text x=\"33.821645%\" y=\"10\" font-size=\"12px\" fill=\"rgb(120,120,120)\" dominant-baseline=\"bottom\" text-anchor=\"middle\">base value</text><line x1=\"19.535931%\" y1=\"33\" x2=\"19.535931%\" y2=\"37\" style=\"stroke:rgb(150,150,150);stroke-width:1\" /><text x=\"19.535931%\" y=\"27\" font-size=\"12px\" fill=\"rgb(120,120,120)\" dominant-baseline=\"bottom\" text-anchor=\"middle\">-2.118904</text><line x1=\"48.107360%\" y1=\"33\" x2=\"48.107360%\" y2=\"37\" style=\"stroke:rgb(150,150,150);stroke-width:1\" /><text x=\"48.107360%\" y=\"27\" font-size=\"12px\" fill=\"rgb(120,120,120)\" dominant-baseline=\"bottom\" text-anchor=\"middle\">2.350333</text><line x1=\"62.393074%\" y1=\"33\" x2=\"62.393074%\" y2=\"37\" style=\"stroke:rgb(150,150,150);stroke-width:1\" /><text x=\"62.393074%\" y=\"27\" font-size=\"12px\" fill=\"rgb(120,120,120)\" dominant-baseline=\"bottom\" text-anchor=\"middle\">4.584951</text><line x1=\"76.678788%\" y1=\"33\" x2=\"76.678788%\" y2=\"37\" style=\"stroke:rgb(150,150,150);stroke-width:1\" /><text x=\"76.678788%\" y=\"27\" font-size=\"12px\" fill=\"rgb(120,120,120)\" dominant-baseline=\"bottom\" text-anchor=\"middle\">6.819570</text><line x1=\"90.964503%\" y1=\"33\" x2=\"90.964503%\" y2=\"37\" style=\"stroke:rgb(150,150,150);stroke-width:1\" /><text x=\"90.964503%\" y=\"27\" font-size=\"12px\" fill=\"rgb(120,120,120)\" dominant-baseline=\"bottom\" text-anchor=\"middle\">9.054188</text><line x1=\"66.178355%\" y1=\"33\" x2=\"66.178355%\" y2=\"37\" style=\"stroke:rgb(150,150,150);stroke-width:1\" /><text x=\"66.178355%\" y=\"27\" font-size=\"13px\" style=\"stroke:#ffffff;stroke-width:8px;\" font-weight=\"bold\" fill=\"rgb(255,255,255)\" dominant-baseline=\"bottom\" text-anchor=\"middle\">5.177057</text><text x=\"66.178355%\" y=\"27\" font-size=\"13px\" font-weight=\"bold\" fill=\"rgb(0,0,0)\" dominant-baseline=\"bottom\" text-anchor=\"middle\">5.177057</text><text x=\"66.178355%\" y=\"10\" font-size=\"12px\" fill=\"rgb(120,120,120)\" dominant-baseline=\"bottom\" text-anchor=\"middle\">f(x)</text><rect x=\"8.333333333333334%\" width=\"57.84502118536496%\" y=\"40\" height=\"18\" style=\"fill:rgb(255.0, 0.0, 81.08083606031792); stroke-width:0; stroke:rgb(0,0,0)\" /><line x1=\"33.3468132934355%\" x2=\"66.1783545186983%\" y1=\"60\" y2=\"60\" id=\"_fb_xxeczcbyfhbznqxuxzuw_ind_2\" style=\"stroke:rgb(255.0, 0.0, 81.08083606031792);stroke-width:2; opacity: 0\"/><text x=\"49.7625839060669%\" y=\"71\" font-size=\"12px\" id=\"_fs_xxeczcbyfhbznqxuxzuw_ind_2\" fill=\"rgb(255.0, 0.0, 81.08083606031792)\" style=\"opacity: 0\" dominant-baseline=\"middle\" text-anchor=\"middle\">5.136</text><svg x=\"33.3468132934355%\" y=\"40\" height=\"20\" width=\"32.8315412252628%\">  <svg x=\"0\" y=\"0\" width=\"100%\" height=\"100%\">    <text x=\"50%\" y=\"9\" font-size=\"12px\" fill=\"rgb(255,255,255)\" dominant-baseline=\"middle\" text-anchor=\"middle\">and am very happy with\n",
       "it.</text>  </svg></svg><line x1=\"19.69751836702784%\" x2=\"33.3468132934355%\" y1=\"60\" y2=\"60\" id=\"_fb_xxeczcbyfhbznqxuxzuw_ind_3\" style=\"stroke:rgb(255.0, 0.0, 81.08083606031792);stroke-width:2; opacity: 0\"/><text x=\"26.52216583023167%\" y=\"71\" font-size=\"12px\" id=\"_fs_xxeczcbyfhbznqxuxzuw_ind_3\" fill=\"rgb(255.0, 0.0, 81.08083606031792)\" style=\"opacity: 0\" dominant-baseline=\"middle\" text-anchor=\"middle\">2.135</text><svg x=\"19.69751836702784%\" y=\"40\" height=\"20\" width=\"13.649294926407663%\">  <svg x=\"0\" y=\"0\" width=\"100%\" height=\"100%\">    <text x=\"50%\" y=\"9\" font-size=\"12px\" fill=\"rgb(255,255,255)\" dominant-baseline=\"middle\" text-anchor=\"middle\">Lots of room inside and even with the smaller engine it has\n",
       "enough power for me.</text>  </svg></svg><line x1=\"8.333333333333334%\" x2=\"19.69751836702784%\" y1=\"60\" y2=\"60\" id=\"_fb_xxeczcbyfhbznqxuxzuw_ind_1\" style=\"stroke:rgb(255.0, 0.0, 81.08083606031792);stroke-width:2; opacity: 0\"/><text x=\"14.015425850180588%\" y=\"71\" font-size=\"12px\" id=\"_fs_xxeczcbyfhbznqxuxzuw_ind_1\" fill=\"rgb(255.0, 0.0, 81.08083606031792)\" style=\"opacity: 0\" dominant-baseline=\"middle\" text-anchor=\"middle\">1.778</text><svg x=\"8.333333333333334%\" y=\"40\" height=\"20\" width=\"11.364185033694506%\">  <svg x=\"0\" y=\"0\" width=\"100%\" height=\"100%\">    <text x=\"50%\" y=\"9\" font-size=\"12px\" fill=\"rgb(255,255,255)\" dominant-baseline=\"middle\" text-anchor=\"middle\">o months ago</text>  </svg></svg><g transform=\"translate(0,0)\">  <svg x=\"33.3468132934355%\" y=\"40\" height=\"18\" overflow=\"visible\" width=\"30\">    <path d=\"M 0 -9 l 6 18 L 0 25\" fill=\"none\" style=\"stroke:rgb(255.0, 0.0, 81.08083606031792);stroke-width:2\" />  </svg></g><g transform=\"translate(2,0)\">  <svg x=\"33.3468132934355%\" y=\"40\" height=\"18\" overflow=\"visible\" width=\"30\">    <path d=\"M 0 -9 l 6 18 L 0 25\" fill=\"none\" style=\"stroke:rgb(255.0, 0.0, 81.08083606031792);stroke-width:2\" />  </svg></g><g transform=\"translate(4,0)\">  <svg x=\"33.3468132934355%\" y=\"40\" height=\"18\" overflow=\"visible\" width=\"30\">    <path d=\"M 0 -9 l 6 18 L 0 25\" fill=\"none\" style=\"stroke:rgb(255.0, 0.0, 81.08083606031792);stroke-width:2\" />  </svg></g><g transform=\"translate(6,0)\">  <svg x=\"33.3468132934355%\" y=\"40\" height=\"18\" overflow=\"visible\" width=\"30\">    <path d=\"M 0 -9 l 6 18 L 0 25\" fill=\"none\" style=\"stroke:rgb(255.0, 0.0, 81.08083606031792);stroke-width:2\" />  </svg></g><g transform=\"translate(-8,0)\">  <svg x=\"33.3468132934355%\" y=\"40\" height=\"18\" overflow=\"visible\" width=\"30\">    <path d=\"M 0 -9 l 6 18 L 0 25\" fill=\"none\" style=\"stroke:rgb(255.0, 0.0, 81.08083606031792);stroke-width:2\" />  </svg></g><g transform=\"translate(-6,0)\">  <svg x=\"33.3468132934355%\" y=\"40\" height=\"18\" overflow=\"visible\" width=\"30\">    <path d=\"M 0 -9 l 6 18 L 0 25\" fill=\"none\" style=\"stroke:rgb(255.0, 0.0, 81.08083606031792);stroke-width:2\" />  </svg></g><g transform=\"translate(-4,0)\">  <svg x=\"33.3468132934355%\" y=\"40\" height=\"18\" overflow=\"visible\" width=\"30\">    <path d=\"M 0 -9 l 6 18 L 0 25\" fill=\"none\" style=\"stroke:rgb(255.0, 0.0, 81.08083606031792);stroke-width:2\" />  </svg></g><g transform=\"translate(-2,0)\">  <svg x=\"33.3468132934355%\" y=\"40\" height=\"18\" overflow=\"visible\" width=\"30\">    <path d=\"M 0 -9 l 6 18 L 0 25\" fill=\"none\" style=\"stroke:rgb(255.0, 0.0, 81.08083606031792);stroke-width:2\" />  </svg></g><g transform=\"translate(0,0)\">  <svg x=\"19.69751836702784%\" y=\"40\" height=\"18\" overflow=\"visible\" width=\"30\">    <path d=\"M 0 -9 l 6 18 L 0 25\" fill=\"none\" style=\"stroke:rgb(255.0, 0.0, 81.08083606031792);stroke-width:2\" />  </svg></g><g transform=\"translate(2,0)\">  <svg x=\"19.69751836702784%\" y=\"40\" height=\"18\" overflow=\"visible\" width=\"30\">    <path d=\"M 0 -9 l 6 18 L 0 25\" fill=\"none\" style=\"stroke:rgb(255.0, 0.0, 81.08083606031792);stroke-width:2\" />  </svg></g><g transform=\"translate(4,0)\">  <svg x=\"19.69751836702784%\" y=\"40\" height=\"18\" overflow=\"visible\" width=\"30\">    <path d=\"M 0 -9 l 6 18 L 0 25\" fill=\"none\" style=\"stroke:rgb(255.0, 0.0, 81.08083606031792);stroke-width:2\" />  </svg></g><g transform=\"translate(6,0)\">  <svg x=\"19.69751836702784%\" y=\"40\" height=\"18\" overflow=\"visible\" width=\"30\">    <path d=\"M 0 -9 l 6 18 L 0 25\" fill=\"none\" style=\"stroke:rgb(255.0, 0.0, 81.08083606031792);stroke-width:2\" />  </svg></g><g transform=\"translate(-8,0)\">  <svg x=\"19.69751836702784%\" y=\"40\" height=\"18\" overflow=\"visible\" width=\"30\">    <path d=\"M 0 -9 l 6 18 L 0 25\" fill=\"none\" style=\"stroke:rgb(255.0, 0.0, 81.08083606031792);stroke-width:2\" />  </svg></g><g transform=\"translate(-6,0)\">  <svg x=\"19.69751836702784%\" y=\"40\" height=\"18\" overflow=\"visible\" width=\"30\">    <path d=\"M 0 -9 l 6 18 L 0 25\" fill=\"none\" style=\"stroke:rgb(255.0, 0.0, 81.08083606031792);stroke-width:2\" />  </svg></g><g transform=\"translate(-4,0)\">  <svg x=\"19.69751836702784%\" y=\"40\" height=\"18\" overflow=\"visible\" width=\"30\">    <path d=\"M 0 -9 l 6 18 L 0 25\" fill=\"none\" style=\"stroke:rgb(255.0, 0.0, 81.08083606031792);stroke-width:2\" />  </svg></g><g transform=\"translate(-2,0)\">  <svg x=\"19.69751836702784%\" y=\"40\" height=\"18\" overflow=\"visible\" width=\"30\">    <path d=\"M 0 -9 l 6 18 L 0 25\" fill=\"none\" style=\"stroke:rgb(255.0, 0.0, 81.08083606031792);stroke-width:2\" />  </svg></g><rect transform=\"translate(-8,0)\" x=\"66.1783545186983%\" y=\"40\" width=\"8\" height=\"18\" style=\"fill:rgb(255.0, 0.0, 81.08083606031792)\"/><g transform=\"translate(-11.5,0)\">  <svg x=\"8.333333333333334%\" y=\"40\" height=\"18\" overflow=\"visible\" width=\"30\">    <path d=\"M 10 -9 l 6 18 L 10 25 L 0 25 L 0 -9\" fill=\"#ffffff\" style=\"stroke:rgb(255,255,255);stroke-width:2\" />  </svg></g><g transform=\"translate(-1.5,0)\">  <svg x=\"66.1783545186983%\" y=\"40\" height=\"18\" overflow=\"visible\" width=\"30\">    <path d=\"M 0 -9 l 6 18 L 0 25\" fill=\"none\" style=\"stroke:rgb(255, 195, 213);stroke-width:2\" />  </svg></g><rect x=\"33.3468132934355%\" y=\"40\" height=\"20\" width=\"32.8315412252628%\"      onmouseover=\"document.getElementById('_tp_xxeczcbyfhbznqxuxzuw_ind_2').style.textDecoration = 'underline';document.getElementById('_fs_xxeczcbyfhbznqxuxzuw_ind_2').style.opacity = 1;document.getElementById('_fb_xxeczcbyfhbznqxuxzuw_ind_2').style.opacity = 1;\"      onmouseout=\"document.getElementById('_tp_xxeczcbyfhbznqxuxzuw_ind_2').style.textDecoration = 'none';document.getElementById('_fs_xxeczcbyfhbznqxuxzuw_ind_2').style.opacity = 0;document.getElementById('_fb_xxeczcbyfhbznqxuxzuw_ind_2').style.opacity = 0;\" style=\"fill:rgb(0,0,0,0)\" /><g transform=\"translate(-1.5,0)\">  <svg x=\"33.3468132934355%\" y=\"40\" height=\"18\" overflow=\"visible\" width=\"30\">    <path d=\"M 0 -9 l 6 18 L 0 25\" fill=\"none\" style=\"stroke:rgb(255, 195, 213);stroke-width:2\" />  </svg></g><rect x=\"19.69751836702784%\" y=\"40\" height=\"20\" width=\"13.649294926407663%\"      onmouseover=\"document.getElementById('_tp_xxeczcbyfhbznqxuxzuw_ind_3').style.textDecoration = 'underline';document.getElementById('_fs_xxeczcbyfhbznqxuxzuw_ind_3').style.opacity = 1;document.getElementById('_fb_xxeczcbyfhbznqxuxzuw_ind_3').style.opacity = 1;\"      onmouseout=\"document.getElementById('_tp_xxeczcbyfhbznqxuxzuw_ind_3').style.textDecoration = 'none';document.getElementById('_fs_xxeczcbyfhbznqxuxzuw_ind_3').style.opacity = 0;document.getElementById('_fb_xxeczcbyfhbznqxuxzuw_ind_3').style.opacity = 0;\" style=\"fill:rgb(0,0,0,0)\" /><rect x=\"8.333333333333334%\" y=\"40\" height=\"20\" width=\"11.364185033694506%\"      onmouseover=\"document.getElementById('_tp_xxeczcbyfhbznqxuxzuw_ind_1').style.textDecoration = 'underline';document.getElementById('_fs_xxeczcbyfhbznqxuxzuw_ind_1').style.opacity = 1;document.getElementById('_fb_xxeczcbyfhbznqxuxzuw_ind_1').style.opacity = 1;\"      onmouseout=\"document.getElementById('_tp_xxeczcbyfhbznqxuxzuw_ind_1').style.textDecoration = 'none';document.getElementById('_fs_xxeczcbyfhbznqxuxzuw_ind_1').style.opacity = 0;document.getElementById('_fb_xxeczcbyfhbznqxuxzuw_ind_1').style.opacity = 0;\" style=\"fill:rgb(0,0,0,0)\" /><rect x=\"66.1783545186983%\" width=\"25.488312147968365%\" y=\"40\" height=\"18\" style=\"fill:rgb(0.0, 138.56128015770724, 250.76166088685727); stroke-width:0; stroke:rgb(0,0,0)\" /><line x1=\"66.1783545186983%\" x2=\"90.26207003791133%\" y1=\"60\" y2=\"60\" id=\"_fb_xxeczcbyfhbznqxuxzuw_ind_4\" style=\"stroke:rgb(0.0, 138.56128015770724, 250.76166088685727);stroke-width:2; opacity: 0\"/><text x=\"78.22021227830481%\" y=\"71\" font-size=\"12px\" fill=\"rgb(0.0, 138.56128015770724, 250.76166088685727)\" id=\"_fs_xxeczcbyfhbznqxuxzuw_ind_4\" style=\"opacity: 0\" dominant-baseline=\"middle\" text-anchor=\"middle\">-3.767</text><svg x=\"66.1783545186983%\" y=\"40\" height=\"20\" width=\"24.08371551921303%\">  <svg x=\"0\" y=\"0\" width=\"100%\" height=\"100%\">    <text x=\"50%\" y=\"9\" font-size=\"12px\" fill=\"rgb(255,255,255)\" dominant-baseline=\"middle\" text-anchor=\"middle\">The only problem I found was a small\n",
       "selection on the dealer's lots.</text>  </svg></svg><line x1=\"90.26207003791133%\" x2=\"91.66661393398056%\" y1=\"60\" y2=\"60\" id=\"_fb_xxeczcbyfhbznqxuxzuw_ind_5\" style=\"stroke:rgb(0.0, 138.56128015770724, 250.76166088685727);stroke-width:2; opacity: 0\"/><text x=\"90.96434198594594%\" y=\"71\" font-size=\"12px\" fill=\"rgb(0.0, 138.56128015770724, 250.76166088685727)\" id=\"_fs_xxeczcbyfhbznqxuxzuw_ind_5\" style=\"opacity: 0\" dominant-baseline=\"middle\" text-anchor=\"middle\">-0.22</text><svg x=\"90.26207003791133%\" y=\"40\" height=\"20\" width=\"1.404543896069228%\">  <svg x=\"0\" y=\"0\" width=\"100%\" height=\"100%\">    <text x=\"50%\" y=\"9\" font-size=\"12px\" fill=\"rgb(255,255,255)\" dominant-baseline=\"middle\" text-anchor=\"middle\">They are hot sellers around here.\n",
       "--</text>  </svg></svg><line x1=\"91.66661393398056%\" x2=\"91.66664959887007%\" y1=\"60\" y2=\"60\" id=\"_fb_xxeczcbyfhbznqxuxzuw_ind_6\" style=\"stroke:rgb(0.0, 138.56128015770724, 250.76166088685727);stroke-width:2; opacity: 0\"/><text x=\"91.66663176642531%\" y=\"71\" font-size=\"12px\" fill=\"rgb(0.0, 138.56128015770724, 250.76166088685727)\" id=\"_fs_xxeczcbyfhbznqxuxzuw_ind_6\" style=\"opacity: 0\" dominant-baseline=\"middle\" text-anchor=\"middle\">-0.0</text><svg x=\"91.66661393398056%\" y=\"40\" height=\"20\" width=\"3.5664889509234854e-05%\">  <svg x=\"0\" y=\"0\" width=\"100%\" height=\"100%\">    <text x=\"50%\" y=\"9\" font-size=\"12px\" fill=\"rgb(255,255,255)\" dominant-baseline=\"middle\" text-anchor=\"middle\"></text>  </svg></svg><line x1=\"91.66664959887007%\" x2=\"91.66666666666666%\" y1=\"60\" y2=\"60\" id=\"_fb_xxeczcbyfhbznqxuxzuw_ind_0\" style=\"stroke:rgb(0.0, 138.56128015770724, 250.76166088685727);stroke-width:2; opacity: 0\"/><text x=\"91.66665813276836%\" y=\"71\" font-size=\"12px\" fill=\"rgb(0.0, 138.56128015770724, 250.76166088685727)\" id=\"_fs_xxeczcbyfhbznqxuxzuw_ind_0\" style=\"opacity: 0\" dominant-baseline=\"middle\" text-anchor=\"middle\">-0.0</text><svg x=\"91.66664959887007%\" y=\"40\" height=\"20\" width=\"1.7067796591163642e-05%\">  <svg x=\"0\" y=\"0\" width=\"100%\" height=\"100%\">    <text x=\"50%\" y=\"9\" font-size=\"12px\" fill=\"rgb(255,255,255)\" dominant-baseline=\"middle\" text-anchor=\"middle\"></text>  </svg></svg><g transform=\"translate(-8,0)\">  <svg x=\"90.26207003791133%\" y=\"40\" height=\"18\" overflow=\"visible\" width=\"30\">    <path d=\"M 8 -9 l -6 18 L 8 25\" fill=\"none\" style=\"stroke:rgb(0.0, 138.56128015770724, 250.76166088685727);stroke-width:2\" />  </svg></g><g transform=\"translate(-10,0)\">  <svg x=\"90.26207003791133%\" y=\"40\" height=\"18\" overflow=\"visible\" width=\"30\">    <path d=\"M 8 -9 l -6 18 L 8 25\" fill=\"none\" style=\"stroke:rgb(0.0, 138.56128015770724, 250.76166088685727);stroke-width:2\" />  </svg></g><g transform=\"translate(-12,0)\">  <svg x=\"90.26207003791133%\" y=\"40\" height=\"18\" overflow=\"visible\" width=\"30\">    <path d=\"M 8 -9 l -6 18 L 8 25\" fill=\"none\" style=\"stroke:rgb(0.0, 138.56128015770724, 250.76166088685727);stroke-width:2\" />  </svg></g><g transform=\"translate(-14,0)\">  <svg x=\"90.26207003791133%\" y=\"40\" height=\"18\" overflow=\"visible\" width=\"30\">    <path d=\"M 8 -9 l -6 18 L 8 25\" fill=\"none\" style=\"stroke:rgb(0.0, 138.56128015770724, 250.76166088685727);stroke-width:2\" />  </svg></g><g transform=\"translate(2,0)\">  <svg x=\"90.26207003791133%\" y=\"40\" height=\"18\" overflow=\"visible\" width=\"30\">    <path d=\"M 8 -9 l -6 18 L 8 25\" fill=\"none\" style=\"stroke:rgb(0.0, 138.56128015770724, 250.76166088685727);stroke-width:2\" />  </svg></g><g transform=\"translate(0,0)\">  <svg x=\"90.26207003791133%\" y=\"40\" height=\"18\" overflow=\"visible\" width=\"30\">    <path d=\"M 8 -9 l -6 18 L 8 25\" fill=\"none\" style=\"stroke:rgb(0.0, 138.56128015770724, 250.76166088685727);stroke-width:2\" />  </svg></g><g transform=\"translate(-2,0)\">  <svg x=\"90.26207003791133%\" y=\"40\" height=\"18\" overflow=\"visible\" width=\"30\">    <path d=\"M 8 -9 l -6 18 L 8 25\" fill=\"none\" style=\"stroke:rgb(0.0, 138.56128015770724, 250.76166088685727);stroke-width:2\" />  </svg></g><g transform=\"translate(-4,0)\">  <svg x=\"90.26207003791133%\" y=\"40\" height=\"18\" overflow=\"visible\" width=\"30\">    <path d=\"M 8 -9 l -6 18 L 8 25\" fill=\"none\" style=\"stroke:rgb(0.0, 138.56128015770724, 250.76166088685727);stroke-width:2\" />  </svg></g><g transform=\"translate(-8,0)\">  <svg x=\"91.66661393398056%\" y=\"40\" height=\"18\" overflow=\"visible\" width=\"30\">    <path d=\"M 8 -9 l -6 18 L 8 25\" fill=\"none\" style=\"stroke:rgb(0.0, 138.56128015770724, 250.76166088685727);stroke-width:2\" />  </svg></g><g transform=\"translate(-10,0)\">  <svg x=\"91.66661393398056%\" y=\"40\" height=\"18\" overflow=\"visible\" width=\"30\">    <path d=\"M 8 -9 l -6 18 L 8 25\" fill=\"none\" style=\"stroke:rgb(0.0, 138.56128015770724, 250.76166088685727);stroke-width:2\" />  </svg></g><g transform=\"translate(-12,0)\">  <svg x=\"91.66661393398056%\" y=\"40\" height=\"18\" overflow=\"visible\" width=\"30\">    <path d=\"M 8 -9 l -6 18 L 8 25\" fill=\"none\" style=\"stroke:rgb(0.0, 138.56128015770724, 250.76166088685727);stroke-width:2\" />  </svg></g><g transform=\"translate(-14,0)\">  <svg x=\"91.66661393398056%\" y=\"40\" height=\"18\" overflow=\"visible\" width=\"30\">    <path d=\"M 8 -9 l -6 18 L 8 25\" fill=\"none\" style=\"stroke:rgb(0.0, 138.56128015770724, 250.76166088685727);stroke-width:2\" />  </svg></g><g transform=\"translate(2,0)\">  <svg x=\"91.66661393398056%\" y=\"40\" height=\"18\" overflow=\"visible\" width=\"30\">    <path d=\"M 8 -9 l -6 18 L 8 25\" fill=\"none\" style=\"stroke:rgb(0.0, 138.56128015770724, 250.76166088685727);stroke-width:2\" />  </svg></g><g transform=\"translate(0,0)\">  <svg x=\"91.66661393398056%\" y=\"40\" height=\"18\" overflow=\"visible\" width=\"30\">    <path d=\"M 8 -9 l -6 18 L 8 25\" fill=\"none\" style=\"stroke:rgb(0.0, 138.56128015770724, 250.76166088685727);stroke-width:2\" />  </svg></g><g transform=\"translate(-2,0)\">  <svg x=\"91.66661393398056%\" y=\"40\" height=\"18\" overflow=\"visible\" width=\"30\">    <path d=\"M 8 -9 l -6 18 L 8 25\" fill=\"none\" style=\"stroke:rgb(0.0, 138.56128015770724, 250.76166088685727);stroke-width:2\" />  </svg></g><g transform=\"translate(-4,0)\">  <svg x=\"91.66661393398056%\" y=\"40\" height=\"18\" overflow=\"visible\" width=\"30\">    <path d=\"M 8 -9 l -6 18 L 8 25\" fill=\"none\" style=\"stroke:rgb(0.0, 138.56128015770724, 250.76166088685727);stroke-width:2\" />  </svg></g><g transform=\"translate(-8,0)\">  <svg x=\"91.66664959887007%\" y=\"40\" height=\"18\" overflow=\"visible\" width=\"30\">    <path d=\"M 8 -9 l -6 18 L 8 25\" fill=\"none\" style=\"stroke:rgb(0.0, 138.56128015770724, 250.76166088685727);stroke-width:2\" />  </svg></g><g transform=\"translate(-10,0)\">  <svg x=\"91.66664959887007%\" y=\"40\" height=\"18\" overflow=\"visible\" width=\"30\">    <path d=\"M 8 -9 l -6 18 L 8 25\" fill=\"none\" style=\"stroke:rgb(0.0, 138.56128015770724, 250.76166088685727);stroke-width:2\" />  </svg></g><g transform=\"translate(-12,0)\">  <svg x=\"91.66664959887007%\" y=\"40\" height=\"18\" overflow=\"visible\" width=\"30\">    <path d=\"M 8 -9 l -6 18 L 8 25\" fill=\"none\" style=\"stroke:rgb(0.0, 138.56128015770724, 250.76166088685727);stroke-width:2\" />  </svg></g><g transform=\"translate(-14,0)\">  <svg x=\"91.66664959887007%\" y=\"40\" height=\"18\" overflow=\"visible\" width=\"30\">    <path d=\"M 8 -9 l -6 18 L 8 25\" fill=\"none\" style=\"stroke:rgb(0.0, 138.56128015770724, 250.76166088685727);stroke-width:2\" />  </svg></g><g transform=\"translate(2,0)\">  <svg x=\"91.66664959887007%\" y=\"40\" height=\"18\" overflow=\"visible\" width=\"30\">    <path d=\"M 8 -9 l -6 18 L 8 25\" fill=\"none\" style=\"stroke:rgb(0.0, 138.56128015770724, 250.76166088685727);stroke-width:2\" />  </svg></g><g transform=\"translate(0,0)\">  <svg x=\"91.66664959887007%\" y=\"40\" height=\"18\" overflow=\"visible\" width=\"30\">    <path d=\"M 8 -9 l -6 18 L 8 25\" fill=\"none\" style=\"stroke:rgb(0.0, 138.56128015770724, 250.76166088685727);stroke-width:2\" />  </svg></g><g transform=\"translate(-2,0)\">  <svg x=\"91.66664959887007%\" y=\"40\" height=\"18\" overflow=\"visible\" width=\"30\">    <path d=\"M 8 -9 l -6 18 L 8 25\" fill=\"none\" style=\"stroke:rgb(0.0, 138.56128015770724, 250.76166088685727);stroke-width:2\" />  </svg></g><g transform=\"translate(-4,0)\">  <svg x=\"91.66664959887007%\" y=\"40\" height=\"18\" overflow=\"visible\" width=\"30\">    <path d=\"M 8 -9 l -6 18 L 8 25\" fill=\"none\" style=\"stroke:rgb(0.0, 138.56128015770724, 250.76166088685727);stroke-width:2\" />  </svg></g><rect transform=\"translate(0,0)\" x=\"66.1783545186983%\" y=\"40\" width=\"8\" height=\"18\" style=\"fill:rgb(0.0, 138.56128015770724, 250.76166088685727)\"/><g transform=\"translate(-6.0,0)\">  <svg x=\"91.66666666666666%\" y=\"40\" height=\"18\" overflow=\"visible\" width=\"30\">    <path d=\"M 8 -9 l -6 18 L 8 25 L 20 25 L 20 -9\" fill=\"#ffffff\" style=\"stroke:rgb(255,255,255);stroke-width:2\" />  </svg></g><g transform=\"translate(-6.0,0)\">  <svg x=\"90.26207003791133%\" y=\"40\" height=\"18\" overflow=\"visible\" width=\"30\">    <path d=\"M 8 -9 l -6 18 L 8 25\" fill=\"none\" style=\"stroke:rgb(208, 230, 250);stroke-width:2\" />  </svg></g><rect x=\"66.1783545186983%\" y=\"40\" height=\"20\" width=\"24.08371551921303%\"      onmouseover=\"document.getElementById('_tp_xxeczcbyfhbznqxuxzuw_ind_4').style.textDecoration = 'underline';document.getElementById('_fs_xxeczcbyfhbznqxuxzuw_ind_4').style.opacity = 1;document.getElementById('_fb_xxeczcbyfhbznqxuxzuw_ind_4').style.opacity = 1;\"      onmouseout=\"document.getElementById('_tp_xxeczcbyfhbznqxuxzuw_ind_4').style.textDecoration = 'none';document.getElementById('_fs_xxeczcbyfhbznqxuxzuw_ind_4').style.opacity = 0;document.getElementById('_fb_xxeczcbyfhbznqxuxzuw_ind_4').style.opacity = 0;\" style=\"fill:rgb(0,0,0,0)\" /><g transform=\"translate(-6.0,0)\">  <svg x=\"91.66661393398056%\" y=\"40\" height=\"18\" overflow=\"visible\" width=\"30\">    <path d=\"M 8 -9 l -6 18 L 8 25\" fill=\"none\" style=\"stroke:rgb(208, 230, 250);stroke-width:2\" />  </svg></g><rect x=\"90.26207003791133%\" y=\"40\" height=\"20\" width=\"1.404543896069228%\"      onmouseover=\"document.getElementById('_tp_xxeczcbyfhbznqxuxzuw_ind_5').style.textDecoration = 'underline';document.getElementById('_fs_xxeczcbyfhbznqxuxzuw_ind_5').style.opacity = 1;document.getElementById('_fb_xxeczcbyfhbznqxuxzuw_ind_5').style.opacity = 1;\"      onmouseout=\"document.getElementById('_tp_xxeczcbyfhbznqxuxzuw_ind_5').style.textDecoration = 'none';document.getElementById('_fs_xxeczcbyfhbznqxuxzuw_ind_5').style.opacity = 0;document.getElementById('_fb_xxeczcbyfhbznqxuxzuw_ind_5').style.opacity = 0;\" style=\"fill:rgb(0,0,0,0)\" /><g transform=\"translate(-6.0,0)\">  <svg x=\"91.66664959887007%\" y=\"40\" height=\"18\" overflow=\"visible\" width=\"30\">    <path d=\"M 8 -9 l -6 18 L 8 25\" fill=\"none\" style=\"stroke:rgb(208, 230, 250);stroke-width:2\" />  </svg></g><rect x=\"91.66661393398056%\" y=\"40\" height=\"20\" width=\"3.5664889509234854e-05%\"      onmouseover=\"document.getElementById('_tp_xxeczcbyfhbznqxuxzuw_ind_6').style.textDecoration = 'underline';document.getElementById('_fs_xxeczcbyfhbznqxuxzuw_ind_6').style.opacity = 1;document.getElementById('_fb_xxeczcbyfhbznqxuxzuw_ind_6').style.opacity = 1;\"      onmouseout=\"document.getElementById('_tp_xxeczcbyfhbznqxuxzuw_ind_6').style.textDecoration = 'none';document.getElementById('_fs_xxeczcbyfhbznqxuxzuw_ind_6').style.opacity = 0;document.getElementById('_fb_xxeczcbyfhbznqxuxzuw_ind_6').style.opacity = 0;\" style=\"fill:rgb(0,0,0,0)\" /><rect x=\"91.66664959887007%\" y=\"40\" height=\"20\" width=\"1.7067796591163642e-05%\"      onmouseover=\"document.getElementById('_tp_xxeczcbyfhbznqxuxzuw_ind_0').style.textDecoration = 'underline';document.getElementById('_fs_xxeczcbyfhbznqxuxzuw_ind_0').style.opacity = 1;document.getElementById('_fb_xxeczcbyfhbznqxuxzuw_ind_0').style.opacity = 1;\"      onmouseout=\"document.getElementById('_tp_xxeczcbyfhbznqxuxzuw_ind_0').style.textDecoration = 'none';document.getElementById('_fs_xxeczcbyfhbznqxuxzuw_ind_0').style.opacity = 0;document.getElementById('_fb_xxeczcbyfhbznqxuxzuw_ind_0').style.opacity = 0;\" style=\"fill:rgb(0,0,0,0)\" /></svg><div style='display: inline; text-align: center;'><div style='display: none; color: #999; padding-top: 0px; font-size: 12px;'>-0.0</div><div id='_tp_xxeczcbyfhbznqxuxzuw_ind_0'style='display: inline; background: rgba(54.70588235294111, 122.49411764705886, 213.40784313725496, 0.0); border-radius: 3px; padding: 0px'onclick=\"if (this.previousSibling.style.display == 'none') {this.previousSibling.style.display = 'block';this.parentNode.style.display = 'inline-block';} else {this.previousSibling.style.display = 'none';this.parentNode.style.display = 'inline';}\"onmouseover=\"document.getElementById('_fb_xxeczcbyfhbznqxuxzuw_ind_0').style.opacity = 1; document.getElementById('_fs_xxeczcbyfhbznqxuxzuw_ind_0').style.opacity = 1;\"onmouseout=\"document.getElementById('_fb_xxeczcbyfhbznqxuxzuw_ind_0').style.opacity = 0; document.getElementById('_fs_xxeczcbyfhbznqxuxzuw_ind_0').style.opacity = 0;\"></div></div><div style='display: inline; text-align: center;'><div style='display: none; color: #999; padding-top: 0px; font-size: 12px;'>1.778 / 3</div><div id='_tp_xxeczcbyfhbznqxuxzuw_ind_1'style='display: inline; background: rgba(255.0, 13.0, 87.0, 1.0); border-radius: 3px; padding: 0px'onclick=\"if (this.previousSibling.style.display == 'none') {this.previousSibling.style.display = 'block';this.parentNode.style.display = 'inline-block';} else {this.previousSibling.style.display = 'none';this.parentNode.style.display = 'inline';}\"onmouseover=\"document.getElementById('_fb_xxeczcbyfhbznqxuxzuw_ind_1').style.opacity = 1; document.getElementById('_fs_xxeczcbyfhbznqxuxzuw_ind_1').style.opacity = 1;\"onmouseout=\"document.getElementById('_fb_xxeczcbyfhbznqxuxzuw_ind_1').style.opacity = 0; document.getElementById('_fs_xxeczcbyfhbznqxuxzuw_ind_1').style.opacity = 0;\">o months ago </div></div><div style='display: inline; text-align: center;'><div style='display: none; color: #999; padding-top: 0px; font-size: 12px;'>5.136 / 7</div><div id='_tp_xxeczcbyfhbznqxuxzuw_ind_2'style='display: inline; background: rgba(255.0, 13.0, 87.0, 1.0); border-radius: 3px; padding: 0px'onclick=\"if (this.previousSibling.style.display == 'none') {this.previousSibling.style.display = 'block';this.parentNode.style.display = 'inline-block';} else {this.previousSibling.style.display = 'none';this.parentNode.style.display = 'inline';}\"onmouseover=\"document.getElementById('_fb_xxeczcbyfhbznqxuxzuw_ind_2').style.opacity = 1; document.getElementById('_fs_xxeczcbyfhbznqxuxzuw_ind_2').style.opacity = 1;\"onmouseout=\"document.getElementById('_fb_xxeczcbyfhbznqxuxzuw_ind_2').style.opacity = 0; document.getElementById('_fs_xxeczcbyfhbznqxuxzuw_ind_2').style.opacity = 0;\">and am very happy with\n",
       "it.  </div></div><div style='display: inline; text-align: center;'><div style='display: none; color: #999; padding-top: 0px; font-size: 12px;'>2.135 / 17</div><div id='_tp_xxeczcbyfhbznqxuxzuw_ind_3'style='display: inline; background: rgba(255.0, 13.0, 87.0, 1.0); border-radius: 3px; padding: 0px'onclick=\"if (this.previousSibling.style.display == 'none') {this.previousSibling.style.display = 'block';this.parentNode.style.display = 'inline-block';} else {this.previousSibling.style.display = 'none';this.parentNode.style.display = 'inline';}\"onmouseover=\"document.getElementById('_fb_xxeczcbyfhbznqxuxzuw_ind_3').style.opacity = 1; document.getElementById('_fs_xxeczcbyfhbznqxuxzuw_ind_3').style.opacity = 1;\"onmouseout=\"document.getElementById('_fb_xxeczcbyfhbznqxuxzuw_ind_3').style.opacity = 0; document.getElementById('_fs_xxeczcbyfhbznqxuxzuw_ind_3').style.opacity = 0;\">Lots of room inside and even with the smaller engine it has\n",
       "enough power for me.  </div></div><div style='display: inline; text-align: center;'><div style='display: none; color: #999; padding-top: 0px; font-size: 12px;'>-3.767 / 16</div><div id='_tp_xxeczcbyfhbznqxuxzuw_ind_4'style='display: inline; background: rgba(30.0, 136.0, 229.0, 1.0); border-radius: 3px; padding: 0px'onclick=\"if (this.previousSibling.style.display == 'none') {this.previousSibling.style.display = 'block';this.parentNode.style.display = 'inline-block';} else {this.previousSibling.style.display = 'none';this.parentNode.style.display = 'inline';}\"onmouseover=\"document.getElementById('_fb_xxeczcbyfhbznqxuxzuw_ind_4').style.opacity = 1; document.getElementById('_fs_xxeczcbyfhbznqxuxzuw_ind_4').style.opacity = 1;\"onmouseout=\"document.getElementById('_fb_xxeczcbyfhbznqxuxzuw_ind_4').style.opacity = 0; document.getElementById('_fs_xxeczcbyfhbznqxuxzuw_ind_4').style.opacity = 0;\">The only problem I found was a small\n",
       "selection on the dealer's lots. </div></div><div style='display: inline; text-align: center;'><div style='display: none; color: #999; padding-top: 0px; font-size: 12px;'>-0.22 / 9</div><div id='_tp_xxeczcbyfhbznqxuxzuw_ind_5'style='display: inline; background: rgba(30.0, 136.0, 229.0, 0.25902158843335304); border-radius: 3px; padding: 0px'onclick=\"if (this.previousSibling.style.display == 'none') {this.previousSibling.style.display = 'block';this.parentNode.style.display = 'inline-block';} else {this.previousSibling.style.display = 'none';this.parentNode.style.display = 'inline';}\"onmouseover=\"document.getElementById('_fb_xxeczcbyfhbznqxuxzuw_ind_5').style.opacity = 1; document.getElementById('_fs_xxeczcbyfhbznqxuxzuw_ind_5').style.opacity = 1;\"onmouseout=\"document.getElementById('_fb_xxeczcbyfhbznqxuxzuw_ind_5').style.opacity = 0; document.getElementById('_fs_xxeczcbyfhbznqxuxzuw_ind_5').style.opacity = 0;\">They are hot sellers around here.\n",
       "--</div></div><div style='display: inline; text-align: center;'><div style='display: none; color: #999; padding-top: 0px; font-size: 12px;'>-0.0</div><div id='_tp_xxeczcbyfhbznqxuxzuw_ind_6'style='display: inline; background: rgba(54.70588235294111, 122.49411764705886, 213.40784313725496, 0.0); border-radius: 3px; padding: 0px'onclick=\"if (this.previousSibling.style.display == 'none') {this.previousSibling.style.display = 'block';this.parentNode.style.display = 'inline-block';} else {this.previousSibling.style.display = 'none';this.parentNode.style.display = 'inline';}\"onmouseover=\"document.getElementById('_fb_xxeczcbyfhbznqxuxzuw_ind_6').style.opacity = 1; document.getElementById('_fs_xxeczcbyfhbznqxuxzuw_ind_6').style.opacity = 1;\"onmouseout=\"document.getElementById('_fb_xxeczcbyfhbznqxuxzuw_ind_6').style.opacity = 0; document.getElementById('_fs_xxeczcbyfhbznqxuxzuw_ind_6').style.opacity = 0;\"></div></div>"
      ],
      "text/plain": [
       "<IPython.core.display.HTML object>"
      ]
     },
     "metadata": {},
     "output_type": "display_data"
    }
   ],
   "source": [
    "shap.plots.text(shap_values[23, :, \"POSITIVE\"])"
   ]
  },
  {
   "cell_type": "code",
   "execution_count": null,
   "id": "cbacd29c",
   "metadata": {},
   "outputs": [],
   "source": []
  }
 ],
 "metadata": {
  "kernelspec": {
   "display_name": "Python 3",
   "language": "python",
   "name": "python3"
  },
  "language_info": {
   "codemirror_mode": {
    "name": "ipython",
    "version": 3
   },
   "file_extension": ".py",
   "mimetype": "text/x-python",
   "name": "python",
   "nbconvert_exporter": "python",
   "pygments_lexer": "ipython3",
   "version": "3.8.10"
  }
 },
 "nbformat": 4,
 "nbformat_minor": 5
}
