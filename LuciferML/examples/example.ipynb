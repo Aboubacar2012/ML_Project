{
 "cells": [
  {
   "cell_type": "markdown",
   "metadata": {},
   "source": [
    "# Regression"
   ]
  },
  {
   "cell_type": "markdown",
   "metadata": {},
   "source": [
    "## Importing Lucifer-ML for Regression"
   ]
  },
  {
   "cell_type": "code",
   "execution_count": 1,
   "metadata": {},
   "outputs": [],
   "source": [
    "from luciferml.supervised.regression import Regression\n"
   ]
  },
  {
   "cell_type": "markdown",
   "metadata": {},
   "source": [
    "# Importing other libraries"
   ]
  },
  {
   "cell_type": "code",
   "execution_count": 2,
   "metadata": {},
   "outputs": [],
   "source": [
    "import pandas as pd"
   ]
  },
  {
   "cell_type": "markdown",
   "metadata": {},
   "source": [
    "## Importing the Dataset"
   ]
  },
  {
   "cell_type": "code",
   "execution_count": 3,
   "metadata": {},
   "outputs": [
    {
     "data": {
      "text/html": [
       "<div>\n",
       "<style scoped>\n",
       "    .dataframe tbody tr th:only-of-type {\n",
       "        vertical-align: middle;\n",
       "    }\n",
       "\n",
       "    .dataframe tbody tr th {\n",
       "        vertical-align: top;\n",
       "    }\n",
       "\n",
       "    .dataframe thead th {\n",
       "        text-align: right;\n",
       "    }\n",
       "</style>\n",
       "<table border=\"1\" class=\"dataframe\">\n",
       "  <thead>\n",
       "    <tr style=\"text-align: right;\">\n",
       "      <th></th>\n",
       "      <th>AT</th>\n",
       "      <th>V</th>\n",
       "      <th>AP</th>\n",
       "      <th>RH</th>\n",
       "      <th>PE</th>\n",
       "    </tr>\n",
       "  </thead>\n",
       "  <tbody>\n",
       "    <tr>\n",
       "      <th>0</th>\n",
       "      <td>14.96</td>\n",
       "      <td>41.76</td>\n",
       "      <td>1024.07</td>\n",
       "      <td>73.17</td>\n",
       "      <td>463.26</td>\n",
       "    </tr>\n",
       "    <tr>\n",
       "      <th>1</th>\n",
       "      <td>25.18</td>\n",
       "      <td>62.96</td>\n",
       "      <td>1020.04</td>\n",
       "      <td>59.08</td>\n",
       "      <td>444.37</td>\n",
       "    </tr>\n",
       "    <tr>\n",
       "      <th>2</th>\n",
       "      <td>5.11</td>\n",
       "      <td>39.40</td>\n",
       "      <td>1012.16</td>\n",
       "      <td>92.14</td>\n",
       "      <td>488.56</td>\n",
       "    </tr>\n",
       "    <tr>\n",
       "      <th>3</th>\n",
       "      <td>20.86</td>\n",
       "      <td>57.32</td>\n",
       "      <td>1010.24</td>\n",
       "      <td>76.64</td>\n",
       "      <td>446.48</td>\n",
       "    </tr>\n",
       "    <tr>\n",
       "      <th>4</th>\n",
       "      <td>10.82</td>\n",
       "      <td>37.50</td>\n",
       "      <td>1009.23</td>\n",
       "      <td>96.62</td>\n",
       "      <td>473.90</td>\n",
       "    </tr>\n",
       "  </tbody>\n",
       "</table>\n",
       "</div>"
      ],
      "text/plain": [
       "      AT      V       AP     RH      PE\n",
       "0  14.96  41.76  1024.07  73.17  463.26\n",
       "1  25.18  62.96  1020.04  59.08  444.37\n",
       "2   5.11  39.40  1012.16  92.14  488.56\n",
       "3  20.86  57.32  1010.24  76.64  446.48\n",
       "4  10.82  37.50  1009.23  96.62  473.90"
      ]
     },
     "execution_count": 3,
     "metadata": {},
     "output_type": "execute_result"
    }
   ],
   "source": [
    "dataset = pd.read_excel(\"Folds5x2_pp.xlsx\")\n",
    "dataset.head()"
   ]
  },
  {
   "cell_type": "markdown",
   "metadata": {},
   "source": [
    "## Splitting the Dataset into the Training set and Test set"
   ]
  },
  {
   "cell_type": "code",
   "execution_count": 4,
   "metadata": {},
   "outputs": [],
   "source": [
    "X = dataset.iloc[:, :-1]\n",
    "y = dataset.iloc[:, -1]"
   ]
  },
  {
   "cell_type": "markdown",
   "metadata": {},
   "source": [
    "## Calling Lucifer-ML Regressor"
   ]
  },
  {
   "cell_type": "code",
   "execution_count": 5,
   "metadata": {},
   "outputs": [
    {
     "name": "stdout",
     "output_type": "stream",
     "text": [
      "\u001b[90m\n",
      "          \n",
      "██╗░░░░░██╗░░░██╗░█████╗░██╗███████╗███████╗██████╗░░░░░░░███╗░░░███╗██╗░░░░░\n",
      "██║░░░░░██║░░░██║██╔══██╗██║██╔════╝██╔════╝██╔══██╗░░░░░░████╗░████║██║░░░░░\n",
      "██║░░░░░██║░░░██║██║░░╚═╝██║█████╗░░█████╗░░██████╔╝█████╗██╔████╔██║██║░░░░░\n",
      "██║░░░░░██║░░░██║██║░░██╗██║██╔══╝░░██╔══╝░░██╔══██╗╚════╝██║╚██╔╝██║██║░░░░░\n",
      "███████╗╚██████╔╝╚█████╔╝██║██║░░░░░███████╗██║░░██║░░░░░░██║░╚═╝░██║███████╗\n",
      "╚══════╝░╚═════╝░░╚════╝░╚═╝╚═╝░░░░░╚══════╝╚═╝░░╚═╝░░░░░░╚═╝░░░░░╚═╝╚══════╝\n",
      " \n",
      "\n",
      "\u001b[32mStarted LuciferML [ ✓ ]\n",
      "\n",
      "\u001b[33mPreprocessing Started [*]\n",
      "\n",
      "\u001b[32mPreprocessing Done [ ✓ ]\n",
      "\n",
      "\u001b[33mTraining LuciferML [*]\n",
      "\n"
     ]
    },
    {
     "name": "stderr",
     "output_type": "stream",
     "text": [
      "Stochastic Optimizer: Maximum iterations (200) reached and the optimization hasn't converged yet.\n",
      "Stochastic Optimizer: Maximum iterations (200) reached and the optimization hasn't converged yet.\n",
      "Stochastic Optimizer: Maximum iterations (200) reached and the optimization hasn't converged yet.\n"
     ]
    },
    {
     "name": "stdout",
     "output_type": "stream",
     "text": [
      "\u001b[32mTraining Done [ ✓ ]\n",
      "\n",
      "\u001b[36mResults Below\n",
      "\n"
     ]
    },
    {
     "data": {
      "text/html": [
       "<div>\n",
       "<style scoped>\n",
       "    .dataframe tbody tr th:only-of-type {\n",
       "        vertical-align: middle;\n",
       "    }\n",
       "\n",
       "    .dataframe tbody tr th {\n",
       "        vertical-align: top;\n",
       "    }\n",
       "\n",
       "    .dataframe thead th {\n",
       "        text-align: right;\n",
       "    }\n",
       "</style>\n",
       "<table border=\"1\" class=\"dataframe\">\n",
       "  <thead>\n",
       "    <tr style=\"text-align: right;\">\n",
       "      <th></th>\n",
       "      <th>Name</th>\n",
       "      <th>R2 Score</th>\n",
       "      <th>Mean Absolute Error</th>\n",
       "      <th>Root Mean Squared Error</th>\n",
       "      <th>KFold Accuracy</th>\n",
       "      <th>Model</th>\n",
       "    </tr>\n",
       "  </thead>\n",
       "  <tbody>\n",
       "    <tr>\n",
       "      <th>0</th>\n",
       "      <td>Linear Regression</td>\n",
       "      <td>93.010464</td>\n",
       "      <td>3.595913</td>\n",
       "      <td>4.502633</td>\n",
       "      <td>92.805406</td>\n",
       "      <td>LinearRegression()</td>\n",
       "    </tr>\n",
       "    <tr>\n",
       "      <th>1</th>\n",
       "      <td>Stochastic Gradient Descent Regressor</td>\n",
       "      <td>92.988738</td>\n",
       "      <td>3.593301</td>\n",
       "      <td>4.509626</td>\n",
       "      <td>92.796563</td>\n",
       "      <td>SGDRegressor()</td>\n",
       "    </tr>\n",
       "    <tr>\n",
       "      <th>2</th>\n",
       "      <td>Kernel Ridge Regressor</td>\n",
       "      <td>-71089.915865</td>\n",
       "      <td>454.391638</td>\n",
       "      <td>454.413943</td>\n",
       "      <td>-70774.527914</td>\n",
       "      <td>KernelRidge()</td>\n",
       "    </tr>\n",
       "    <tr>\n",
       "      <th>3</th>\n",
       "      <td>Elastic Net Regressor</td>\n",
       "      <td>86.374412</td>\n",
       "      <td>5.052081</td>\n",
       "      <td>6.286661</td>\n",
       "      <td>85.876590</td>\n",
       "      <td>ElasticNet()</td>\n",
       "    </tr>\n",
       "    <tr>\n",
       "      <th>4</th>\n",
       "      <td>Bayesian Ridge Regressor</td>\n",
       "      <td>93.010604</td>\n",
       "      <td>3.595891</td>\n",
       "      <td>4.502588</td>\n",
       "      <td>92.805396</td>\n",
       "      <td>BayesianRidge()</td>\n",
       "    </tr>\n",
       "    <tr>\n",
       "      <th>5</th>\n",
       "      <td>Support Vector Regressor</td>\n",
       "      <td>94.217367</td>\n",
       "      <td>3.125707</td>\n",
       "      <td>4.095484</td>\n",
       "      <td>93.723464</td>\n",
       "      <td>SVR()</td>\n",
       "    </tr>\n",
       "    <tr>\n",
       "      <th>6</th>\n",
       "      <td>K-Neighbors Regressor</td>\n",
       "      <td>95.237745</td>\n",
       "      <td>2.708191</td>\n",
       "      <td>3.716625</td>\n",
       "      <td>93.933101</td>\n",
       "      <td>KNeighborsRegressor()</td>\n",
       "    </tr>\n",
       "    <tr>\n",
       "      <th>7</th>\n",
       "      <td>Decision Trees Regressor</td>\n",
       "      <td>93.157879</td>\n",
       "      <td>3.031338</td>\n",
       "      <td>4.454898</td>\n",
       "      <td>91.020768</td>\n",
       "      <td>DecisionTreeRegressor()</td>\n",
       "    </tr>\n",
       "    <tr>\n",
       "      <th>8</th>\n",
       "      <td>Random Forest Regressor</td>\n",
       "      <td>96.418265</td>\n",
       "      <td>2.308911</td>\n",
       "      <td>3.223214</td>\n",
       "      <td>95.331548</td>\n",
       "      <td>(DecisionTreeRegressor(max_features='auto', ra...</td>\n",
       "    </tr>\n",
       "    <tr>\n",
       "      <th>9</th>\n",
       "      <td>Gradient Boost Regressor</td>\n",
       "      <td>94.953013</td>\n",
       "      <td>2.946877</td>\n",
       "      <td>3.826119</td>\n",
       "      <td>94.573041</td>\n",
       "      <td>([DecisionTreeRegressor(criterion='friedman_ms...</td>\n",
       "    </tr>\n",
       "    <tr>\n",
       "      <th>10</th>\n",
       "      <td>AdaBoost Regressor</td>\n",
       "      <td>89.213659</td>\n",
       "      <td>4.421660</td>\n",
       "      <td>5.593447</td>\n",
       "      <td>91.024823</td>\n",
       "      <td>(DecisionTreeRegressor(max_depth=3, random_sta...</td>\n",
       "    </tr>\n",
       "    <tr>\n",
       "      <th>11</th>\n",
       "      <td>Bagging Regressor</td>\n",
       "      <td>96.082727</td>\n",
       "      <td>2.430013</td>\n",
       "      <td>3.370810</td>\n",
       "      <td>94.852191</td>\n",
       "      <td>(DecisionTreeRegressor(random_state=1740654924...</td>\n",
       "    </tr>\n",
       "    <tr>\n",
       "      <th>12</th>\n",
       "      <td>Extra Trees Regressor</td>\n",
       "      <td>96.410652</td>\n",
       "      <td>2.280651</td>\n",
       "      <td>3.226638</td>\n",
       "      <td>95.306583</td>\n",
       "      <td>(ExtraTreeRegressor(random_state=1672925110), ...</td>\n",
       "    </tr>\n",
       "    <tr>\n",
       "      <th>13</th>\n",
       "      <td>LightGBM Regressor</td>\n",
       "      <td>96.302555</td>\n",
       "      <td>2.421196</td>\n",
       "      <td>3.274864</td>\n",
       "      <td>95.529501</td>\n",
       "      <td>LGBMRegressor()</td>\n",
       "    </tr>\n",
       "    <tr>\n",
       "      <th>14</th>\n",
       "      <td>XGBoost Regressor</td>\n",
       "      <td>96.815235</td>\n",
       "      <td>2.205260</td>\n",
       "      <td>3.039353</td>\n",
       "      <td>95.738853</td>\n",
       "      <td>XGBRegressor(base_score=0.5, booster='gbtree',...</td>\n",
       "    </tr>\n",
       "    <tr>\n",
       "      <th>15</th>\n",
       "      <td>Catboost Regressor</td>\n",
       "      <td>96.719164</td>\n",
       "      <td>2.267869</td>\n",
       "      <td>3.084854</td>\n",
       "      <td>95.767510</td>\n",
       "      <td>&lt;catboost.core.CatBoostRegressor object at 0x0...</td>\n",
       "    </tr>\n",
       "    <tr>\n",
       "      <th>16</th>\n",
       "      <td>Multi-Layer Perceptron Regressor</td>\n",
       "      <td>91.397329</td>\n",
       "      <td>3.772598</td>\n",
       "      <td>4.995271</td>\n",
       "      <td>-2.762979</td>\n",
       "      <td>MLPRegressor()</td>\n",
       "    </tr>\n",
       "  </tbody>\n",
       "</table>\n",
       "</div>"
      ],
      "text/plain": [
       "                                     Name      R2 Score  Mean Absolute Error  \\\n",
       "0                       Linear Regression     93.010464             3.595913   \n",
       "1   Stochastic Gradient Descent Regressor     92.988738             3.593301   \n",
       "2                  Kernel Ridge Regressor -71089.915865           454.391638   \n",
       "3                   Elastic Net Regressor     86.374412             5.052081   \n",
       "4                Bayesian Ridge Regressor     93.010604             3.595891   \n",
       "5                Support Vector Regressor     94.217367             3.125707   \n",
       "6                   K-Neighbors Regressor     95.237745             2.708191   \n",
       "7                Decision Trees Regressor     93.157879             3.031338   \n",
       "8                 Random Forest Regressor     96.418265             2.308911   \n",
       "9                Gradient Boost Regressor     94.953013             2.946877   \n",
       "10                     AdaBoost Regressor     89.213659             4.421660   \n",
       "11                      Bagging Regressor     96.082727             2.430013   \n",
       "12                  Extra Trees Regressor     96.410652             2.280651   \n",
       "13                     LightGBM Regressor     96.302555             2.421196   \n",
       "14                      XGBoost Regressor     96.815235             2.205260   \n",
       "15                     Catboost Regressor     96.719164             2.267869   \n",
       "16       Multi-Layer Perceptron Regressor     91.397329             3.772598   \n",
       "\n",
       "    Root Mean Squared Error  KFold Accuracy  \\\n",
       "0                  4.502633       92.805406   \n",
       "1                  4.509626       92.796563   \n",
       "2                454.413943   -70774.527914   \n",
       "3                  6.286661       85.876590   \n",
       "4                  4.502588       92.805396   \n",
       "5                  4.095484       93.723464   \n",
       "6                  3.716625       93.933101   \n",
       "7                  4.454898       91.020768   \n",
       "8                  3.223214       95.331548   \n",
       "9                  3.826119       94.573041   \n",
       "10                 5.593447       91.024823   \n",
       "11                 3.370810       94.852191   \n",
       "12                 3.226638       95.306583   \n",
       "13                 3.274864       95.529501   \n",
       "14                 3.039353       95.738853   \n",
       "15                 3.084854       95.767510   \n",
       "16                 4.995271       -2.762979   \n",
       "\n",
       "                                                Model  \n",
       "0                                  LinearRegression()  \n",
       "1                                      SGDRegressor()  \n",
       "2                                       KernelRidge()  \n",
       "3                                        ElasticNet()  \n",
       "4                                     BayesianRidge()  \n",
       "5                                               SVR()  \n",
       "6                               KNeighborsRegressor()  \n",
       "7                             DecisionTreeRegressor()  \n",
       "8   (DecisionTreeRegressor(max_features='auto', ra...  \n",
       "9   ([DecisionTreeRegressor(criterion='friedman_ms...  \n",
       "10  (DecisionTreeRegressor(max_depth=3, random_sta...  \n",
       "11  (DecisionTreeRegressor(random_state=1740654924...  \n",
       "12  (ExtraTreeRegressor(random_state=1672925110), ...  \n",
       "13                                    LGBMRegressor()  \n",
       "14  XGBRegressor(base_score=0.5, booster='gbtree',...  \n",
       "15  <catboost.core.CatBoostRegressor object at 0x0...  \n",
       "16                                     MLPRegressor()  "
      ]
     },
     "metadata": {},
     "output_type": "display_data"
    },
    {
     "name": "stdout",
     "output_type": "stream",
     "text": [
      "\u001b[32m\n",
      "Completed LuciferML Run [ ✓ ]\n",
      "\n",
      "\u001b[36mSaved Best Model to lucifer_ml_info/best/regression/models/Catboost_Regressor_1641050482.pkl and its scaler to lucifer_ml_info/best/regression/scalers/Catboost_Regressor_Scaler_1641050482.pkl \n",
      "\n",
      "\u001b[34mTime Elapsed :  73.16 seconds \n",
      "\n"
     ]
    }
   ],
   "source": [
    "regressor = Regression(\n",
    "    predictor=[\"all\"],\n",
    "    cv_folds=2,\n",
    "    # tune=True,\n",
    "    optuna_n_trials=2,\n",
    ")\n",
    "regressor.fit(X, y)"
   ]
  },
  {
   "cell_type": "markdown",
   "metadata": {},
   "source": [
    "## Example Prediction using best model"
   ]
  },
  {
   "cell_type": "code",
   "execution_count": 6,
   "metadata": {},
   "outputs": [],
   "source": [
    "pred = [\n",
    "    14.96,\n",
    "    41.76,\n",
    "    1024.07,\n",
    "    73.17,\n",
    "]\n"
   ]
  },
  {
   "cell_type": "markdown",
   "metadata": {},
   "source": [
    "### Predict with best model"
   ]
  },
  {
   "cell_type": "code",
   "execution_count": 7,
   "metadata": {},
   "outputs": [
    {
     "data": {
      "text/plain": [
       "431.61205220508793"
      ]
     },
     "execution_count": 7,
     "metadata": {},
     "output_type": "execute_result"
    }
   ],
   "source": [
    "regressor.best_regressor.predict(pred)\n"
   ]
  },
  {
   "cell_type": "markdown",
   "metadata": {},
   "source": [
    "### Get details about best model"
   ]
  },
  {
   "cell_type": "code",
   "execution_count": 8,
   "metadata": {},
   "outputs": [
    {
     "name": "stdout",
     "output_type": "stream",
     "text": [
      "Catboost Regressor\n",
      "96.71916435159733\n",
      "3.0848542276691218\n",
      "2.267868621730488\n",
      "95.76751049871581\n"
     ]
    }
   ],
   "source": [
    "print(regressor.best_regressor.name)\n",
    "print(regressor.best_regressor.r2_score)\n",
    "print(regressor.best_regressor.rmse)\n",
    "print(regressor.best_regressor.mae)\n",
    "print(regressor.best_regressor.kfold_acc)"
   ]
  },
  {
   "cell_type": "markdown",
   "metadata": {},
   "source": [
    "### Load Model"
   ]
  },
  {
   "cell_type": "code",
   "execution_count": 10,
   "metadata": {},
   "outputs": [
    {
     "name": "stdout",
     "output_type": "stream",
     "text": [
      "\u001b[32m[Info] Model and Scaler Loaded from lucifer_ml_info/best/regression/models/Catboost_Regressor_1641050482.pkl and lucifer_ml_info/best/regression/scalers/Catboost_Regressor_Scaler_1641050482.pkl\n"
     ]
    },
    {
     "name": "stderr",
     "output_type": "stream",
     "text": [
      "X does not have valid feature names, but StandardScaler was fitted with feature names\n"
     ]
    },
    {
     "data": {
      "text/plain": [
       "array([463.46729998])"
      ]
     },
     "execution_count": 10,
     "metadata": {},
     "output_type": "execute_result"
    }
   ],
   "source": [
    "model = Regression(path = [regressor.best_regressor_path, regressor.scaler_path])\n",
    "model.predict([pred])\n"
   ]
  },
  {
   "cell_type": "markdown",
   "metadata": {},
   "source": [
    "### You can use original methods from the models like this"
   ]
  },
  {
   "cell_type": "code",
   "execution_count": 11,
   "metadata": {},
   "outputs": [
    {
     "data": {
      "text/plain": [
       "{'loss_function': 'RMSE', 'verbose': False}"
      ]
     },
     "execution_count": 11,
     "metadata": {},
     "output_type": "execute_result"
    }
   ],
   "source": [
    "regressor.best_regressor.model.get_params()"
   ]
  },
  {
   "cell_type": "markdown",
   "metadata": {},
   "source": [
    "### Saving any model"
   ]
  },
  {
   "cell_type": "code",
   "execution_count": 12,
   "metadata": {},
   "outputs": [
    {
     "name": "stdout",
     "output_type": "stream",
     "text": [
      "Model Saved at lucifer_ml_info/models/regression/Multi-Layer_Perceptron_Regressor_1641050565.pkl and Scaler at lucifer_ml_info/scalers/regression/Multi-Layer_Perceptron_Regressor_Scaler_1641050565.pkl\n"
     ]
    }
   ],
   "source": [
    "model_path, scaler_path = regressor.save()\n"
   ]
  },
  {
   "cell_type": "markdown",
   "metadata": {},
   "source": [
    "# Classification\n"
   ]
  },
  {
   "cell_type": "code",
   "execution_count": 13,
   "metadata": {},
   "outputs": [],
   "source": [
    "from luciferml.supervised.classification import Classification\n"
   ]
  },
  {
   "cell_type": "markdown",
   "metadata": {},
   "source": [
    "## Importing Other Libraries"
   ]
  },
  {
   "cell_type": "code",
   "execution_count": 14,
   "metadata": {},
   "outputs": [],
   "source": [
    "import pandas as pd"
   ]
  },
  {
   "cell_type": "code",
   "execution_count": 15,
   "metadata": {},
   "outputs": [
    {
     "data": {
      "text/html": [
       "<div>\n",
       "<style scoped>\n",
       "    .dataframe tbody tr th:only-of-type {\n",
       "        vertical-align: middle;\n",
       "    }\n",
       "\n",
       "    .dataframe tbody tr th {\n",
       "        vertical-align: top;\n",
       "    }\n",
       "\n",
       "    .dataframe thead th {\n",
       "        text-align: right;\n",
       "    }\n",
       "</style>\n",
       "<table border=\"1\" class=\"dataframe\">\n",
       "  <thead>\n",
       "    <tr style=\"text-align: right;\">\n",
       "      <th></th>\n",
       "      <th>Age</th>\n",
       "      <th>EstimatedSalary</th>\n",
       "      <th>Purchased</th>\n",
       "    </tr>\n",
       "  </thead>\n",
       "  <tbody>\n",
       "    <tr>\n",
       "      <th>0</th>\n",
       "      <td>19</td>\n",
       "      <td>19000</td>\n",
       "      <td>0</td>\n",
       "    </tr>\n",
       "    <tr>\n",
       "      <th>1</th>\n",
       "      <td>35</td>\n",
       "      <td>20000</td>\n",
       "      <td>0</td>\n",
       "    </tr>\n",
       "    <tr>\n",
       "      <th>2</th>\n",
       "      <td>26</td>\n",
       "      <td>43000</td>\n",
       "      <td>0</td>\n",
       "    </tr>\n",
       "    <tr>\n",
       "      <th>3</th>\n",
       "      <td>27</td>\n",
       "      <td>57000</td>\n",
       "      <td>0</td>\n",
       "    </tr>\n",
       "    <tr>\n",
       "      <th>4</th>\n",
       "      <td>19</td>\n",
       "      <td>76000</td>\n",
       "      <td>0</td>\n",
       "    </tr>\n",
       "  </tbody>\n",
       "</table>\n",
       "</div>"
      ],
      "text/plain": [
       "   Age  EstimatedSalary  Purchased\n",
       "0   19            19000          0\n",
       "1   35            20000          0\n",
       "2   26            43000          0\n",
       "3   27            57000          0\n",
       "4   19            76000          0"
      ]
     },
     "execution_count": 15,
     "metadata": {},
     "output_type": "execute_result"
    }
   ],
   "source": [
    "dataset = pd.read_csv(\"Social_Network_Ads.csv\")\n",
    "dataset.head()\n"
   ]
  },
  {
   "cell_type": "code",
   "execution_count": 16,
   "metadata": {},
   "outputs": [],
   "source": [
    "X = dataset.iloc[:, :-1]\n",
    "y = dataset.iloc[:, -1]\n"
   ]
  },
  {
   "cell_type": "code",
   "execution_count": 17,
   "metadata": {},
   "outputs": [
    {
     "name": "stdout",
     "output_type": "stream",
     "text": [
      "\u001b[90m\n",
      "          \n",
      "██╗░░░░░██╗░░░██╗░█████╗░██╗███████╗███████╗██████╗░░░░░░░███╗░░░███╗██╗░░░░░\n",
      "██║░░░░░██║░░░██║██╔══██╗██║██╔════╝██╔════╝██╔══██╗░░░░░░████╗░████║██║░░░░░\n",
      "██║░░░░░██║░░░██║██║░░╚═╝██║█████╗░░█████╗░░██████╔╝█████╗██╔████╔██║██║░░░░░\n",
      "██║░░░░░██║░░░██║██║░░██╗██║██╔══╝░░██╔══╝░░██╔══██╗╚════╝██║╚██╔╝██║██║░░░░░\n",
      "███████╗╚██████╔╝╚█████╔╝██║██║░░░░░███████╗██║░░██║░░░░░░██║░╚═╝░██║███████╗\n",
      "╚══════╝░╚═════╝░░╚════╝░╚═╝╚═╝░░░░░╚══════╝╚═╝░░╚═╝░░░░░░╚═╝░░░░░╚═╝╚══════╝\n",
      " \n",
      "\n",
      "\u001b[32mStarted LuciferML [ ✓ ]\n",
      "\n",
      "\u001b[33mPreprocessing Started [*]\n",
      "\n",
      "\u001b[32mPreprocessing Done [ ✓ ]\n",
      "\n",
      "\u001b[33mTraining LuciferML [*]\n",
      "\n"
     ]
    },
    {
     "name": "stderr",
     "output_type": "stream",
     "text": [
      "The use of label encoder in XGBClassifier is deprecated and will be removed in a future release. To remove this warning, do the following: 1) Pass option use_label_encoder=False when constructing XGBClassifier object; and 2) Encode your labels (y) as integers starting with 0, i.e. 0, 1, 2, ..., [num_class - 1].\n",
      "The use of label encoder in XGBClassifier is deprecated and will be removed in a future release. To remove this warning, do the following: 1) Pass option use_label_encoder=False when constructing XGBClassifier object; and 2) Encode your labels (y) as integers starting with 0, i.e. 0, 1, 2, ..., [num_class - 1].\n"
     ]
    },
    {
     "name": "stdout",
     "output_type": "stream",
     "text": [
      "[20:52:52] WARNING: C:/Users/Administrator/workspace/xgboost-win64_release_1.5.1/src/learner.cc:1115: Starting in XGBoost 1.3.0, the default evaluation metric used with the objective 'binary:logistic' was changed from 'error' to 'logloss'. Explicitly set eval_metric if you'd like to restore the old behavior.\n",
      "[20:52:53] WARNING: C:/Users/Administrator/workspace/xgboost-win64_release_1.5.1/src/learner.cc:1115: Starting in XGBoost 1.3.0, the default evaluation metric used with the objective 'binary:logistic' was changed from 'error' to 'logloss'. Explicitly set eval_metric if you'd like to restore the old behavior.\n"
     ]
    },
    {
     "name": "stderr",
     "output_type": "stream",
     "text": [
      "The use of label encoder in XGBClassifier is deprecated and will be removed in a future release. To remove this warning, do the following: 1) Pass option use_label_encoder=False when constructing XGBClassifier object; and 2) Encode your labels (y) as integers starting with 0, i.e. 0, 1, 2, ..., [num_class - 1].\n"
     ]
    },
    {
     "name": "stdout",
     "output_type": "stream",
     "text": [
      "[20:52:53] WARNING: C:/Users/Administrator/workspace/xgboost-win64_release_1.5.1/src/learner.cc:1115: Starting in XGBoost 1.3.0, the default evaluation metric used with the objective 'binary:logistic' was changed from 'error' to 'logloss'. Explicitly set eval_metric if you'd like to restore the old behavior.\n"
     ]
    },
    {
     "name": "stderr",
     "output_type": "stream",
     "text": [
      "Stochastic Optimizer: Maximum iterations (200) reached and the optimization hasn't converged yet.\n",
      "Stochastic Optimizer: Maximum iterations (200) reached and the optimization hasn't converged yet.\n"
     ]
    },
    {
     "name": "stdout",
     "output_type": "stream",
     "text": [
      "\u001b[32mTraining Done [ ✓ ]\n",
      "\n",
      "\u001b[36mResults Below\n",
      "\n"
     ]
    },
    {
     "name": "stderr",
     "output_type": "stream",
     "text": [
      "Stochastic Optimizer: Maximum iterations (200) reached and the optimization hasn't converged yet.\n"
     ]
    },
    {
     "data": {
      "text/html": [
       "<div>\n",
       "<style scoped>\n",
       "    .dataframe tbody tr th:only-of-type {\n",
       "        vertical-align: middle;\n",
       "    }\n",
       "\n",
       "    .dataframe tbody tr th {\n",
       "        vertical-align: top;\n",
       "    }\n",
       "\n",
       "    .dataframe thead th {\n",
       "        text-align: right;\n",
       "    }\n",
       "</style>\n",
       "<table border=\"1\" class=\"dataframe\">\n",
       "  <thead>\n",
       "    <tr style=\"text-align: right;\">\n",
       "      <th></th>\n",
       "      <th>Name</th>\n",
       "      <th>Accuracy</th>\n",
       "      <th>KFold Accuracy</th>\n",
       "      <th>Model</th>\n",
       "    </tr>\n",
       "  </thead>\n",
       "  <tbody>\n",
       "    <tr>\n",
       "      <th>0</th>\n",
       "      <td>Logistic Regression</td>\n",
       "      <td>86.25</td>\n",
       "      <td>83.4375</td>\n",
       "      <td>LogisticRegression()</td>\n",
       "    </tr>\n",
       "    <tr>\n",
       "      <th>1</th>\n",
       "      <td>Stochastic Gradient Descent</td>\n",
       "      <td>83.75</td>\n",
       "      <td>75.3125</td>\n",
       "      <td>SGDClassifier()</td>\n",
       "    </tr>\n",
       "    <tr>\n",
       "      <th>2</th>\n",
       "      <td>Perceptron</td>\n",
       "      <td>81.25</td>\n",
       "      <td>79.3750</td>\n",
       "      <td>Perceptron()</td>\n",
       "    </tr>\n",
       "    <tr>\n",
       "      <th>3</th>\n",
       "      <td>Passive Aggressive Classifier</td>\n",
       "      <td>87.50</td>\n",
       "      <td>83.1250</td>\n",
       "      <td>PassiveAggressiveClassifier()</td>\n",
       "    </tr>\n",
       "    <tr>\n",
       "      <th>4</th>\n",
       "      <td>Ridge Classifier</td>\n",
       "      <td>86.25</td>\n",
       "      <td>82.5000</td>\n",
       "      <td>RidgeClassifier()</td>\n",
       "    </tr>\n",
       "    <tr>\n",
       "      <th>5</th>\n",
       "      <td>Support Vector Machine</td>\n",
       "      <td>92.50</td>\n",
       "      <td>90.3125</td>\n",
       "      <td>SVC()</td>\n",
       "    </tr>\n",
       "    <tr>\n",
       "      <th>6</th>\n",
       "      <td>K-Nearest Neighbours</td>\n",
       "      <td>91.25</td>\n",
       "      <td>90.0000</td>\n",
       "      <td>KNeighborsClassifier()</td>\n",
       "    </tr>\n",
       "    <tr>\n",
       "      <th>7</th>\n",
       "      <td>Decision Trees</td>\n",
       "      <td>83.75</td>\n",
       "      <td>86.5625</td>\n",
       "      <td>DecisionTreeClassifier()</td>\n",
       "    </tr>\n",
       "    <tr>\n",
       "      <th>8</th>\n",
       "      <td>Naive Bayes</td>\n",
       "      <td>93.75</td>\n",
       "      <td>88.1250</td>\n",
       "      <td>GaussianNB()</td>\n",
       "    </tr>\n",
       "    <tr>\n",
       "      <th>9</th>\n",
       "      <td>Random Forest Classifier</td>\n",
       "      <td>90.00</td>\n",
       "      <td>88.7500</td>\n",
       "      <td>(DecisionTreeClassifier(max_features='auto', r...</td>\n",
       "    </tr>\n",
       "    <tr>\n",
       "      <th>10</th>\n",
       "      <td>Gradient Boosting Classifier</td>\n",
       "      <td>86.25</td>\n",
       "      <td>87.8125</td>\n",
       "      <td>([DecisionTreeRegressor(criterion='friedman_ms...</td>\n",
       "    </tr>\n",
       "    <tr>\n",
       "      <th>11</th>\n",
       "      <td>AdaBoost Classifier</td>\n",
       "      <td>88.75</td>\n",
       "      <td>87.5000</td>\n",
       "      <td>(DecisionTreeClassifier(max_depth=1, random_st...</td>\n",
       "    </tr>\n",
       "    <tr>\n",
       "      <th>12</th>\n",
       "      <td>Bagging Classifier</td>\n",
       "      <td>87.50</td>\n",
       "      <td>87.1875</td>\n",
       "      <td>(DecisionTreeClassifier(random_state=845464859...</td>\n",
       "    </tr>\n",
       "    <tr>\n",
       "      <th>13</th>\n",
       "      <td>Extra Trees Classifier</td>\n",
       "      <td>87.50</td>\n",
       "      <td>86.8750</td>\n",
       "      <td>(ExtraTreeClassifier(random_state=2003151281),...</td>\n",
       "    </tr>\n",
       "    <tr>\n",
       "      <th>14</th>\n",
       "      <td>LightGBM Classifier</td>\n",
       "      <td>90.00</td>\n",
       "      <td>88.4375</td>\n",
       "      <td>LGBMClassifier()</td>\n",
       "    </tr>\n",
       "    <tr>\n",
       "      <th>15</th>\n",
       "      <td>CatBoost Classifier</td>\n",
       "      <td>92.50</td>\n",
       "      <td>89.3750</td>\n",
       "      <td>&lt;catboost.core.CatBoostClassifier object at 0x...</td>\n",
       "    </tr>\n",
       "    <tr>\n",
       "      <th>16</th>\n",
       "      <td>XGBoost Classifier</td>\n",
       "      <td>91.25</td>\n",
       "      <td>88.1250</td>\n",
       "      <td>XGBClassifier(base_score=0.5, booster='gbtree'...</td>\n",
       "    </tr>\n",
       "    <tr>\n",
       "      <th>17</th>\n",
       "      <td>Multi Layer Perceptron Classifier</td>\n",
       "      <td>93.75</td>\n",
       "      <td>88.4375</td>\n",
       "      <td>MLPClassifier()</td>\n",
       "    </tr>\n",
       "  </tbody>\n",
       "</table>\n",
       "</div>"
      ],
      "text/plain": [
       "                                 Name  Accuracy  KFold Accuracy  \\\n",
       "0                 Logistic Regression     86.25         83.4375   \n",
       "1         Stochastic Gradient Descent     83.75         75.3125   \n",
       "2                          Perceptron     81.25         79.3750   \n",
       "3       Passive Aggressive Classifier     87.50         83.1250   \n",
       "4                    Ridge Classifier     86.25         82.5000   \n",
       "5              Support Vector Machine     92.50         90.3125   \n",
       "6                K-Nearest Neighbours     91.25         90.0000   \n",
       "7                      Decision Trees     83.75         86.5625   \n",
       "8                         Naive Bayes     93.75         88.1250   \n",
       "9            Random Forest Classifier     90.00         88.7500   \n",
       "10       Gradient Boosting Classifier     86.25         87.8125   \n",
       "11                AdaBoost Classifier     88.75         87.5000   \n",
       "12                 Bagging Classifier     87.50         87.1875   \n",
       "13             Extra Trees Classifier     87.50         86.8750   \n",
       "14                LightGBM Classifier     90.00         88.4375   \n",
       "15                CatBoost Classifier     92.50         89.3750   \n",
       "16                 XGBoost Classifier     91.25         88.1250   \n",
       "17  Multi Layer Perceptron Classifier     93.75         88.4375   \n",
       "\n",
       "                                                Model  \n",
       "0                                LogisticRegression()  \n",
       "1                                     SGDClassifier()  \n",
       "2                                        Perceptron()  \n",
       "3                       PassiveAggressiveClassifier()  \n",
       "4                                   RidgeClassifier()  \n",
       "5                                               SVC()  \n",
       "6                              KNeighborsClassifier()  \n",
       "7                            DecisionTreeClassifier()  \n",
       "8                                        GaussianNB()  \n",
       "9   (DecisionTreeClassifier(max_features='auto', r...  \n",
       "10  ([DecisionTreeRegressor(criterion='friedman_ms...  \n",
       "11  (DecisionTreeClassifier(max_depth=1, random_st...  \n",
       "12  (DecisionTreeClassifier(random_state=845464859...  \n",
       "13  (ExtraTreeClassifier(random_state=2003151281),...  \n",
       "14                                   LGBMClassifier()  \n",
       "15  <catboost.core.CatBoostClassifier object at 0x...  \n",
       "16  XGBClassifier(base_score=0.5, booster='gbtree'...  \n",
       "17                                    MLPClassifier()  "
      ]
     },
     "metadata": {},
     "output_type": "display_data"
    },
    {
     "name": "stdout",
     "output_type": "stream",
     "text": [
      "\u001b[32m\n",
      "Completed LuciferML Run [ ✓ ]\n",
      "\n",
      "\u001b[36mSaved Best Model to lucifer_ml_info/best/classifier/models/Support_Vector_Machine_1641050574.pkl and its scaler to lucifer_ml_info/best/classifier/scalers/Support_Vector_Machine_Scaler_1641050574.pkl \n",
      "\n",
      "\u001b[34mTime Elapsed :  8.29 seconds \n",
      "\n"
     ]
    }
   ],
   "source": [
    "classifier = Classification(\n",
    "    predictor=['all'], \n",
    "    cv_folds=2,\n",
    "    # tune=True,\n",
    "    optuna_n_trials=2,\n",
    ")\n",
    "classifier.fit(X, y)\n"
   ]
  },
  {
   "cell_type": "code",
   "execution_count": 18,
   "metadata": {},
   "outputs": [],
   "source": [
    "pred = [19,19000]"
   ]
  },
  {
   "cell_type": "markdown",
   "metadata": {},
   "source": [
    "### Predict with best model\n"
   ]
  },
  {
   "cell_type": "code",
   "execution_count": 19,
   "metadata": {},
   "outputs": [
    {
     "data": {
      "text/plain": [
       "array([1], dtype=int64)"
      ]
     },
     "execution_count": 19,
     "metadata": {},
     "output_type": "execute_result"
    }
   ],
   "source": [
    "classifier.best_classifier.predict([pred])"
   ]
  },
  {
   "cell_type": "markdown",
   "metadata": {},
   "source": [
    "\n",
    "### Get details about best model\n"
   ]
  },
  {
   "cell_type": "code",
   "execution_count": 20,
   "metadata": {},
   "outputs": [
    {
     "name": "stdout",
     "output_type": "stream",
     "text": [
      "Support Vector Machine\n",
      "92.5\n",
      "90.3125\n"
     ]
    }
   ],
   "source": [
    "print(classifier.best_classifier.name)\n",
    "print(classifier.best_classifier.accuracy)\n",
    "print(classifier.best_classifier.kfold_acc)\n"
   ]
  },
  {
   "cell_type": "markdown",
   "metadata": {},
   "source": [
    "\n",
    "### Load Model"
   ]
  },
  {
   "cell_type": "code",
   "execution_count": 21,
   "metadata": {},
   "outputs": [
    {
     "name": "stdout",
     "output_type": "stream",
     "text": [
      "\u001b[32m[Info] Model and Scaler Loaded from lucifer_ml_info/best/classifier/models/Support_Vector_Machine_1641050574.pkl and lucifer_ml_info/best/classifier/scalers/Support_Vector_Machine_Scaler_1641050574.pkl\n"
     ]
    },
    {
     "name": "stderr",
     "output_type": "stream",
     "text": [
      "X does not have valid feature names, but StandardScaler was fitted with feature names\n"
     ]
    },
    {
     "data": {
      "text/plain": [
       "array([0], dtype=int64)"
      ]
     },
     "execution_count": 21,
     "metadata": {},
     "output_type": "execute_result"
    }
   ],
   "source": [
    "model = Classification(\n",
    "    path=[classifier.best_classifier_path, classifier.scaler_path])\n",
    "model.predict([pred])\n"
   ]
  },
  {
   "cell_type": "markdown",
   "metadata": {},
   "source": [
    "### You can use original methods from the models like this"
   ]
  },
  {
   "cell_type": "code",
   "execution_count": 22,
   "metadata": {},
   "outputs": [
    {
     "data": {
      "text/plain": [
       "{'C': 1.0,\n",
       " 'break_ties': False,\n",
       " 'cache_size': 200,\n",
       " 'class_weight': None,\n",
       " 'coef0': 0.0,\n",
       " 'decision_function_shape': 'ovr',\n",
       " 'degree': 3,\n",
       " 'gamma': 'scale',\n",
       " 'kernel': 'rbf',\n",
       " 'max_iter': -1,\n",
       " 'probability': False,\n",
       " 'random_state': None,\n",
       " 'shrinking': True,\n",
       " 'tol': 0.001,\n",
       " 'verbose': False}"
      ]
     },
     "execution_count": 22,
     "metadata": {},
     "output_type": "execute_result"
    }
   ],
   "source": [
    "classifier.best_classifier.model.get_params()"
   ]
  },
  {
   "cell_type": "markdown",
   "metadata": {},
   "source": [
    "### Saving any model"
   ]
  },
  {
   "cell_type": "code",
   "execution_count": 23,
   "metadata": {},
   "outputs": [
    {
     "name": "stdout",
     "output_type": "stream",
     "text": [
      "Model Saved at lucifer_ml_info/models/classifier/Multi_Layer_Perceptron_Classifier_1641050575.pkl and Scaler at lucifer_ml_info/scalers/classifier/Multi_Layer_Perceptron_Classifier_Scaler_1641050575.pkl\n"
     ]
    }
   ],
   "source": [
    "model_path, scaler_path = classifier.save()"
   ]
  }
 ],
 "metadata": {
  "interpreter": {
   "hash": "78163025047b8c069cf9dc6d6b0199bad5557f8e2b974d25ea25ab62dd55598b"
  },
  "kernelspec": {
   "display_name": "Python 3.9.4 64-bit ('luciferml-venv': venv)",
   "language": "python",
   "name": "python3"
  },
  "language_info": {
   "codemirror_mode": {
    "name": "ipython",
    "version": 3
   },
   "file_extension": ".py",
   "mimetype": "text/x-python",
   "name": "python",
   "nbconvert_exporter": "python",
   "pygments_lexer": "ipython3",
   "version": "3.9.9"
  },
  "orig_nbformat": 4
 },
 "nbformat": 4,
 "nbformat_minor": 2
}
