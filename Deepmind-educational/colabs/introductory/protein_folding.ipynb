{
  "cells": [
    {
      "cell_type": "markdown",
      "metadata": {
        "id": "fowagf9wQxqo"
      },
      "source": [
        "\u003e \u003cp\u003e\u003csmall\u003e\u003csmall\u003eCopyright 2020 DeepMind Technologies Limited.\u003c/p\u003e\n",
        "\u003e \u003cp\u003e\u003csmall\u003e\u003csmall\u003e Licensed under the Apache License, Version 2.0 (the \"License\"); you may not use this file except in compliance with the License. You may obtain a copy of the License at \u003c/p\u003e\n",
        "\u003e \u003cp\u003e\u003csmall\u003e\u003csmall\u003e \u003ca href=\"https://www.apache.org/licenses/LICENSE-2.0\"\u003ehttps://www.apache.org/licenses/LICENSE-2.0\u003c/a\u003e \u003c/p\u003e\n",
        "\u003e \u003cp\u003e\u003csmall\u003e\u003csmall\u003e Unless required by applicable law or agreed to in writing, software distributed under the License is distributed on an \"AS IS\" BASIS, WITHOUT WARRANTIES OR CONDITIONS OF ANY KIND, either express or implied. See the License for the specific language governing permissions and limitations under the License. \u003c/p\u003e\n"
      ]
    },
    {
      "cell_type": "markdown",
      "metadata": {
        "id": "7b77q_yKl7qv"
      },
      "source": [
        "**Aim**\n",
        "\n",
        "This Colab aims to give a basic intuition on what machine learning is. It does so by walking you through solving a toy protein folding problem.\n",
        "\n",
        "Protein folding is a very important problem, as proteins are the basic building blocks of everything alive on Earth, including our bodies. Proteins work together like miniature machines to execute many functions in our bodies, from transmitting signals and providing structure to our cells to working as chemical factories and peacekeepers of our bodies. Proteins start their lives as one-dimensional chains of amino acids, but then they “fold” into 3D shapes. It is similar to how in origami you fold a 2D sheet of paper into a 3D crane or a unicorn, but proteins are even simpler than 2D, they start as 1D sequences. Understanding how proteins acquire 3D structure is one of the most difficult and unsolved problems in biology. We get the 1D sequence of a protein from its DNA or RNA, but it is very difficult to predict what shape it will take when it folds into a 3D structure. Scientists are currently using machine learning to get closer to understanding this important biological question.\n",
        "\n",
        "**Disclaimer**\n",
        "\n",
        "\n",
        "*This is unrelated to DeepMind's AlphaFold algorithm.  If you'd like to know more about AlphaFold, please see [our Blog post](https://deepmind.com/blog/article/AlphaFold-Using-AI-for-scientific-discovery).*\n",
        "\n",
        "This code is intended for educational purposes, and in the name of readability for a non-technical audience does not always follow best practices for software engineering.\n",
        "\n",
        "**Links to resources**\n",
        "- [What is Colab?](https://colab.sandbox.google.com/notebooks/intro.ipynb) If you have never used Colab before, get started here!"
      ]
    },
    {
      "cell_type": "markdown",
      "metadata": {
        "id": "EaW_rorX9XrG"
      },
      "source": [
        "#                        Let's explore proteins and machine learning!\n",
        "\n",
        "\n",
        "\n"
      ]
    },
    {
      "cell_type": "markdown",
      "metadata": {
        "id": "RZo0RpjRyzQb"
      },
      "source": [
        "\n",
        "\u003e ## Example of a protein.\n",
        "\n"
      ]
    },
    {
      "cell_type": "markdown",
      "metadata": {
        "id": "6ee_k3YJysF6"
      },
      "source": [
        "\n",
        "Let's see an animation of one the most important protein machines in our bodies - ATP synthase.\n",
        "\n",
        "The job of ATP synthase is to make ATP, the energy currency of the cell. You may know that mitochondria are the powerhouse of the cell, and ATP synthase is the crucial protein."
      ]
    },
    {
      "cell_type": "code",
      "execution_count": null,
      "metadata": {
        "cellView": "form",
        "colab": {
          "height": 421
        },
        "id": "E-mKHNKOrzNC",
        "outputId": "063624fe-cfcb-4a1b-f6ab-19b4c651ef5b"
      },
      "outputs": [
        {
          "data": {
            "text/html": [
              "\n",
              "        \u003ciframe\n",
              "            width=\"600\"\n",
              "            height=400\"\n",
              "            src=\"https://www.youtube.com/embed/GM9buhWJjlA\"\n",
              "            frameborder=\"0\"\n",
              "            allowfullscreen\n",
              "        \u003e\u003c/iframe\u003e\n",
              "        "
            ],
            "text/plain": [
              "\u003cIPython.lib.display.YouTubeVideo at 0x7f099254fc88\u003e"
            ]
          },
          "execution_count": 3,
          "metadata": {
            "tags": []
          },
          "output_type": "execute_result"
        }
      ],
      "source": [
        "#@title Look how complex this structure is!\n",
        "from IPython.display import YouTubeVideo\n",
        "YouTubeVideo('GM9buhWJjlA', width=600, height=400)"
      ]
    },
    {
      "cell_type": "markdown",
      "metadata": {
        "id": "eBziCWuEsp6Q"
      },
      "source": [
        "\n",
        "\u003e ## Introduction\n",
        "\n"
      ]
    },
    {
      "cell_type": "markdown",
      "metadata": {
        "id": "iUlOMff0BAtJ"
      },
      "source": [
        "\n",
        "---\n",
        "In nature, our cells make proteins bit by bit by building a chain from building blocks called amino acids. Proteins then fold into shape naturally in the crowded, watery insides of the cell. We know the sequence of amino acids in a protein because of the **genetic code**, but we don't always know what its 3D shape is. Why is its shape important? Because a protein's function, what is does in our body, is determined by its shape!\n",
        "\n",
        "---\n",
        "In this colab:\n",
        "\n",
        "\n",
        "\n",
        "\n",
        "- You will play with shaping and visualizing proteins. You will use sliders to fix misfolded proteins and track your progress using an error function.\n",
        "- You will learn about some concepts that are important in machine learning.\n",
        "\n",
        "\n",
        "\n",
        "Through these activities, you will get a feel for what machine learning is and why it can help us solve some of the most challenging problems, like protein folding!\n",
        "\n",
        "---\n",
        "\n"
      ]
    },
    {
      "cell_type": "markdown",
      "metadata": {
        "id": "GakqwhyKopnk"
      },
      "source": [
        "\u003e ## Now let's get everything we need to work with proteins.\n",
        "\n",
        "\n",
        "\n",
        "\n",
        "\n",
        "*Instructions:*  Click on the button on the left to run the cell."
      ]
    },
    {
      "cell_type": "code",
      "execution_count": null,
      "metadata": {
        "cellView": "form",
        "id": "X54BUh5PxaUa"
      },
      "outputs": [],
      "source": [
        "#@title Run this cell!\n",
        "\n",
        "print(\"\"\"Great job! You just ran a cell. \\n\"\"\" \\\n",
        "      \"\"\"The colab is now loading the necessary libraries and \"\"\" \\\n",
        "      \"\"\"data in. It might take a couple of minutes.\\n \"\"\" \\\n",
        "      \"\"\"Meanwhile, you can go watch the video above again!\"\"\")\n",
        "\n",
        "from IPython.utils import io\n",
        "\n",
        "print('Downloading necessary libraries...')\n",
        "def install_libraries():\n",
        "  !pip install biopython\n",
        "  !pip install -U ProDy\n",
        "  !pip install py3Dmol\n",
        "  \n",
        "with io.capture_output() as captured:\n",
        "  install_libraries()\n",
        "\n",
        "# Import libraries.\n",
        "import math\n",
        "import numpy as np\n",
        "import scipy\n",
        "import copy\n",
        "import py3Dmol\n",
        "import matplotlib.pyplot as plt\n",
        "\n",
        "from google.colab import widgets\n",
        "from matplotlib import pylab\n",
        "\n",
        "from mpl_toolkits.mplot3d import Axes3D\n",
        "from prody import *\n",
        "\n",
        "print('Done downloading the libraries!')\n",
        "print('Loading functions...')\n",
        "\n",
        "step = 0\n",
        "# Visualisation utility.\n",
        "def _visualize_protein(*alist, **kwargs):\n",
        "  \"\"\"Slightly modified and simplified version of py3Dmol's view3d function.\"\"\"\n",
        "  width = kwargs.get('width', 400)\n",
        "  height = kwargs.get('height', 400)\n",
        "  data_list = kwargs.pop('data', None)\n",
        "  modes = kwargs.pop('mode', None)\n",
        "  style = kwargs.pop('style', [])\n",
        "  zoomto = kwargs.pop('zoomto', {})\n",
        "  frames = kwargs.pop('frames', 30)\n",
        "  interval = kwargs.pop('interval', 1)\n",
        "  scale = kwargs.pop('scale', 100)\n",
        "\n",
        "  view = py3Dmol.view(width=400, height=400)  \n",
        "  \n",
        "  for i, atoms in enumerate(alist):\n",
        "      pdb = prody.utilities.createStringIO()\n",
        "      writePDBStream(pdb, atoms)\n",
        "      view.addAsOneMolecule(pdb.getvalue(), 'pdb')\n",
        "      view.setStyle({'model': -1}, {'cartoon': {'color':'spectrum'}})\n",
        "      view.setStyle({'model': -1, 'hetflag': True}, {'stick':{}})\n",
        "      view.setStyle({'model': -1, 'bonds': 0}, {'sphere':{'radius': 0.5}})    \n",
        "\n",
        "  view.setBackgroundColor('0xeeeeee')\n",
        "  view.zoomTo()\n",
        "  return view\n",
        "\n",
        "def _rotate(protein, position, angles):\n",
        "  \"\"\"Splits a protein into two parts (at position), and rotates the second part\n",
        "  by the given angles (as Euler rotation angles in X, Y, Z).\"\"\"\n",
        "\n",
        "  # Build a rotation transformation for the second part of the protein.\n",
        "  rotation = scipy.spatial.transform.Rotation.from_euler('xyz', angles=angles)\n",
        "\n",
        "  coords = protein.getCoords() # Atom coordinates. \n",
        "  first = coords[:position]\n",
        "  second = coords[position:]\n",
        "  offset = coords[-1]\n",
        "  translated = second - offset\n",
        "  rotated = rotation.apply(translated)\n",
        "  second = rotated + offset\n",
        "\n",
        "  rotated = copy.deepcopy(protein)\n",
        "  rotated.setCoords(np.concatenate([first, second]))\n",
        "  return rotated\n",
        " \n",
        "  \n",
        "# Download protein data.\n",
        "def download_proteins():\n",
        "  \"\"\"Downloads one of CASP13's protein structures. \"\"\"\n",
        "  with io.capture_output() as captured:\n",
        "    !wget http://predictioncenter.org/download_area/CASP13/targets/casp13.targets.T-D.4public.tar.gz\n",
        "    !apt-get install p7zip-full\n",
        "    !p7zip -d casp13.targets.T-D.4public.tar.gz\n",
        "    !tar -xvf casp13.targets.T-D.4public.tar.gz\n",
        "  print('Downloaded the necessary proteins!')\n",
        "    \n",
        "\n",
        "def load_target_protein(target_pdb):\n",
        "  \"\"\"Loads the target protein structure into colab.\"\"\"\n",
        "  with io.capture_output() as captured:\n",
        "    target_protein = parsePDB(target_pdb)\n",
        "  print('Loaded target protein.')\n",
        "  return target_protein\n",
        "  \n",
        "\n",
        "def get_rmsd_metric(pdb_orig, pdb_wiggled):\n",
        "  \"\"\"Compute the RMSD error between two proteins.\"\"\"\n",
        "  pdb_orig = copy.deepcopy(pdb_orig)\n",
        "\n",
        "  coords = pdb_wiggled.getCoords()\n",
        "  pdb_orig.addCoordset(coords)\n",
        "  pdb_orig.setACSIndex(0)\n",
        "\n",
        "  alignCoordsets(pdb_orig.calpha)\n",
        "  mean_rmsd = np.mean(calcRMSD(pdb_orig))\n",
        "  return round(mean_rmsd, 4)\n",
        "\n",
        "\n",
        "# Used for dynamically updating error curves.\n",
        "def _view_results(grid, steps, rmsds):\n",
        "  with grid.output_to(0, 0):\n",
        "    grid.clear_cell()\n",
        "    pylab.figure(figsize=(5, 5))\n",
        "    pylab.plot(steps, rmsds, 'gray')\n",
        "    pylab.xlabel('Steps')\n",
        "    pylab.ylabel('Error')\n",
        "    pylab.xticks(steps)\n",
        "\n",
        "\n",
        "TARGET_PDB = 'T0953s2-D1.pdb'\n",
        "download_proteins()\n",
        "target_protein = load_target_protein(TARGET_PDB)\n"
      ]
    },
    {
      "cell_type": "markdown",
      "metadata": {
        "id": "gac37OQlI0Vu"
      },
      "source": [
        "\u003e ## What does _Protein Folding_ look like?\n",
        "\n",
        "At DeepMind, we've create a computer model that folds proteins from the amino acid chain. Below is an animation of the *folding* process.\n",
        "\n",
        "\u003cimg src=\"https://storage.googleapis.com/dm-educational/assets/protein_folding/T0870-D1.gif\" /\u003e"
      ]
    },
    {
      "cell_type": "markdown",
      "metadata": {
        "id": "LvsOlgB7QbWb"
      },
      "source": [
        "# Now it's time to solve some problems!\n",
        "\n",
        "\u003ccenter\u003e\n",
        "\u003cimg src=\"https://storage.googleapis.com/dm-educational/assets/protein_folding/scientist.png\" width=\"200\" /\u003e\n",
        "\u003c/center\u003e\n",
        "\n",
        "In the following three problems, you will be given a protein misfolded at a particular bond, and your task is to repair it.  Move the sliders to try and repair the protein. With each move you make, a graph will update to show your progress."
      ]
    },
    {
      "cell_type": "code",
      "execution_count": null,
      "metadata": {
        "cellView": "form",
        "id": "WKkkTzppoWPm"
      },
      "outputs": [],
      "source": [
        "#@title Run this cell to prepare the problems.\n",
        "\n",
        "# These are the initial values for the problems:\n",
        "steps_p1 = []\n",
        "rmsds_p1 = []\n",
        "\n",
        "steps_p2 = []\n",
        "rmsds_p2 = []\n",
        "\n",
        "steps_p3 = []\n",
        "rmsds_p3 = []\n"
      ]
    },
    {
      "cell_type": "markdown",
      "metadata": {
        "id": "iF8pzf2_GV1L"
      },
      "source": [
        "\u003e ## **Problem #1:**\n",
        " \n",
        "\n",
        "A protein was misfolded at bond number *165* by a *30 degree* rotation.\n",
        "\n",
        "---\n",
        "\n",
        "Below you have access to a slider that can help you fix the misfolded protein. We will keep track of your attempts by plotting the **error** (a number telling you how close to the answer you are).  Every time you try a new angle, we will\n",
        "calculate the error, and update the **error curve**.  Try to get zero error!\n",
        "\n",
        "We also visualise the **misfolded** protein and the **correct** protein.  Notice they are initially a bit different.  They should look the same when you have found the correct angle to fix the misfold.\n"
      ]
    },
    {
      "cell_type": "code",
      "execution_count": null,
      "metadata": {
        "cellView": "form",
        "id": "1BTHYdfrPnmH"
      },
      "outputs": [],
      "source": [
        "#@title Fix the misfolded protein {run: \"auto\"}\n",
        "\n",
        "bond_number = 165  #@param {type: \"integer\"}\n",
        "\n",
        "angle = 0  #@param {type: \"slider\", min: -180, max: 180}\n",
        "\n",
        "assert(0 \u003c= bond_number \u003c= 344), \"Bond number must be between 0 and 344\"\n",
        "\n",
        "misfolded_protein = _rotate(target_protein, 165,\n",
        "                            [math.radians(30), 0, 0])\n",
        "misfolded_protein = _rotate(misfolded_protein, bond_number,\n",
        "                            [math.radians(angle), 0, 0])\n",
        "steps_p1.append(len(steps_p1))\n",
        "rmsds_p1.append(get_rmsd_metric(target_protein, misfolded_protein))\n",
        "\n",
        "grid = widgets.Grid(2, 3)\n",
        "\n",
        "_view_results(grid, steps_p1, rmsds_p1)\n",
        "\n",
        "with grid.output_to(1, 0):\n",
        "  print(\"Error curve, lower is better\")\n",
        "\n",
        "with grid.output_to(1, 1):\n",
        "  print(\"Misfolded protein\")\n",
        "\n",
        "with grid.output_to(1, 2):\n",
        "  print(\"Correct protein\")\n",
        "\n",
        "with grid.output_to(0, 1):\n",
        "  grid.clear_cell()\n",
        "  _visualize_protein(misfolded_protein).show()\n",
        "\n",
        "with grid.output_to(0, 2):\n",
        "  grid.clear_cell()\n",
        "  _visualize_protein(target_protein).show()\n",
        "\n",
        "if rmsds_p1[-1] \u003c 0.001:\n",
        "  print(\"Excellent! This looks like the correct protein!\")\n",
        "else:\n",
        "  print(\"That's not quite right, try again.\")\n"
      ]
    },
    {
      "cell_type": "markdown",
      "metadata": {
        "id": "vof7y2HVqMf0"
      },
      "source": [
        "### Solution"
      ]
    },
    {
      "cell_type": "markdown",
      "metadata": {
        "id": "7djxuuRRq1k4"
      },
      "source": [
        "**`bond_number`**: 165  (don't change this value)\n",
        "\n",
        "**`angle`**: -30  (we need to fix the misfold of 30 degrees, by rotating back, or -30 degrees)"
      ]
    },
    {
      "cell_type": "markdown",
      "metadata": {
        "id": "NJUrvVVKGV09"
      },
      "source": [
        "\u003e ## **Problem #2:**\n",
        "\n",
        "A protein was misfolded by a *42* degree rotation at some bond between *100* and *120*.\n",
        "\n",
        "---\n",
        "\n",
        "Just like before, you have access to a slider that you can use to set the right rotation.  However, this time we don't know at which bond the rotation happened!\n",
        "\n",
        "You'll have to try different values for the **`bond_number`**.  We recommend you set the correct **`angle`** before you start changing the **`bond number`**.\n",
        "\n",
        "Once again, try to get zero error!"
      ]
    },
    {
      "cell_type": "code",
      "execution_count": null,
      "metadata": {
        "cellView": "form",
        "id": "mU7DnBD0GV06"
      },
      "outputs": [],
      "source": [
        "#@title Fix the misfolded protein {run: \"auto\"}\n",
        "\n",
        "bond_number =   100#@param {type: \"integer\"}\n",
        "\n",
        "angle = 0  #@param {type: \"slider\", min: -180, max: 180}\n",
        "\n",
        "assert(0 \u003c= bond_number \u003c= 344), \"Bond number must be between 0 and 344\"\n",
        "\n",
        "misfolded_protein = _rotate(target_protein, 115,\n",
        "                            [math.radians(42), 0, 0])\n",
        "misfolded_protein = _rotate(misfolded_protein, bond_number,\n",
        "                            [math.radians(angle), 0, 0])\n",
        "steps_p2.append(len(steps_p2))\n",
        "rmsds_p2.append(get_rmsd_metric(target_protein, misfolded_protein))\n",
        "\n",
        "grid = widgets.Grid(2, 3)\n",
        "\n",
        "_view_results(grid, steps_p2, rmsds_p2)\n",
        "\n",
        "with grid.output_to(1, 0):\n",
        "  print(\"Error curve, lower is better\")\n",
        "\n",
        "with grid.output_to(1, 1):\n",
        "  print(\"Misfolded protein\")\n",
        "\n",
        "with grid.output_to(1, 2):\n",
        "  print(\"Correct protein\")\n",
        "\n",
        "with grid.output_to(0, 1):\n",
        "  grid.clear_cell()\n",
        "  _visualize_protein(misfolded_protein).show()\n",
        "\n",
        "with grid.output_to(0, 2):\n",
        "  grid.clear_cell()\n",
        "  _visualize_protein(target_protein).show()\n",
        "\n",
        "if rmsds_p2[-1] \u003c 0.001:\n",
        "  print(\"Excellent! This looks like the correct protein!\")\n",
        "else:\n",
        "  print(\"That's not quite right, try again.\")\n"
      ]
    },
    {
      "cell_type": "markdown",
      "metadata": {
        "id": "w_mWXDNhvc48"
      },
      "source": [
        "### Solution"
      ]
    },
    {
      "cell_type": "markdown",
      "metadata": {
        "id": "74adsGlavejP"
      },
      "source": [
        "**`bond_number`**: 115\n",
        "\n",
        "**`angle`**: -42"
      ]
    },
    {
      "cell_type": "markdown",
      "metadata": {
        "id": "ryZuekHpGV04"
      },
      "source": [
        "\u003e ## **Problem #3:**\n",
        "\n",
        "A protein was misfolded at a bond by an unknown number of degrees.\n",
        "\n",
        "**Note**: we do not tell you by how much it was rotated nor at which bond it happened!\n",
        "\n",
        "---\n",
        "\n",
        "You'll have to figure out a good strategy to change the **`angle`** and the **`bond number`** until you get to the right solution.\n",
        "\n",
        "This is a **HARD** problem!  Don't worry if you don't get it right"
      ]
    },
    {
      "cell_type": "code",
      "execution_count": null,
      "metadata": {
        "cellView": "form",
        "id": "Vz3kSaAZDZL9"
      },
      "outputs": [],
      "source": [
        "#@title Fix the misfolded protein {run: \"auto\"}\n",
        "\n",
        "bond_number =   0#@param {type: \"integer\"}\n",
        "\n",
        "angle = 0  #@param {type: \"slider\", min: -180, max: 180}\n",
        "\n",
        "assert(0 \u003c= bond_number \u003c= 344), \"Bond number must be between 0 and 344\"\n",
        "\n",
        "misfolded_protein = _rotate(target_protein, 123,\n",
        "                            [math.radians(-99), 0, 0])\n",
        "misfolded_protein = _rotate(misfolded_protein, bond_number,\n",
        "                            [math.radians(angle), 0, 0])\n",
        "steps_p3.append(len(steps_p3))\n",
        "rmsds_p3.append(get_rmsd_metric(target_protein, misfolded_protein))\n",
        "\n",
        "grid = widgets.Grid(2, 3)\n",
        "\n",
        "_view_results(grid, steps_p3, rmsds_p3)\n",
        "\n",
        "with grid.output_to(1, 0):\n",
        "  print(\"Error curve, lower is better\")\n",
        "\n",
        "with grid.output_to(1, 1):\n",
        "  print(\"Misfolded protein\")\n",
        "\n",
        "with grid.output_to(1, 2):\n",
        "  print(\"Correct protein\")\n",
        "\n",
        "with grid.output_to(0, 1):\n",
        "  grid.clear_cell()\n",
        "  _visualize_protein(misfolded_protein).show()\n",
        "\n",
        "with grid.output_to(0, 2):\n",
        "  grid.clear_cell()\n",
        "  _visualize_protein(target_protein).show()\n",
        "\n",
        "if rmsds_p3[-1] \u003c 0.001:\n",
        "  print(\"Excellent! This looks like the correct protein!\")\n",
        "else:\n",
        "  print(\"That's not quite right, try again.\")\n"
      ]
    },
    {
      "cell_type": "markdown",
      "metadata": {
        "id": "_bH4IjkhIB5X"
      },
      "source": [
        "### Solution"
      ]
    },
    {
      "cell_type": "markdown",
      "metadata": {
        "id": "esZCHZTmIDWG"
      },
      "source": [
        "**`bond_number`**: 123\n",
        "\n",
        "**`angle`**: 99"
      ]
    },
    {
      "cell_type": "markdown",
      "metadata": {
        "id": "NqGgwVJS8b89"
      },
      "source": [
        "# Machine learning (Extra credit-ish)"
      ]
    },
    {
      "cell_type": "markdown",
      "metadata": {
        "id": "uTUuO5ELr7bw"
      },
      "source": [
        "Folding a protein that had a single place broken wasn't _too_ hard, right?  But imagine that you had to find the right combination of rotations for tens, hundreds, or even thousands of different places!  Then the problem would be a lot harder...\n",
        "\n",
        "The whole field of _Machine Learning_ revolves around this very important concept:\n",
        "\n",
        "### Computers are good at doing boring repetitive things.  If you know when you have improved something, just make a computer do that _over and over_.\n"
      ]
    },
    {
      "cell_type": "markdown",
      "metadata": {
        "id": "d39qtmlwTPyC"
      },
      "source": [
        "## Programming\n",
        "\n",
        "In the following sections, we will walk you through making your very own machine learning system to fold proteins.  Don't worry, you don't need to know programming before doing this.  And if you get stuck, we have the solutions so you don't miss out on the fun!"
      ]
    },
    {
      "cell_type": "markdown",
      "metadata": {
        "id": "lk1A_A1V8Vh7"
      },
      "source": [
        "\u003e ## Iterations"
      ]
    },
    {
      "cell_type": "markdown",
      "metadata": {
        "id": "74NKzfKg06XX"
      },
      "source": [
        "You can make the computer repeat a command as many times as you wish.\n",
        "\n",
        "To do this, we use the **`for`** command, e.g."
      ]
    },
    {
      "cell_type": "code",
      "execution_count": null,
      "metadata": {
        "id": "_6p28Dgb9C77"
      },
      "outputs": [],
      "source": [
        "for i in range(10):\n",
        "  print(\"Hello\")"
      ]
    },
    {
      "cell_type": "markdown",
      "metadata": {
        "id": "_Zd-_CqF9M9b"
      },
      "source": [
        "The details of how this works don't matter.  In this exercise, you will always use\n",
        "\n",
        "    for \u003ca variable name\u003e in range(\u003ca number\u003e):\n",
        "      \u003csome commands\u003e\n",
        "      \n",
        "You can use the variable that you put after **`for`**, if you want.  It will take the value 0, 1, 2, ..., all the way up to the number that you put inside `range`, minus one.  For example:"
      ]
    },
    {
      "cell_type": "code",
      "execution_count": null,
      "metadata": {
        "id": "Nzkv02b09ljD"
      },
      "outputs": [],
      "source": [
        "for somename in range(7):\n",
        "  print(somename)"
      ]
    },
    {
      "cell_type": "markdown",
      "metadata": {
        "id": "rKlKXo0B-ppT"
      },
      "source": [
        "\u003e ## Variables"
      ]
    },
    {
      "cell_type": "markdown",
      "metadata": {
        "id": "aQ-LkRKU98Sx"
      },
      "source": [
        "You can also save something you compute into a new variable.  For this you use the equals sign (=).  Unlike in Maths, in Python the equals sign means to save some value in a variable, rather than an equation to solve.  For example:"
      ]
    },
    {
      "cell_type": "code",
      "execution_count": null,
      "metadata": {
        "id": "9oTIAdPK-Kol"
      },
      "outputs": [],
      "source": [
        "square = 5*5\n",
        "print(square)"
      ]
    },
    {
      "cell_type": "markdown",
      "metadata": {
        "id": "22bbcZPHBLUI"
      },
      "source": [
        "You can even overwrite a variable with something that's computed from its own value. This might seem strange, but it is OK."
      ]
    },
    {
      "cell_type": "code",
      "execution_count": null,
      "metadata": {
        "id": "-khb32SzBRAN"
      },
      "outputs": [],
      "source": [
        "square = square * square\n",
        "print(square)"
      ]
    },
    {
      "cell_type": "markdown",
      "metadata": {
        "id": "Pc1QUh3Z-Oyo"
      },
      "source": [
        "And of course you can combine iteration and variable assignments together\n",
        " to make interesting things. For example, to print all integer squares between 0 and 100:"
      ]
    },
    {
      "cell_type": "code",
      "execution_count": null,
      "metadata": {
        "id": "F2rWpw-L-a4f"
      },
      "outputs": [],
      "source": [
        "for number in range(11):\n",
        "  square = number * number\n",
        "  print(square)"
      ]
    },
    {
      "cell_type": "markdown",
      "metadata": {
        "id": "y8IoYepc-tds"
      },
      "source": [
        "\u003e ## What is _Machine Learning_?\n"
      ]
    },
    {
      "cell_type": "markdown",
      "metadata": {
        "id": "h4lxJT0C1AW8"
      },
      "source": [
        "Basically it is a way to teach computers to learn by trial and error.  In a nutshell, it involves the following steps:\n",
        "\n",
        "1.  Start somewhere\n",
        "2.  Improve the current solution by a little bit\n",
        "3.  Repeat 1 \u0026 2 until you get a solution that is good enough.\n",
        "\n",
        "Or, if you prefer equations ;)\n",
        "\n",
        "    next_solution = current_solution + improvement\n",
        "\n",
        "And because in programming we can use the same variable to update itself:\n",
        "\n",
        "    solution = solution + improvement\n",
        "\n",
        "So computers learn a little bit like we do: by making mistakes, and learning something from them.\n",
        "\n",
        "_____\n",
        "\n",
        "In this section you will make a program that will teach the computer to fold a protein with 10 breakages of unknown rotation.\n",
        "\n",
        "In this section, you will have the following functions available to you:\n",
        "\n",
        "*  **`get_initial_candidate()`**: Gets a random guess for the rotation angles.\n",
        "*  **`get_improvement()`**: Tries to get a better candidate by nudging the angles a bit and seeing if this is better than before.  If it tries many times and cannot improve the protein, it just gives up and returns something that doesn't change anything (i.e. rotates everything by zero, or rather, doesn't rotate anything).  It might also end up making things worse... that's still OK.\n",
        "*  **`view_results()`**: Visualises the current progress."
      ]
    },
    {
      "cell_type": "markdown",
      "metadata": {
        "id": "snBZW7lW1cNJ"
      },
      "source": [
        "\u003e ## Practice"
      ]
    },
    {
      "cell_type": "code",
      "execution_count": null,
      "metadata": {
        "cellView": "form",
        "id": "lp4_Id1KwGTg"
      },
      "outputs": [],
      "source": [
        "#@title Run this cell:  Start using machine learning!  You can always re-run if you need to.\n",
        "\n",
        "import time\n",
        "\n",
        "rmsds_ml = [8]\n",
        "steps_ml = [0]\n",
        "\n",
        "_temperature = 1.0\n",
        "_temp_decay = 0.99\n",
        "_num_iters = 3\n",
        "_timer = time.time()\n",
        "\n",
        "offsets = [165, 42, 115, 123, -99, 30, -179, 2, 0, 53]\n",
        "\n",
        "def get_initial_candidate():\n",
        "  global _temperature\n",
        "  global _timer\n",
        "  _timer = time.time()\n",
        "  _temperature = 1.0\n",
        "  return np.random.randint(-180, 180, [10])\n",
        "\n",
        "def _eval_candidate(c):\n",
        "  rotated = target_protein\n",
        "  for i, rot in enumerate(c):\n",
        "    rotated = _rotate(rotated, 15 + 35*i,\n",
        "                      [math.radians(rot - offsets[i]), 0, 0])\n",
        "\n",
        "  return get_rmsd_metric(target_protein, rotated)  \n",
        "\n",
        "def get_improvement():\n",
        "  global _temperature\n",
        "  global _temp_decay\n",
        "  global _num_iters\n",
        "  for _ in range(_num_iters):\n",
        "    delta = np.random.randint(-5, 5, [10])\n",
        "\n",
        "    rmsd = _eval_candidate(delta + candidate)\n",
        "    if rmsd \u003c rmsds_ml[-1] or np.random.random() \u003c _temperature:\n",
        "      rmsds_ml.append(rmsd)\n",
        "      steps_ml.append(len(steps_ml))\n",
        "      _temperature *= _temp_decay\n",
        "      return delta\n",
        "\n",
        "  rmsd = _eval_candidate(candidate)\n",
        "  rmsds_ml.append(rmsd)\n",
        "  steps_ml.append(len(steps_ml))\n",
        "  return np.zeros([10])\n",
        "\n",
        "from google.colab import widgets\n",
        "from matplotlib import pylab\n",
        "\n",
        "grid = widgets.Grid(1, 1)\n",
        "\n",
        "def view_results():\n",
        "  global _timer\n",
        "  if _timer + 1 \u003c time.time():\n",
        "    _timer = time.time()\n",
        "    with grid.output_to(0, 0):\n",
        "      grid.clear_cell()\n",
        "      pylab.figure(figsize=(5, 5))\n",
        "      pylab.plot(steps_ml, rmsds_ml, 'gray')\n",
        "      pylab.xlabel('Steps')\n",
        "      pylab.ylabel('Error')\n",
        "\n",
        "def get_rmsd_metric(pdb_orig, pdb_wiggled):\n",
        "  pdb_orig = copy.deepcopy(pdb_orig)\n",
        "\n",
        "  coords = pdb_wiggled.getCoords()\n",
        "  pdb_orig.addCoordset(coords)\n",
        "  pdb_orig.setACSIndex(0)\n",
        "\n",
        "  alignCoordsets(pdb_orig.calpha)\n",
        "  mean_rmsd = np.mean(calcRMSD(pdb_orig))\n",
        "  return round(mean_rmsd, 4)\n",
        "\n",
        "\n",
        "print(\"Ready to learn!\")"
      ]
    },
    {
      "cell_type": "markdown",
      "metadata": {
        "id": "mVj0jqyTAg38"
      },
      "source": [
        "### *Warm-up problem*"
      ]
    },
    {
      "cell_type": "markdown",
      "metadata": {
        "id": "iY3EGZk41F66"
      },
      "source": [
        "Make a new candidate by using the **`get_initial_candidate()`** function above, and save it in a variable called **`candidate`**.\n",
        "\n",
        "_____\n",
        "\n",
        "#### Solution\n",
        "\n",
        "If you get stuck, you can see the hidden cell below, but do give it a try."
      ]
    },
    {
      "cell_type": "code",
      "execution_count": null,
      "metadata": {
        "id": "MLZCB5hWA6F0"
      },
      "outputs": [],
      "source": [
        "candidate = get_initial_candidate()"
      ]
    },
    {
      "cell_type": "markdown",
      "metadata": {
        "id": "kmy6yvD2A6TC"
      },
      "source": [
        "### Your code goes in the cell below"
      ]
    },
    {
      "cell_type": "code",
      "execution_count": null,
      "metadata": {
        "id": "-jOZ5YbuBANl"
      },
      "outputs": [],
      "source": [
        ""
      ]
    },
    {
      "cell_type": "markdown",
      "metadata": {
        "id": "W8Xs0RG9CY_y"
      },
      "source": [
        "### *Some improvements*\n"
      ]
    },
    {
      "cell_type": "markdown",
      "metadata": {
        "id": "dghA7LAu1Q1q"
      },
      "source": [
        "Now try to update your candidate with an improvement and then visualise your result.  You can either add this improvement directly, or you can save it first in a new variable, up to you.  Remember to use the **`get_improvement()`** function described above.\n",
        "\n",
        "Since you already created your candidate above, you don't need to do it again here, but you can if you want.\n",
        "\n",
        "You will have to make sure that your improvement is saved in the **`candidate`** variable so that the system can keep track of how you are doing.\n",
        "\n",
        "If you are feeling adventurous, and like copy-paste a lot... try stringing a few improvements together before visualising.\n",
        "\n",
        "______\n",
        "\n",
        "**NOTE**:  It is absolutely normal for the system to sometimes get a bit worse before improving again.  **Remember: This is how we learn, by making mistakes.**\n",
        "\n",
        "______\n",
        "\n",
        "#### Solution\n",
        "\n",
        "As above, here is the solution, in case you get stuck :)"
      ]
    },
    {
      "cell_type": "code",
      "execution_count": null,
      "metadata": {
        "id": "N7JRW0f3EZA2"
      },
      "outputs": [],
      "source": [
        "candidate = candidate + get_improvement()\n",
        "candidate = candidate + get_improvement()\n",
        "candidate = candidate + get_improvement()\n",
        "candidate = candidate + get_improvement()\n",
        "view_results()"
      ]
    },
    {
      "cell_type": "markdown",
      "metadata": {
        "id": "vf4WmEY3EYzV"
      },
      "source": [
        "### Your code goes in the cell below"
      ]
    },
    {
      "cell_type": "code",
      "execution_count": null,
      "metadata": {
        "id": "N7WCwF5SEYYf"
      },
      "outputs": [],
      "source": [
        ""
      ]
    },
    {
      "cell_type": "markdown",
      "metadata": {
        "id": "I09Hh09E8ynz"
      },
      "source": [
        "### *Final exercise*"
      ]
    },
    {
      "cell_type": "markdown",
      "metadata": {
        "id": "lzhX3M9s1nnz"
      },
      "source": [
        "Now let's put all of it together.\n",
        "\n",
        "Write a program that creates a random candidate, and then improves it 1000 times, visualising its results along the way.\n",
        "\n",
        "Put your code in the cell below and run it :)\n",
        "\n",
        "____\n",
        "\n",
        "#### Solution\n",
        "\n",
        "As usual, here is the solution in the hidden cell below.  Try to solve the problem, and look only if you get stuck or are curious."
      ]
    },
    {
      "cell_type": "code",
      "execution_count": null,
      "metadata": {
        "id": "xdj5iYDo7sxc"
      },
      "outputs": [],
      "source": [
        "candidate = get_initial_candidate()\n",
        "\n",
        "for i in range(1000):\n",
        "  candidate = candidate + get_improvement()\n",
        "  view_results()\n"
      ]
    },
    {
      "cell_type": "markdown",
      "metadata": {
        "id": "waFWCwVRczKN"
      },
      "source": [
        "## Your code goes below"
      ]
    },
    {
      "cell_type": "code",
      "execution_count": null,
      "metadata": {
        "id": "NNEwhrs_cxyy"
      },
      "outputs": [],
      "source": [
        ""
      ]
    }
  ],
  "metadata": {
    "colab": {
      "collapsed_sections": [
        "vof7y2HVqMf0",
        "w_mWXDNhvc48",
        "_bH4IjkhIB5X",
        "d39qtmlwTPyC",
        "iY3EGZk41F66",
        "dghA7LAu1Q1q",
        "lzhX3M9s1nnz"
      ],
      "name": "protein_folding.ipynb",
      "provenance": []
    },
    "kernelspec": {
      "display_name": "Python 3",
      "name": "python3"
    }
  },
  "nbformat": 4,
  "nbformat_minor": 0
}
