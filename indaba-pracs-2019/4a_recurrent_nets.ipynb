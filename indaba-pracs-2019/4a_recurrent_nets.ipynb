{
  "nbformat": 4,
  "nbformat_minor": 0,
  "metadata": {
    "colab": {
      "name": "Practical 4a: Recurrent Neural Networks",
      "version": "0.3.2",
      "provenance": [],
      "collapsed_sections": [
        "xiUrsPAI36M-",
        "vc8jIbIL7XsY"
      ],
      "include_colab_link": true
    },
    "language_info": {
      "codemirror_mode": {
        "name": "ipython",
        "version": 3
      },
      "file_extension": ".py",
      "mimetype": "text/x-python",
      "name": "python",
      "nbconvert_exporter": "python",
      "pygments_lexer": "ipython3",
      "version": "3.7.1"
    },
    "kernelspec": {
      "name": "python3",
      "display_name": "Python 3"
    },
    "accelerator": "GPU"
  },
  "cells": [
    {
      "cell_type": "markdown",
      "metadata": {
        "id": "view-in-github",
        "colab_type": "text"
      },
      "source": [
        "<a href=\"https://colab.research.google.com/github/deep-learning-indaba/indaba-pracs-2019/blob/master/4a_recurrent_nets.ipynb\" target=\"_parent\"><img src=\"https://colab.research.google.com/assets/colab-badge.svg\" alt=\"Open In Colab\"/></a>"
      ]
    },
    {
      "cell_type": "markdown",
      "metadata": {
        "colab_type": "text",
        "id": "9jDBz0IbW3Xy"
      },
      "source": [
        "# Practical 4a: Recurrent Neural Networks (RNNs)\n",
        "\n",
        "© Deep Learning Indaba. Apache License 2.0.\n"
      ]
    },
    {
      "cell_type": "markdown",
      "metadata": {
        "colab_type": "text",
        "id": "-0F3Ao8BKa0g"
      },
      "source": [
        "## Introduction\n",
        "\n",
        "Feedforward models (eg deep MLPs and ConvNets) map fixed-size input-data (vectors of a fixed dimensionality) to their output labels. They're very powerful and have been successfully used for many tasks. However, a lot of data is not in the form of fixed-size vectors, but exists in the form of **sequences**. Language is one good example, where sentences are sequences of words. In some way, almost any data types can be considered as a sequence (for instance an image consists of a sequence of pixels, speech a sequence of phonemes, and so forth). \n",
        "\n",
        "Recurrent neural networks (**RNNs**) were designed to be able to handle sequential data, and in this practical we will take a closer look at RNNs and then build a model that can generate English sentences in the style of Shakespeare!"
      ]
    },
    {
      "cell_type": "markdown",
      "metadata": {
        "colab_type": "text",
        "id": "otAAvBVFSZy8"
      },
      "source": [
        "## Learning Objectives\n",
        "* Understand how RNNs model sequential data.\n",
        "* Understand how the vanilla RNN is a generalization of feedforward models to incorporate sequential dependencies.\n",
        "* Understand the issues involved when training RNNs.\n",
        "* Know how to implement an RNN for time-series estimation (**regression**) and an RNN language model (character-level **classification**) in Tensorflow using Keras."
      ]
    },
    {
      "cell_type": "markdown",
      "metadata": {
        "id": "THe6CRwAslUz",
        "colab_type": "text"
      },
      "source": [
        "**IMPORTANT: Please fill out the exit ticket form before you leave the practical: https://forms.gle/vkLk6hHCwNrNsb8u6**"
      ]
    },
    {
      "cell_type": "markdown",
      "metadata": {
        "colab_type": "text",
        "id": "gfKcEFUxa--9"
      },
      "source": [
        "## Imports"
      ]
    },
    {
      "cell_type": "code",
      "metadata": {
        "colab_type": "code",
        "id": "h8glXxcyew17",
        "colab": {}
      },
      "source": [
        "#@title Imports (RUN ME!) { display-mode: \"form\" }\n",
        "\n",
        "#!pip install tensorflow-gpu==2.0.0-beta0 > /dev/null 2>&1\n",
        "#!pip -q install pydot_ng > /dev/null 2>&1\n",
        "#!pip -q install grapfrffhviz > /dev/null 2>&1\n",
        "#!apt install graphviz > /dev/null 2>&1\n",
        "\n",
        "import numpy as np\n",
        "import tensorflow as tf\n",
        "import math\n",
        "import random\n",
        "import ssl\n",
        "import sys\n",
        "import urllib\n",
        "\n",
        "from IPython import display\n",
        "import matplotlib.pyplot as plt\n",
        "%matplotlib inline"
      ],
      "execution_count": 0,
      "outputs": []
    },
    {
      "cell_type": "markdown",
      "metadata": {
        "colab_type": "text",
        "id": "yVL1OwL7aH8c"
      },
      "source": [
        "##From Feedforward to Recurrent Models\n",
        "\n",
        "### Intuition\n",
        "RNNs generalize feedforward networks (FFNs) to be able to work with sequential data. Recall that FFNs take an input (e.g. an image) and immediately produce an output (e.g. a digit class), operating on all elements of the input simultaneously. \n",
        "\n",
        "Here's an example of a function that computes the output of an FNN on an input `x` (the `W` and `b` arguments represent the weight and bias arrays):"
      ]
    },
    {
      "cell_type": "code",
      "metadata": {
        "colab_type": "code",
        "id": "NqZsIaRU6-WK",
        "colab": {}
      },
      "source": [
        "def ffn_forward(x, W_xh, W_ho, b_hid, b_out):\n",
        "\n",
        "    # Compute activations on the hidden layer.\n",
        "    hidden_layer = np.tanh(np.dot(W_xh, x) + b_hid)\n",
        "\n",
        "    # Compute the (linear) output layer activations.\n",
        "    output = np.dot(W_ho, hidden_layer) + b_out\n",
        "\n",
        "    return output"
      ],
      "execution_count": 0,
      "outputs": []
    },
    {
      "cell_type": "markdown",
      "metadata": {
        "colab_type": "text",
        "id": "Kb3Tjms06_XL"
      },
      "source": [
        "> *NOTE*: The above cell is to show the structure of an FNN, so you don't need to run it.\n",
        "\n",
        "RNNs, on the other hand, consider the data sequentially, and can remember what they have seen earlier in the sequence to help interpret or contextualize elements from later in the sequence when making predictions.\n",
        "\n",
        "Here is a function that illustrations the idea. It takes the input sequence, and an initial state for the RNN, and then loops over the elements of the sequence, calculating new states for each one.  \n"
      ]
    },
    {
      "cell_type": "code",
      "metadata": {
        "colab_type": "code",
        "id": "ACx_wHGB7AWc",
        "colab": {}
      },
      "source": [
        "def rnn_forward(data_sequence, initial_state):\n",
        "\n",
        "    state = initial_state  # the variable state is updated at every time-step\n",
        "    all_states = [state]  # save the states, so we can return them\n",
        "    all_ys = [] # Used to save all predictions\n",
        "    \n",
        "    for x in data_sequence:\n",
        "\n",
        "      # rnn_cell is a function (not shown) that it takes the current input x_t \n",
        "      # and the previous state h, and produces an output y_t and a new state h.\n",
        "   \n",
        "      y, new_state = rnn_cell(x, state)\n",
        "\n",
        "      all_states.append(new_state)\n",
        "      all_ys.append(y)\n",
        "\n",
        "      # Update state for the next time-step\n",
        "      state = new_state\n",
        "\n",
        "    return all_states, all_ys"
      ],
      "execution_count": 0,
      "outputs": []
    },
    {
      "cell_type": "markdown",
      "metadata": {
        "id": "zpPLOMlfS3Ag",
        "colab_type": "text"
      },
      "source": [
        "> *NOTE*: The above cell is to show the structure of an RNN, so you don't need to run it. The definition of `rnn_cell` is not included, it will be explained below.\n",
        "\n",
        "To understand the distinction between FFNs and RNNs, imagine we want to label words as the part-of-speech categories that they belong to: E.g. for the input sentence \"I want a duck\" and \"He had to duck\", we want our model to predict that duck is a `Noun` in the first sentence and a `Verb` in the second. To do this successfully, the model needs to be aware of the surrounding context. However, if we feed a FFN model only one word at a time, how could it know the difference? If we want to feed it all the words at once, how do we deal with the fact that sentences are of different lengths?\n",
        "\n",
        "RNNs solve this issue by processing the sentence word-by-word, and maintaining an internal **state** summarizing what it has seen so far. This applies not only to words, but also to phonemes in speech, or even, as we will see, elements of a time-series."
      ]
    },
    {
      "cell_type": "markdown",
      "metadata": {
        "colab_type": "text",
        "id": "zUqww79L6Ot-"
      },
      "source": [
        "### Unrolling the network\n",
        "\n",
        "Imagine we are trying to classify a sequence $X = (x_1, x_2, \\ldots, x_T)$ into labels $y$ (for now, let's keep it abstract). After running the `rnn_forward()` function of our RNN defined above on $X$, we would have a list of internal states and outputs of the model at each sequence position. This process is called **unrolling or unfolding in time**, because you can think of it as unrolling the *computations* defined by the RNN loop over the inputs at each position of the sequence.  RNNs are often used to model **time series data** (which we will do in this practical), and therefore these positions are referred to as **time-steps**, and hence we call this process \"unrolling over time\". See the visualization below:"
      ]
    },
    {
      "cell_type": "markdown",
      "metadata": {
        "id": "XBKHPIp19sfk",
        "colab_type": "text"
      },
      "source": [
        "<center><img src=\"data:image/png;base64,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\"\n",
        "height=\"200\"></center>\n"
      ]
    },
    {
      "cell_type": "markdown",
      "metadata": {
        "id": "ARFiZKBA9of-",
        "colab_type": "text"
      },
      "source": [
        "We can therefore think of an RNN as a composition of identical feedforward neural networks (with replicated/tied weights), one for each moment or step in time.\n",
        "\n",
        "These feedforward functions that make up the RNN (i.e. our `rnn_cell` function above) are typically referred to as **cells**, and the only requirement for this function is that the cell function needs to be a differentiable function that can map an input and a state vector to an output and a new state vector. What we have shown above is called the **vanilla RNN**, but there are many more possibilities. One of the most popular variants is called the **Long Short-Term Memory (LSTM)** cell, which we'll use later to create our Shakespeare language model.\n",
        "\n",
        "### Putting this together \n",
        "\n",
        "In the feedforward models we've seen before, the input $x$ is mapped to an intermediate hidden layer $h$ as follows:\n",
        "\n",
        "\\begin{equation}\n",
        "  h = \\sigma(\\underbrace{W_{xh}x}_\\text{current input (per-example)} + b)\n",
        "\\end{equation}\n",
        "\n",
        "where $\\sigma$ is some non-linear activation function like ReLU or tanh.  We can then make a prediction $\\hat{y} = \\sigma(W_{hy}h + b)$ based on $h$, or we can add another layer, etc.  **NOTE**: We use the weight subscript $W_{xz}$ to indicate a mapping from layer $x$ to layer $z$.\n",
        "\n",
        "RNNs generalize this feedforward idea to a sequence of inputs $X = {x_1, x_2, ...}$ by maintaining a sequence of state vectors $h_t$, one for every time-step $t$. The simplest form of such an RNN looks very similar to the equation for a single feedforward layer:\n",
        "\n",
        "\\begin{equation}\n",
        "  h_t = \\sigma(\\underbrace{W_{hh}h_{t-1}}_\\text{previous state} + \\underbrace{W_{xh}x_t}_\\text{current input (per time-step)} + b)\n",
        "\\end{equation}"
      ]
    },
    {
      "cell_type": "markdown",
      "metadata": {
        "id": "LZFxydtr_BvW",
        "colab_type": "text"
      },
      "source": [
        "These states $h_t$ can then be used for various purposes, as we describe below.\n",
        "\n",
        "Feedforward models map one input to one output. On the other hand, RNNs can give **many-to-many** (many inputs, many labels), **many-to-one**, and **one-to-many** mappings. Examples of these tasks include machine translation, sentiment analysis, and image captioning, respectively. For example, we could use each $h_t$ to predict the part of speech for that time-step ($y_t= \\sigma(W_{hy}h_t+b)$) or we could use the last state $h_T$ to predict the topic of the whole document. Which task the RNN performs is based on the training data (of course)! We can visualize these as follows (from this [excellent blog post](http://karpathy.github.io/2015/05/21/rnn-effectiveness/) by Andrej Karpathy):\n",
        "\n",
        "<center><img src=\"http://karpathy.github.io/assets/rnn/diags.jpeg\" height=\"200px\"/></center>\n",
        "\n",
        "**QUESTIONS**\n",
        "* How are FFNs and RNNs **similar**?\n",
        "* How are they **different**?\n",
        "* Why do we call RNNs \"recurrent\"?\n",
        "* Can you think of a one-to-many task?"
      ]
    },
    {
      "cell_type": "markdown",
      "metadata": {
        "colab_type": "text",
        "id": "9wuobtH3aB59"
      },
      "source": [
        "##Modeling General Time-Series\n",
        "\n",
        "We will train an RNN to model a time-series as a first step. A **time-series** is a series of data-points ordered over discrete time-steps. Examples include the hourly temperature of Stellenbosch over a month or a year, the market price of some asset (like a company's stock) over time, and so forth. We will generate a **sinusoidal time-series** (with or without noise) as a toy example, and then train a tiny RNN model with only 5 parameters on this data."
      ]
    },
    {
      "cell_type": "markdown",
      "metadata": {
        "colab_type": "text",
        "id": "oAQIXUL-oje2"
      },
      "source": [
        "###Create some artificial data"
      ]
    },
    {
      "cell_type": "code",
      "metadata": {
        "colab_type": "code",
        "id": "412j4v-RIfYR",
        "colab": {}
      },
      "source": [
        "#@title Create sinusoidal data {run: \"auto\"}\n",
        "steps_per_cycle = 20 #@param { type: \"slider\", min:1, max:100, step:1 }\n",
        "number_of_cycles = 176 #@param { type: \"slider\", min:1, max:1000, step:1 }\n",
        "noise_factor = 0.1 #@param { type: \"slider\", min:0, max:1, step:0.1 }\n",
        "plot_num_cycles = 23 #@param { type: \"slider\", min:1, max:50, step:1 }\n",
        "\n",
        "seq_len = steps_per_cycle * number_of_cycles\n",
        "t = np.arange(seq_len)\n",
        "sin_t_noisy = np.sin(2 * np.pi / steps_per_cycle * t + noise_factor * np.random.uniform(-1.0, +1.0, seq_len))\n",
        "sin_t_clean = np.sin(2 * np.pi / steps_per_cycle * t)\n",
        "\n",
        "upto = plot_num_cycles * steps_per_cycle\n",
        "fig = plt.figure(figsize=(15,3))\n",
        "plt.plot(t[:upto], sin_t_noisy[:upto])\n",
        "plt.title(\"Showing first {} cycles.\".format(plot_num_cycles))\n",
        "plt.show()\n",
        "\n",
        "#both = np.column_stack((t, sin_t_noisy))\n",
        "#print(\"both.shape = {}\".format(both.shape))\n",
        "\n",
        "#print(\"both[:steps_per_cycle, :steps_per_cycle]\")\n",
        "#print(both[:steps_per_cycle,:steps_per_cycle])"
      ],
      "execution_count": 0,
      "outputs": []
    },
    {
      "cell_type": "markdown",
      "metadata": {
        "colab_type": "text",
        "id": "Eaypg9gKos21"
      },
      "source": [
        "**TASK**: Adjust the parameters above to generate data with different properties.\n",
        "\n",
        "Now we pack the data into train and test batches. Note that while RNNs can in theory learn the dependencies across all inputs received so far (using an algorithm called **backpropagation through time**, or BPTT; see the Aside box below), in practice they are trained using an algorithm called **truncated BPTT** where we truncate the inputs to only the last $T$ symbols (this is the `truncated_seq_len` variable below).\n",
        "\n",
        "**QUESTIONs**: \n",
        "* What issues can you think may arise by truncating the training data in this way? \n",
        "* Despite these issues, why do you think it might be necessary to do this?"
      ]
    },
    {
      "cell_type": "code",
      "metadata": {
        "cellView": "both",
        "colab_type": "code",
        "id": "RtwMLLCNorw4",
        "colab": {}
      },
      "source": [
        "#@title Pack truncated sequence data {run: \"auto\"}\n",
        "\n",
        "def pack_truncated_data(data, num_prev = 100):\n",
        "    X, Y = [], []\n",
        "    for i in range(len(data) - num_prev):\n",
        "      X.append(data[i : i + num_prev])\n",
        "      Y.append(data[i + num_prev])\n",
        "    # NOTE: Keras expects input data in the shape (batch_size, truncated_seq_len, input_dim)\n",
        "    # We have only one real-valued number per time-step, so we therefore expand\n",
        "    # the last dimension from (batch_size, truncated_seq_len) to\n",
        "    # (batch_size, truncated_seq_len, 1).\n",
        "    X, Y = np.array(X)[:,:,np.newaxis], np.array(Y)[:,np.newaxis]\n",
        "    return X, Y\n",
        "\n",
        "# We only consider this many previous data points\n",
        "truncated_seq_len = 2 #@param { type: \"slider\", min:1, max:10, step:1 }\n",
        "test_split = 0.25  # Fraction of total data to keep out as test data\n",
        "\n",
        "# We use only the sin(t) values, and discard the time values\n",
        "data = sin_t_noisy\n",
        "data_len = data.shape[0]\n",
        "num_train = int(data_len * (1 - test_split))\n",
        "\n",
        "train_data = data[:num_train]\n",
        "test_data = data[num_train:]\n",
        "\n",
        "X_train, y_train = pack_truncated_data(train_data, num_prev=truncated_seq_len)\n",
        "X_test, y_test = pack_truncated_data(test_data, num_prev=truncated_seq_len)\n",
        "\n",
        "print(\"Generated training/test data with shapes\\nX_train: {}, y_train: {}\\nX_test: {}, y_test: {}. \".format(\n",
        "    X_train.shape, y_train.shape, X_test.shape, y_test.shape))\n"
      ],
      "execution_count": 0,
      "outputs": []
    },
    {
      "cell_type": "markdown",
      "metadata": {
        "colab_type": "text",
        "id": "vgVxLBp8CaN6"
      },
      "source": [
        "**NOTE**: We reshape the training data into (batch_size, truncated_seq_len, 1) and (batch_size, 1) arrays."
      ]
    },
    {
      "cell_type": "markdown",
      "metadata": {
        "colab_type": "text",
        "id": "xiUrsPAI36M-"
      },
      "source": [
        "### Intermediate optional extra reading: (Truncated) Backpropagation-through-Time and Vanishing and Exploding Gradients"
      ]
    },
    {
      "cell_type": "markdown",
      "metadata": {
        "colab_type": "text",
        "id": "SCJlN3O11pr1"
      },
      "source": [
        "RNNs model sequential data, and are designed to capture how ***outputs*** at the current time step are influenced by the ***inputs*** that came before them. This is referred to as **long-range dependencies**. At a high level, this allows the model to remember what it has seen so far in order to better contextualize what it is seeing at the moment (think about how knowing the context of the sentence or conversation can sometimes help one to better figure out the intended meaning of a misheard word or ambiguous statement). It is what makes these models so powerful, but it is also what makes them so hard to train!\n",
        "\n",
        "The most well-known algorithm for training RNNs is called **back-propagation through time (BPTT**; there are other algorithms). BPTT conceptually amounts to unrolling the computations of the RNN over time, computing the errors, and backpropagating the gradients through the unrolled graph structure.  Ideally we want to unroll the graph up to the maximum sequence length, however in practice, since sequence lengths vary and memory is limited, we only end up unrolling sequences up to some length $T$. This is called **truncated BPTT**, and is the most used variant of BPTT.\n",
        "\n",
        "At a high level, there are two main issues when using (truncated) BPTT to train RNNs:\n",
        "\n",
        "* Having shared (\"tied\") recurrent weights ($W_{hh}$) mean that **the gradient on these weights at some time step $t$ depends on all time steps up to time-step $T$**, the length of the full (truncated) sequence. This also leads to the **vanishing/exploding gradients** problem, which we'll explain below.\n",
        "\n",
        "* **Memory usage grows linearly with the total number of steps $T$ that we unroll for**, because we need to save/cache the activations at each time-step (look at the Python code above to convince yourself of this).  This matters computationally, since memory is a limited resource. It also matters statistically, because it puts a limit on the types of dependency that the model can successfully learn, by preventing it from correcting errors that stem from an input more than $T$ steps ago.\n",
        "\n",
        "**NOTE**: Think about that last statement and make sure you understand those 2 points.\n",
        "\n",
        "BPTT is very similar to the standard back-propagation algorithm. Key to understanding the BPTT algorithm is to realize that gradients on the non-recurrent weights (weights of a per time-step classifier that tries to predict the part-of-speech tag for each word for example) and recurrent weights (that transform $h_{t-1}$ into $h_t$) are computed differently:\n",
        "\n",
        "* The gradients of **non-recurrent weights** ($W_{hy}$) depend only on the error at that time-step, $E_t$.\n",
        "* The gradients of **recurrent weights** ($W_{hh}$) depend on all previous time-steps up to maximum length $T$.\n",
        "\n",
        "The first point is fairly intuitive: predictions at time-step $t$ is related to the loss of that particular prediction. \n",
        "\n",
        "The second point will be explained in more detail in the lectures (see also [this great blog post](http://www.wildml.com/2015/10/recurrent-neural-networks-tutorial-part-3-backpropagation-through-time-and-vanishing-gradients/)), but briefly, this can be summarized in these equations:\n",
        "\n",
        "1. The **current** state is a function of the **previous** state and the current input: $h_t = \\sigma(W_{hh}h_{t-1} + W_{xh}x_t)$\n",
        "2. The gradient of the loss $E_t$ at time $t$ on $W_{hh}$ is a function of the current hidden state and model predictions $\\hat{y}_t$ at time t: \n",
        "$\\frac{\\partial E_t}{\\partial W_{hh}} = \\frac{\\partial E_t}{\\partial \\hat{y}_t}\\frac{\\partial\\hat{y}_t}{\\partial h_t}\\frac{\\partial h_t}{\\partial W_{hh}}$\n",
        "3. Substituting (1) into (2) results in a **sum over all previous time-steps**:\n",
        "$\\frac{\\partial E_t}{\\partial W_{hh}} = \\sum\\limits_{k=0}^{t} \\underbrace{\\frac{\\partial E_t}{\\partial \\hat{y}_t}\\frac{\\partial\\hat{y}_t}{\\partial h_t}\\frac{\\partial h_t}{\\partial h_k}\\frac{\\partial h_k}{\\partial W_{hh}}}_\\text{product of gradient terms}$\n",
        "\n",
        "The problem is that $\\frac{\\partial h_t}{\\partial h_k} = \\Pi_j \\frac{\\partial h_j}{\\partial h_{j-1}}$ for j from $k + 1$ to $t$.  Because of this **repeated multiplicative interaction**, as the sequence length $t$ gets longer, the gradients themselves can get diminishingly small (**vanish**) or grow too large and result in numeric overflow (**explode**). This has been shown to be related to the norms of the recurrent weight matrices being less than or equal to 1. Intuitively, it works very similar to how multiplying a small number $v<1.0$ with itself repeatedly can quickly go to zero, or conversely, a large number $v>1.0$ could quickly go to infinity; only this is for matrices.\n"
      ]
    },
    {
      "cell_type": "markdown",
      "metadata": {
        "colab_type": "text",
        "id": "-o3qjqeZpLjN"
      },
      "source": [
        "###Build a tiny RNN in Keras\n",
        "\n",
        "Building an RNN in Keras is quite simple. We simply chain the layers together as follows:"
      ]
    },
    {
      "cell_type": "code",
      "metadata": {
        "colab_type": "code",
        "id": "mEobTD6spOWx",
        "colab": {}
      },
      "source": [
        "def define_model(truncated_seq_len):\n",
        "\n",
        "    input_dimension = 1\n",
        "    hidden_dimension = 1\n",
        "    output_dimension = 1\n",
        "\n",
        "    model = tf.keras.models.Sequential()\n",
        "    model.add(tf.keras.layers.SimpleRNN(\n",
        "        # We need to specify the input_shape *without* leading batch_size (it is inferred)\n",
        "        input_shape=(truncated_seq_len, input_dimension),\n",
        "        units=hidden_dimension,\n",
        "        return_sequences=False,\n",
        "        name='hidden_layer'))\n",
        "    model.add(tf.keras.layers.Dense(\n",
        "        output_dimension,\n",
        "        name='output_layer'))\n",
        "\n",
        "    model.compile(loss=\"mean_squared_error\",\n",
        "                  optimizer=tf.compat.v1.train.AdamOptimizer(learning_rate=1e-3))\n",
        "\n",
        "    return model\n"
      ],
      "execution_count": 0,
      "outputs": []
    },
    {
      "cell_type": "markdown",
      "metadata": {
        "colab_type": "text",
        "id": "JHRscZaQze26"
      },
      "source": [
        "**NOTE**: We're building an RNN for **regression**. We therefore use a linear layer (which outputs real-valued numbers) at the output with the \"*mean_squared_error*\" loss function."
      ]
    },
    {
      "cell_type": "code",
      "metadata": {
        "colab_type": "code",
        "id": "ONvBy4AopTrF",
        "colab": {}
      },
      "source": [
        "model = define_model(truncated_seq_len = X_train.shape[1])\n",
        "model.summary()"
      ],
      "execution_count": 0,
      "outputs": []
    },
    {
      "cell_type": "markdown",
      "metadata": {
        "colab_type": "text",
        "id": "ddb6_04dfZvn"
      },
      "source": [
        "**NOTE**: You need to re-run the above cell every time after training to reset the model weights!"
      ]
    },
    {
      "cell_type": "markdown",
      "metadata": {
        "colab_type": "text",
        "id": "hD94X5iQc8Jg"
      },
      "source": [
        "###Train the tiny RNN\n",
        "Now let's train the model. This may take a few minutes (it takes much longer if you increase `truncated_seq_len`). Set `verbose=1` **before** you run the cell to see the intermediate output as the model is training. Set it to 0 if you don't want any output."
      ]
    },
    {
      "cell_type": "code",
      "metadata": {
        "colab_type": "code",
        "id": "xvahCyhk7Wvr",
        "colab": {}
      },
      "source": [
        "''' SOLUTION TO ONE OF TASKS [DELETE]\n",
        "patience = 5\n",
        "train_history = model.fit(X_train, y_train, batch_size=600, epochs=1000,\n",
        "                          verbose=1, validation_split=0.05,\n",
        "                          callbacks=[tf.keras.callbacks.EarlyStopping(monitor='val_loss', patience=patience, verbose=1)])\n",
        "'''"
      ],
      "execution_count": 0,
      "outputs": []
    },
    {
      "cell_type": "code",
      "metadata": {
        "colab_type": "code",
        "id": "xumvRz2lrPus",
        "colab": {}
      },
      "source": [
        "train_history = model.fit(X_train, y_train, batch_size=600, epochs=1000,\n",
        "                          verbose=1, validation_split=0.05)"
      ],
      "execution_count": 0,
      "outputs": []
    },
    {
      "cell_type": "markdown",
      "metadata": {
        "colab_type": "text",
        "id": "CebcKzSW_g6P"
      },
      "source": [
        "Let's visualize the training and validation losses."
      ]
    },
    {
      "cell_type": "code",
      "metadata": {
        "colab_type": "code",
        "id": "U9G1OHXoroBs",
        "colab": {}
      },
      "source": [
        "plt.figure(figsize=(15,5))\n",
        "\n",
        "for label in [\"loss\",\"val_loss\"]:\n",
        "    plt.plot(train_history.history[label], label=label)\n",
        "\n",
        "plt.ylabel(\"loss\")\n",
        "plt.xlabel(\"epoch\")\n",
        "plt.title(\"The final validation loss: {}\".format(train_history.history[\"val_loss\"][-1]))\n",
        "plt.legend()\n",
        "plt.show()"
      ],
      "execution_count": 0,
      "outputs": []
    },
    {
      "cell_type": "markdown",
      "metadata": {
        "colab_type": "text",
        "id": "Rs_-XnYhKl_N"
      },
      "source": [
        "Finally, let's look at the parameters for the trained model."
      ]
    },
    {
      "cell_type": "code",
      "metadata": {
        "colab_type": "code",
        "id": "q4gtwBT7Kgh0",
        "colab": {}
      },
      "source": [
        "for layer in model.layers:\n",
        "  print(\"{}, {}\".format(layer.name, layer.get_weights()))"
      ],
      "execution_count": 0,
      "outputs": []
    },
    {
      "cell_type": "markdown",
      "metadata": {
        "colab_type": "text",
        "id": "bqFBu_dCsUqi"
      },
      "source": [
        "**QUESTION**: \n",
        "* Relate the above weights to the terms in the equation for the vanilla RNN we saw earlier, namely:\n",
        "  * input-to-hidden $W_{xh}$,\n",
        "  * hidden-to-hidden $W_{hh}$,\n",
        "  * hidden-to-output weights $W_{hy}$\n",
        "  * recurrent and out biases."
      ]
    },
    {
      "cell_type": "markdown",
      "metadata": {
        "colab_type": "text",
        "id": "0FHaN-VXfxEl"
      },
      "source": [
        "###Make predictions using the trained model"
      ]
    },
    {
      "cell_type": "code",
      "metadata": {
        "colab_type": "code",
        "id": "IQl_msx-4o3E",
        "colab": {}
      },
      "source": [
        "y_pred = model.predict(X_test[:100])\n",
        "plt.figure(figsize=(19,3))\n",
        "\n",
        "plt.plot(y_test[:100], label=\"true\")\n",
        "plt.plot(y_pred, label=\"predicted\")\n",
        "plt.legend()\n",
        "plt.show()"
      ],
      "execution_count": 0,
      "outputs": []
    },
    {
      "cell_type": "markdown",
      "metadata": {
        "colab_type": "text",
        "id": "MQj5P-FKOgqG"
      },
      "source": [
        "**YOUR TASKS**: \n",
        "* [**ALL**] Change the learning rate up to 5 orders of magnitude larger and smaller and retrain. What happens when it is too large? What happens when it is too small?\n",
        "* [**ALL**] Change the `SimpleRNN` to `GRU`.\n",
        "  * You can read more about LSTMs in [this blog post](https://colah.github.io/posts/2015-08-Understanding-LSTMs/) by Chris Olah. \n",
        "  * What is the effect on the number of parameters? Can you explain why? Now do the same for `LSTM`.\n",
        "* [**INTERMEDIATE**] Note that the loss does not decrease much after around epoch 400. Add \"Early Stopping with patience\" to the `model.fit()` function to stop it from training beyond this point. **Hint**: Look at tf.keras.callbacks.\n",
        "  * *Early stopping* is a technique where we stop training the model once it's performance on validation data stops improving, and is a very common approach to prevent overfitting. Early stopping *with patience* means as soon as the model starts doing worse on validation we wait for at least `patience` more evaluations before stopping training, and if it improves within that time, we reset the counter. The patience parameter is a way to ensure we don't stop by accident, as the validation loss can fluctuate randomly from epoch to epoch.\n"
      ]
    },
    {
      "cell_type": "markdown",
      "metadata": {
        "colab_type": "text",
        "id": "_totIpxmZ8_v"
      },
      "source": [
        "##Generating Shakespeare\n",
        "\n",
        "Now let's build an RNN language model to generate Shakespearian English! A language model is trained to assign high probabilities to sequences of words or sentences that are well formed, and low probabilities to sequences which are not realistic. When the model is trained, one can use it to *generate* data that is similar to the training data.\n",
        "\n",
        "Our data is now sequences of discrete symbols (characters). But neural networks operate in continuous spaces, and so we need to take the discrete language data, and **embed** it in a continuous space. To do this, we'll simply break up the data into sequences of characters, and represent each character using a learned vector. This is a standard trick for processing text using neural networks. "
      ]
    },
    {
      "cell_type": "markdown",
      "metadata": {
        "colab_type": "text",
        "id": "9dFQtnDLZa3c"
      },
      "source": [
        "### Download and Preprocess the Data"
      ]
    },
    {
      "cell_type": "markdown",
      "metadata": {
        "colab_type": "text",
        "id": "Tmmjc-EigwCw"
      },
      "source": [
        "We first download the data and examine what it looks like:"
      ]
    },
    {
      "cell_type": "code",
      "metadata": {
        "colab_type": "code",
        "id": "hybIopOLPD4f",
        "colab": {}
      },
      "source": [
        "context = ssl._create_unverified_context()\n",
        "shakespeare_url = 'https://cs.stanford.edu/people/karpathy/char-rnn/shakespeare_input.txt'\n",
        "\n",
        "data = urllib.request.urlopen(shakespeare_url, context=context)\n",
        "all_text = data.read().lower().decode('utf8')\n",
        "\n",
        "print(\"Downloaded Shakespeare data with {} characters.\".format(len(all_text)))\n",
        "print(\"FIRST 1000 CHARACTERS: \")\n",
        "print(all_text[:1000])"
      ],
      "execution_count": 0,
      "outputs": []
    },
    {
      "cell_type": "code",
      "metadata": {
        "colab_type": "code",
        "id": "jIuagNcdQLqM",
        "colab": {}
      },
      "source": [
        "training_text = all_text[:1000000] # Keep only the first 1 million characters"
      ],
      "execution_count": 0,
      "outputs": []
    },
    {
      "cell_type": "markdown",
      "metadata": {
        "colab_type": "text",
        "id": "UK1x69AngvLJ"
      },
      "source": [
        "We now preprocess the text data as follows:\n",
        "\n",
        "1. Extract the vocabulary of all `vocab_size` unique characters appearing in the data.\n",
        "\n",
        "2. Assign each character a unique integer id in `0 <= id < vocab_size`. This is so we can map the characters to unique embedding vectors. This is a common way to map discrete inputs to continuous vectors that neural networks can work with. See e.g. this [blog post](https://www.tensorflow.org/tutorials/representation/word2vec), or [this one](http://ruder.io/word-embeddings-1/) for more information.\n",
        "\n",
        "3. Split the data into sequences (\"windows\") of `max_len` characters (the input to the model) followed by the next character as target. E.g. using `max_len=5` the sentence \"I saw a cat\" (11 characters) will get split into \"I saw\" and /space/, \"/space/saw/space/\" and \"a\", \"saw a\" and /space/, etc. To add some variation, we skip `step` characters between each sequence (i.e. we use a \"sliding window of `max_len` with stride `step`\")."
      ]
    },
    {
      "cell_type": "code",
      "metadata": {
        "colab_type": "code",
        "id": "zPvsNXKZPJKz",
        "colab": {}
      },
      "source": [
        "max_len = 30  # We only consider this many previous data points (characters)\n",
        "step = 3 # We start a new training sequence every `step` characters\n",
        "sentences = [] # This holds our extracted sequences\n",
        "next_chars = [] # This holds the targets (the follow-up characters)\n",
        "\n",
        "chars = sorted(list(set(training_text)))  # List of unique characters in the corpus\n",
        "vocab_size = len(chars)\n",
        "print('Number of unique characters: ', vocab_size)\n",
        "print(chars)\n",
        "\n",
        "# Construct dictionaries mapping unique characters to their index in `chars` and reverse\n",
        "char2index = dict((c, chars.index(c)) for c in chars)\n",
        "index2char = dict((chars.index(c), c) for c in chars)"
      ],
      "execution_count": 0,
      "outputs": []
    },
    {
      "cell_type": "markdown",
      "metadata": {
        "colab_type": "text",
        "id": "O2PhcQwrc2JX"
      },
      "source": [
        "Now we encode the training data by mapping each character to its unique integer id."
      ]
    },
    {
      "cell_type": "code",
      "metadata": {
        "colab_type": "code",
        "id": "xY0qXZmVq8kW",
        "colab": {}
      },
      "source": [
        "for i in range(0, len(training_text) - max_len, step):\n",
        "    sentences.append([char2index[s] for s in training_text[i: i + max_len]])\n",
        "    next_chars.append([char2index[training_text[i + max_len]]])\n",
        "\n",
        "print('Number of extracted sequences:', len(sentences))"
      ],
      "execution_count": 0,
      "outputs": []
    },
    {
      "cell_type": "markdown",
      "metadata": {
        "colab_type": "text",
        "id": "PsZy6Kshc-Sp"
      },
      "source": [
        "This yields the following numpy arrays:"
      ]
    },
    {
      "cell_type": "code",
      "metadata": {
        "colab_type": "code",
        "id": "vhgSaP5ntDtq",
        "colab": {}
      },
      "source": [
        "X, Y = np.array(sentences, dtype=np.int64), np.array(next_chars, dtype=np.int64)\n",
        "X.shape, Y.shape"
      ],
      "execution_count": 0,
      "outputs": []
    },
    {
      "cell_type": "markdown",
      "metadata": {
        "colab_type": "text",
        "id": "sBR2LsXjmqTU"
      },
      "source": [
        "Let's take a look at the first example."
      ]
    },
    {
      "cell_type": "code",
      "metadata": {
        "colab_type": "code",
        "id": "2H1jobcrmwK7",
        "colab": {}
      },
      "source": [
        "print(\"X[0].shape = {}, Y[0].shape = {}\".format(X[0].shape, Y[0].shape))\n",
        "print(\"X[0]: \", X[0])\n",
        "print(\"Y[0]: \", Y[0])"
      ],
      "execution_count": 0,
      "outputs": []
    },
    {
      "cell_type": "markdown",
      "metadata": {
        "colab_type": "text",
        "id": "tEQWEZlSZgpF"
      },
      "source": [
        "###Build an RNN language model"
      ]
    },
    {
      "cell_type": "markdown",
      "metadata": {
        "colab_type": "text",
        "id": "rCysOLWadPHF"
      },
      "source": [
        "A **language model** estimates a probability distribution over sequences $\\mathbb{x}_{1:N} = (x_1, x_2, ..., x_N)$ by breaking up the full joint probability into a sequence of conditional probabilities using the **[chain-rule of probability](https://en.wikipedia.org/wiki/Chain_rule_(probability))**:\n",
        "\n",
        "\\begin{align}\n",
        " p(\\mathbb{x}_{1:N}) &= p(x_1) \\cdot p(x_2 | x_1) \\cdot p(x_3 | x_2, x_1) \\ldots \\\\\n",
        " &= \\Pi_1^N p(x_i | \\mathbb{x}_{1:i-1})\n",
        "\\end{align}\n",
        "\n",
        "In other words, to model the probability of the phrase \"*i saw a cat*\" at the character level, the model learns to estimate the probabilities for p(i), p(/space/| i), p(c | i, /space/), and so forth, and multiplies them together. \n",
        "\n",
        "There are many different ways in which to estimate these individual probabilities. But one particularly effective way is to use an RNN! To do this, we'll therefore be modeling the  $p(x_i | \\mathbb{x}_{1:i-1})$ terms using an RNN conditioned on $\\mathbb{x}_{1:i-1}$.\n",
        "\n",
        "* We model these probabilities at the character-level, so we'll use an `Embedding` layer as the first layer of our model to map the discrete character id's to real-valued embedding vectors. \n",
        "* Next, the RNN-core will map these sequences of character embeddings to a probability distribution over all characters $p(x_i | \\mathbb{x}_{1:i-1}) \\in \\mathbb{R}^\\textrm{vocab_size}$ at every step of the sequence. To do this, the RNN will map the embeddings to a sequence of *hidden states*. We will then use a `Dense` layer to map from the RNN hidden state to an output distribution over the total number of characters using a [`softmax`](https://en.wikipedia.org/wiki/Softmax_function) activation.\n",
        "\n",
        "We can do this with a few lines of code:"
      ]
    },
    {
      "cell_type": "code",
      "metadata": {
        "colab_type": "code",
        "id": "k8AxhQuePOCN",
        "colab": {}
      },
      "source": [
        "embedding_dim = 32   # Map each character to a unique vector of this dimension\n",
        "vocab_size = len(chars)\n",
        "\n",
        "model = tf.keras.models.Sequential()\n",
        "model.add(tf.keras.layers.Embedding(\n",
        "  vocab_size, embedding_dim,\n",
        "  input_length=max_len,\n",
        "  embeddings_initializer=tf.keras.initializers.TruncatedNormal))\n",
        "model.add(tf.keras.layers.LSTM(\n",
        "  128,\n",
        "  input_shape=(max_len, embedding_dim),  # NB: Ensure this matches the embedding_dim!\n",
        "  dropout=0.1,  # input-to-hidden drop-probability\n",
        "  recurrent_dropout=0.2))  # hidden-to-hidden drop-probability\n",
        "model.add(tf.keras.layers.Dense(vocab_size, activation='softmax'))\n",
        "\n",
        "model.summary()"
      ],
      "execution_count": 0,
      "outputs": []
    },
    {
      "cell_type": "markdown",
      "metadata": {
        "colab_type": "text",
        "id": "RHOWm55whZUt"
      },
      "source": [
        "Once we have a model that can map sequence of characters to a probability distribution over the next character in the sequence, we can train it using **maximum likelihood** on the training set to find the model parameters which maximizes the probability of the training data. Again, this is very simple to do by choosing an optimizer and selecting the `sparse_categorical_crossentropy` loss function:"
      ]
    },
    {
      "cell_type": "code",
      "metadata": {
        "colab_type": "code",
        "id": "hKJNZXs7PSW-",
        "colab": {}
      },
      "source": [
        "optimizer = tf.keras.optimizers.Adam()\n",
        "loss='sparse_categorical_crossentropy'\n",
        "\n",
        "model.compile(loss=loss, optimizer=optimizer)"
      ],
      "execution_count": 0,
      "outputs": []
    },
    {
      "cell_type": "markdown",
      "metadata": {
        "colab_type": "text",
        "id": "vc8jIbIL7XsY"
      },
      "source": [
        "### Optional extra reading: RNN vs GRU vs LSTM"
      ]
    },
    {
      "cell_type": "markdown",
      "metadata": {
        "id": "Xo8liyGpnB1J",
        "colab_type": "text"
      },
      "source": [
        "Our language model above is using an RNN variant called the LSTM (long short-term memory). The LSTM solves a big problem with the vanilla RNN: vanishing and exploding gradients. It does this by allowing gradients to flow backwards through the layer unimpeded. As a result, the LSTM is very popular for sequence tasks. The key to the success of the LSTM is that it maintains an internal **cell state** ($\\mathbf{c}_t$) which can be thought of as a 'memory' for the LSTM. The cell state provides the path along which the gradients can easily flow. The LSTM can control the contents of the cell state using three **gates**:\n",
        "\n",
        "* The **forget** gate allows the LSTM to remove contents from the cell state.\n",
        "* The **input** and **memory** gates control what information is added to the cell state from the input data.\n",
        "\n",
        "Finally, an **output** gate controls which part of the cell state we output at each time step.\n",
        "\n",
        "A somewhat simplified version of the LSTM is the GRU (gated recurrent unit), which has also been used successfully in many applications and has only three gates. \n",
        "\n",
        "Looking at the diagrams below, which show the vanilla RNN, LSTM, and GRU, respectively, work with your partner to try to understand the description above and then answer the following **questions:**\n",
        "\n",
        "1. What does each of the gates in the GRU do?\n",
        "\n",
        "2. How does the GRU address the vanishing/exploding gradients problem? In other words, how does it allow the gradient to pass through unimpeded?\n",
        "\n",
        "If you get stuck or want to know more, you can read more about the LSTM, GRU, and other variants [here](http://colah.github.io/posts/2015-08-Understanding-LSTMs/)."
      ]
    },
    {
      "cell_type": "markdown",
      "metadata": {
        "id": "gOxX9XGKnlbd",
        "colab_type": "text"
      },
      "source": [
        "<center><img src=\"data:image/png;base64,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\"\n",
        "height=\"100\"></center>"
      ]
    },
    {
      "cell_type": "markdown",
      "metadata": {
        "id": "NcL8xU14nwPS",
        "colab_type": "text"
      },
      "source": [
        "<center><img src=\"data:image/png;base64,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\"\n",
        "height=\"250\"></center>"
      ]
    },
    {
      "cell_type": "markdown",
      "metadata": {
        "id": "0APbFlGen_Fn",
        "colab_type": "text"
      },
      "source": [
        "<center><img src=\"data:image/png;base64,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\"\n",
        "height=\"250\"></center>"
      ]
    },
    {
      "cell_type": "markdown",
      "metadata": {
        "colab_type": "text",
        "id": "dEr9hEqFiGx6"
      },
      "source": [
        "###Helper functions"
      ]
    },
    {
      "cell_type": "code",
      "metadata": {
        "colab_type": "code",
        "id": "3zXa95pBPUw3",
        "colab": {}
      },
      "source": [
        "def sample_with_temp(preds, temperature=1.0):\n",
        "  preds = np.asarray(preds).astype('float64')\n",
        "  preds = np.log(preds) / temperature\n",
        "  exp_preds = np.exp(preds)\n",
        "  preds = exp_preds / np.sum(exp_preds)\n",
        "  probas = np.random.multinomial(1, preds, 1)\n",
        "  return np.argmax(probas)"
      ],
      "execution_count": 0,
      "outputs": []
    },
    {
      "cell_type": "code",
      "metadata": {
        "colab_type": "code",
        "id": "AyH6U3er5fis",
        "colab": {}
      },
      "source": [
        "def shift_and_append(test_arr, next_item):\n",
        "  '''Returns a copy of test_arr with items shifted one position to the left and\n",
        "     next_item appended.\n",
        "  '''\n",
        "  tmp = np.empty_like(test_arr)\n",
        "  tmp[:,:-1] = test_arr[:,1:]\n",
        "  tmp[:,-1] = next_item\n",
        "  return tmp\n",
        "\n",
        "## TEST the above function:\n",
        "test_arr = np.array([[1,2,3,4]])\n",
        "\n",
        "print(\"test_arr = {}\".format(test_arr))\n",
        "test_arr = shift_and_append(test_arr, 5)\n",
        "print(\"roll_arr(test_arr, 5) = {}\".format(test_arr))"
      ],
      "execution_count": 0,
      "outputs": []
    },
    {
      "cell_type": "code",
      "metadata": {
        "colab_type": "code",
        "id": "q9le2p0YxeYD",
        "colab": {}
      },
      "source": [
        "def sample_from_model(model,\n",
        "                      num_generate=400,\n",
        "                      prev_text=None,  # the text used to condition the model\n",
        "                      temperatures=[0.2, 0.5, 1.0, 1.2]):\n",
        "\n",
        "    if not prev_text:\n",
        "      # Select a text seed at random\n",
        "      start_index = random.randint(0, len(training_text) - max_len - 1)\n",
        "      while ((start_index < (len(training_text) - max_len - 1)) and (\n",
        "        training_text[start_index - 1] is not ' ')):\n",
        "        start_index += 1  # Advance to beginning of new word\n",
        "      prev_text = training_text[start_index: start_index + max_len]\n",
        "\n",
        "    if len(prev_text) != max_len:\n",
        "      print(\"`prev_text` must be of length `max_len`.\")\n",
        "      return\n",
        "\n",
        "    print('GENERATING TEXT WITH SEED: \\n\"' + prev_text + '\"')\n",
        "    prev_text_arr = np.array(\n",
        "      [[char2index[c] for c in prev_text]], dtype=np.int64)\n",
        "\n",
        "    for temp in temperatures:\n",
        "        print('==TEMPERATURE:', temp)\n",
        "        sys.stdout.write(prev_text)\n",
        "\n",
        "        # Start with the same sampled text for all temperatures\n",
        "        generated_text = prev_text\n",
        "        generated_text_arr = prev_text_arr\n",
        "\n",
        "        # Now generate this many characters\n",
        "        for i in range(num_generate):\n",
        "\n",
        "            # Get the output softmax given the conditioning text\n",
        "            #prev_text = generated_text_enc[np.newaxis,:]\n",
        "            preds = model.predict(generated_text_arr, verbose=0)[0]\n",
        "\n",
        "            next_index = sample_with_temp(preds, temp)\n",
        "            next_char = index2char[next_index]\n",
        "            generated_text += next_char\n",
        "            generated_text = generated_text[1:]\n",
        "\n",
        "            # Left-shift and add into encoded array\n",
        "            generated_text_arr = shift_and_append(generated_text_arr, next_index)\n",
        "\n",
        "            sys.stdout.write(next_char)\n",
        "            sys.stdout.flush()\n",
        "        print()"
      ],
      "execution_count": 0,
      "outputs": []
    },
    {
      "cell_type": "markdown",
      "metadata": {
        "colab_type": "text",
        "id": "a78CrsaMiKrA"
      },
      "source": [
        "###Train the model\n",
        "\n",
        "Let's train the model! The code below will train the model on a subset of the available data, and then generate from the model every `sample_every` number of batches.\n",
        "\n",
        "To generate from the model, we use `model.predict()` on a sequence of `max_len` conditioning characters to produce an output distribution over `vocab_size` characters. We then sample one character from this distribution and shift everything up by one and append the new characters. By repeating this, we can generate text from the (partially-trained) model.\n",
        "\n",
        "**NOTE**: \n",
        "* It takes a while to train a model that starts generating anything resembling the Shapespeare text! In general it should start getting the rough structure in place around the 100K training example mark (examples, not batches). But to generate any meaningful words will need several hundred thousand examples.\n",
        "* We sample with *temperature*. This is a way to sharpen or flatten the probabilities produced by the model. By lowering the temperature, we emphasize the modes of the predicted distribution, and by increasing the temperature, we flatten the modes (tends towards uniform). Higher temperatures therefore encourage the model to be more 'creative', instead of always choosing the most likely next character."
      ]
    },
    {
      "cell_type": "code",
      "metadata": {
        "colab_type": "code",
        "id": "0RcFKgkdPXuI",
        "colab": {}
      },
      "source": [
        "batch_size = 128\n",
        "total_num_batches = X.shape[0] // batch_size\n",
        "sample_every = 256  # Train on this many batches, then generate something\n",
        "\n",
        "print(\"Training on {} batches in total.\".format(total_num_batches))\n",
        "\n",
        "for cur_batch in range(0, total_num_batches, sample_every):\n",
        "    print('TRAINING ON BATCH {} to {} (example {} to {})'.format(\n",
        "      cur_batch, cur_batch + sample_every,\n",
        "      cur_batch * batch_size, (cur_batch + sample_every) * batch_size)\n",
        "    )\n",
        "\n",
        "    X_batch = X[batch_size * cur_batch : batch_size * (cur_batch + sample_every), :]\n",
        "    Y_batch = Y[batch_size * cur_batch : batch_size * (cur_batch + sample_every), :]\n",
        "\n",
        "    '''\n",
        "    # Show the first 5 examples to make sure we're not training on garbage\n",
        "    print(\"X_batch.shape = {}\".format(X_batch.shape))\n",
        "    print(\"Y_batch.shape = {}\".format(Y_batch.shape))\n",
        "    print(\"FIRST 5 EXAMPLES:\")\n",
        "    for num in range(5):\n",
        "      in_seq = [index2char[int(indx)] for indx in np.nditer(X_batch[num, :])]\n",
        "      next_char = index2char[Y_batch[num, 0]]\n",
        "      print(str(num) + '. ' + ''.join(in_seq) + '-->' + next_char)\n",
        "    '''\n",
        "\n",
        "    model.fit(X_batch, Y_batch,\n",
        "              batch_size=batch_size,\n",
        "              epochs=1,\n",
        "              verbose=1)\n",
        "\n",
        "    print(\"GENERATING SOME RANDOM TEXT FROM THE MODEL\")\n",
        "    sample_from_model(model)"
      ],
      "execution_count": 0,
      "outputs": []
    },
    {
      "cell_type": "markdown",
      "metadata": {
        "colab_type": "text",
        "id": "w3C-AIU18HFe"
      },
      "source": [
        "**NOTE**: Even after training has stopped you can still generate from the (partially trained) model as follows:"
      ]
    },
    {
      "cell_type": "code",
      "metadata": {
        "colab_type": "code",
        "id": "7HR4JXD3ZnX0",
        "colab": {}
      },
      "source": [
        "my_text = \"       the meaning of life is:\"  # Needs to be max_len characters\n",
        "print(len(my_text))\n",
        "sample_from_model(model, prev_text=my_text)"
      ],
      "execution_count": 0,
      "outputs": []
    },
    {
      "cell_type": "markdown",
      "metadata": {
        "colab_type": "text",
        "id": "UbdLbn_xRe21"
      },
      "source": [
        "###IMPORTANT NOTES\n",
        "* Even if you stop training the model weights are persistant. If you resume training it will start where you left off. \n",
        "* To reset the weights, you need to recompile the model.\n",
        "* Sampling is **stochastic** (random), so you'll get new outputs every time you rerun the sampling code.\n",
        "\n",
        "### YOUR TASKS: \n",
        "* [**ALL**] Read the generations from your model in a funny voice to your neighbour.\n",
        "* [**ALL**] Increase `max_len` and regenerate the data and retrain the model.\n",
        " * What's the effect on training speed as you double `max_len`. Can you explain why?\n",
        " * Do you notice any effect on the quality of the model? Can you explain why?\n",
        "* [**ALL**] Set the max_len to be roughly the length of half a word; one word; two words... What kind of samples do these models generate? Explain how they go wrong.\n",
        "* [**ALL**] Change `embedding_dim` and the hidden size of the LSTM and observe the effect on training speed and quality.\n",
        "* [**INTERMEDIATE**] Change the dropout rates & retrain the model. \n",
        "  * What types of dropout do we get for recurrent models? \n",
        "  * What's the effect on the text quality?\n",
        "* [**ADVANCED**] Implement the \"teacher forcing\" training methodology, where the net must predict the entire output sequence shifted forward by one character, instead of just the next character. Compare the output of a model trained with teacher forcing versus the per-character model, given a similar training time. Is it fair to say that teacher forcing is a more efficient training methodology?\n"
      ]
    },
    {
      "cell_type": "markdown",
      "metadata": {
        "id": "TPiFyajJtDmj",
        "colab_type": "text"
      },
      "source": [
        "**IMPORTANT: Please fill out the exit ticket form before you leave the practical: https://forms.gle/vkLk6hHCwNrNsb8u6**"
      ]
    },
    {
      "cell_type": "markdown",
      "metadata": {
        "colab_type": "text",
        "id": "REZzoUwjHkZW"
      },
      "source": [
        "##Further reading\n",
        "\n",
        "* https://distill.pub/2016/augmented-rnns/\n",
        "* https://distill.pub/2017/ctc/\n",
        "* https://algotravelling.com/en/machine-learning-fun-part-5/\n",
        "* http://www.wildml.com/2015/09/recurrent-neural-networks-tutorial-part-1-introduction-to-rnns/"
      ]
    }
  ]
}