{
  "nbformat": 4,
  "nbformat_minor": 0,
  "metadata": {
    "colab": {
      "name": "Some_EDA.ipynb",
      "provenance": [],
      "authorship_tag": "ABX9TyN+lUec7eEa7iI1Du96xH4/",
      "include_colab_link": true
    },
    "kernelspec": {
      "name": "python3",
      "display_name": "Python 3"
    },
    "language_info": {
      "name": "python"
    }
  },
  "cells": [
    {
      "cell_type": "markdown",
      "metadata": {
        "id": "view-in-github",
        "colab_type": "text"
      },
      "source": [
        "<a href=\"https://colab.research.google.com/github/Aboubacar2012/ML_Project/blob/main/Some_EDA.ipynb\" target=\"_parent\"><img src=\"https://colab.research.google.com/assets/colab-badge.svg\" alt=\"Open In Colab\"/></a>"
      ]
    },
    {
      "cell_type": "code",
      "metadata": {
        "id": "T5H3mLOdcmM7"
      },
      "source": [
        "import matplotlib.pyplot as plt \n",
        "plt.style.use('ggplot')"
      ],
      "execution_count": 2,
      "outputs": []
    },
    {
      "cell_type": "code",
      "metadata": {
        "id": "Wlax7GpUcx2F"
      },
      "source": [
        "# Finf the median price by the interest level\n",
        "prices=df.groupby('interest_level', as_index=False)['price'].median()"
      ],
      "execution_count": null,
      "outputs": []
    },
    {
      "cell_type": "code",
      "metadata": {
        "id": "i4dwaeZ0dF-0"
      },
      "source": [
        "# Draw a barplot \n",
        "fig=plt.figure(figsize=(7,5))\n",
        "plt.bar(prices.interest_level, prices.price, width=0.5, alpha=0.8)\n",
        "# Set titles \n",
        "plt.xlabel('Interest level')\n",
        "plt.ylabel('Median price')\n",
        "plt.title('Median listing price across interest level')\n",
        "show()"
      ],
      "execution_count": null,
      "outputs": []
    },
    {
      "cell_type": "code",
      "metadata": {
        "id": "ZTzODAtWeykS"
      },
      "source": [
        "# Calculate the ride distance\n",
        "train['distance_km'] = haversine_distance(train)\n",
        "\n",
        "# Draw a scatterplot\n",
        "plt.scatter(x=train['fare_amount'], y=train['distance_km'], alpha=0.5)\n",
        "plt.xlabel('Fare amount')\n",
        "plt.ylabel('Distance, km')\n",
        "plt.title('Fare amount based on the distance')\n",
        "\n",
        "# Limit on the distance\n",
        "plt.ylim(0, 50)\n",
        "plt.show()"
      ],
      "execution_count": null,
      "outputs": []
    },
    {
      "cell_type": "code",
      "metadata": {
        "id": "ee0MALb-hY8X"
      },
      "source": [
        "# Create hour feature\n",
        "train['pickup_datetime'] = pd.to_datetime(train.pickup_datetime)\n",
        "train['hour'] = train.pickup_datetime.dt.hour\n",
        "\n",
        "# Find median fare_amount for each hour\n",
        "hour_price = train.groupby('hour', as_index=False)['fare_amount'].median()\n",
        "\n",
        "# Plot the line plot\n",
        "plt.plot(hour_price['hour'], hour_price['fare_amount'], marker='o')\n",
        "plt.xlabel('Hour of the day')\n",
        "plt.ylabel('Median fare amount')\n",
        "plt.title('Fare amount based on day time')\n",
        "plt.xticks(range(24))\n",
        "plt.show()"
      ],
      "execution_count": null,
      "outputs": []
    },
    {
      "cell_type": "code",
      "metadata": {
        "id": "PHTUAhK4k1Lo"
      },
      "source": [
        "# Local validation \n",
        "#Import KFold \n",
        "from sklearn.model_selection import KFold\n",
        "#Create a KFold object \n",
        "kf=KFold(n_splits=5, shuffle=True, random_state=123)\n",
        "#Loop through each cross-validation split \n",
        "for train_index, test_index in kf.split(train):\n",
        "  #Get training and testing data for the corresponding split \n",
        "  cv_train, cv_test=train.iloc[train_index], train.iloc[test_index]"
      ],
      "execution_count": null,
      "outputs": []
    },
    {
      "cell_type": "code",
      "metadata": {
        "id": "v9aI5jmpl3-P"
      },
      "source": [
        "# Stratified K-fold\n",
        "# Import StratifiedKfold \n",
        "from sklearn.model_selection import StratifiedKFold\n",
        "#Create a stratifiedKFold object\n",
        "str_kf=StratifiedKFold(n_splits=5, shuffle=True, random_state=123)\n",
        "# Loop through each cross-validation split\n",
        "for train_index, test_index in str_kf.split(train, train['target']):\n",
        "  cv_train, cv_test=train.iloc[train_index], train.iloc[test_index]"
      ],
      "execution_count": null,
      "outputs": []
    },
    {
      "cell_type": "markdown",
      "metadata": {
        "id": "1DZCRYrmm5in"
      },
      "source": [
        "# K-fold cross-validation\n",
        "You will start by getting hands-on experience in the most commonly used K-fold cross-validation.\n",
        "\n",
        "The data you'll be working with is from the \"Two sigma connect: rental listing inquiries\" Kaggle competition. The competition problem is a multi-class classification of the rental listings into 3 classes: low interest, medium interest and high interest. For faster performance, you will work with a subsample consisting of 1,000 observations.\n",
        "\n",
        "You need to implement a K-fold validation strategy and look at the sizes of each fold obtained. train DataFrame is already available in your workspace."
      ]
    },
    {
      "cell_type": "markdown",
      "metadata": {
        "id": "Z1TAS6vSnDFH"
      },
      "source": [
        "-Create a KFold object with 3 folds.\n",
        "-Loop over each split using the kf object.\n",
        "-For each split select training and testing folds using train_index and test_index."
      ]
    },
    {
      "cell_type": "code",
      "metadata": {
        "id": "u2_egHHom_3n"
      },
      "source": [
        "# Import KFold\n",
        "from sklearn.model_selection import KFold\n",
        "\n",
        "# Create a KFold object\n",
        "kf = KFold(n_splits=3, shuffle=True, random_state=123)\n",
        "\n",
        "# Loop through each split\n",
        "fold = 0\n",
        "for train_index, test_index in kf.split(train):\n",
        "    # Obtain training and testing folds\n",
        "    cv_train, cv_test = train.iloc[train_index], train.iloc[test_index]\n",
        "    print('Fold: {}'.format(fold))\n",
        "    print('CV train shape: {}'.format(cv_train.shape))\n",
        "    print('Medium interest listings in CV train: {}\\n'.format(sum(cv_train.interest_level == 'medium')))\n",
        "    fold += 1"
      ],
      "execution_count": null,
      "outputs": []
    },
    {
      "cell_type": "markdown",
      "metadata": {
        "id": "l6POrRzNrijZ"
      },
      "source": [
        "Import StratifiedKFold"
      ]
    },
    {
      "cell_type": "code",
      "metadata": {
        "id": "mutgn58LoMI9"
      },
      "source": [
        "# Import StratifiedKFold\n",
        "from sklearn.model_selection import StratifiedKFold\n",
        "\n",
        "# Create a StratifiedKFold object\n",
        "str_kf = StratifiedKFold(n_splits=3, shuffle=True, random_state=123)\n",
        "\n",
        "# Loop through each split\n",
        "fold = 0\n",
        "for train_index, test_index in str_kf.split(train, train['interest_level']):\n",
        "    # Obtain training and testing folds\n",
        "    cv_train, cv_test = train.iloc[train_index], train.iloc[test_index]\n",
        "    print('Fold: {}'.format(fold))\n",
        "    print('CV train shape: {}'.format(cv_train.shape))\n",
        "    print('Medium interest listings in CV train: {}\\n'.format(sum(cv_train.interest_level == 'medium')))\n",
        "    fold += 1"
      ],
      "execution_count": null,
      "outputs": []
    },
    {
      "cell_type": "markdown",
      "metadata": {
        "id": "QmIAxXvbrewc"
      },
      "source": [
        "Time K-fold cross-validation"
      ]
    },
    {
      "cell_type": "code",
      "metadata": {
        "id": "lv_O912coruy"
      },
      "source": [
        "# Time K-fold cross-validation \n",
        "# Import TimeSeriesSplit\n",
        "from sklearn.model_selection import TimeSeriesSplit\n",
        "#Create a TimeSeriesSplit object\n",
        "time_kfold=TimeSeriesSplit(n_splits=5)\n",
        "#Sort train by date \n",
        "train=train.sort_values('date')\n",
        "#Loop through each cross-validation split \n",
        "for train_index, test_index in time_kfold.split(train):\n",
        "  cv_train, cv_test=train.iloc[train_index], train.iloc[test_index]"
      ],
      "execution_count": null,
      "outputs": []
    },
    {
      "cell_type": "markdown",
      "metadata": {
        "id": "-R2hp9yYrmkC"
      },
      "source": [
        "Validation pipeline "
      ]
    },
    {
      "cell_type": "code",
      "metadata": {
        "id": "CitOyNiQrbwf"
      },
      "source": [
        "# list for results \n",
        "fold_metrics=[]\n",
        "for train_index, test_index in CV_STRATEGY.split(train):\n",
        "  cv_train, cv_test=train.iloc[train_index], train.iloc[test_index]\n",
        "  #Train a model \n",
        "  model.fit(cv_train)\n",
        "  #Make predictions\n",
        "  predictions=model.predict(cv_test)\n",
        "  #Calculate the metrics\n",
        "  metric=evaluate(cv_test, predictions)\n",
        "  fold_metrics.append(metric)"
      ],
      "execution_count": null,
      "outputs": []
    },
    {
      "cell_type": "markdown",
      "metadata": {
        "id": "PQca4WR4sbVl"
      },
      "source": [
        "Overall validation score "
      ]
    },
    {
      "cell_type": "code",
      "metadata": {
        "id": "c3jJ8rAsseVa"
      },
      "source": [
        "import numpy as np \n",
        "# Simple mean over the folds \n",
        "mean_score=np.mean(fold_metrics)\n",
        "# Overall validation scoe \n",
        "overall_score_minimizing=np.mean(fold_metrics)+np.std(fold_metrics)\n",
        "# Or \n",
        "overall_score_minimizing=np.mean(fold_metrics)-np.std(fold_metrics)"
      ],
      "execution_count": null,
      "outputs": []
    }
  ]
}